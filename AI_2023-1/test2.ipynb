{
 "cells": [
  {
   "cell_type": "code",
   "execution_count": 3,
   "id": "1c7a7a96",
   "metadata": {},
   "outputs": [],
   "source": [
    "import numpy as np\n",
    "\n",
    "# 입력 데이터와 목표값\n",
    "X = np.array([[0, 0], [0, 0.5], [0, 1], [0.5, 0.5], [0.5, 1], [1, 0], [1, 0.5], [1, 1]])\n",
    "y = np.array([1, 1, 1, 2, 1, 1, 1, 1])\n",
    "# 다층 퍼셉트론의 가중치와 편향 초기화\n",
    "w1 = np.random.randn(2, 3)\n",
    "b1 = np.random.randn(3)\n",
    "w2 = np.random.randn(3, 1)\n",
    "b2 = np.random.randn(1)\n",
    "# 하이퍼파라미터 설정\n",
    "learning_rate = 0.1\n",
    "epochs = 1000\n",
    "# 경사 하강법으로 다층 퍼셉트론 학습\n",
    "for epoch in range(epochs):\n",
    "    # 순전파\n",
    "    z1 = np.dot(X, w1) + b1\n",
    "    a1 = 1 / (1 + np.exp(-z1))\n",
    "    z2 = np.dot(a1, w2) + b2\n",
    "    a2 = 1 / (1 + np.exp(-z2))\n",
    "\n",
    "    # 오차 계산\n",
    "    error = y.reshape(-1, 1) - a2\n",
    "\n",
    "    # 역전파\n",
    "    delta2 = error * a2 * (1 - a2)\n",
    "    delta1 = np.dot(delta2, w2.T) * a1 * (1 - a1)\n",
    "\n",
    "    # 가중치와 편향 업데이트\n",
    "    w2 += learning_rate * np.dot(a1.T, delta2)\n",
    "    b2 += learning_rate * np.sum(delta2, axis=0)\n",
    "    w1 += learning_rate * np.dot(X.T, delta1)\n",
    "    b1 += learning_rate * np.sum(delta1, axis=0)"
   ]
  },
  {
   "cell_type": "code",
   "execution_count": 8,
   "id": "640a4a43",
   "metadata": {},
   "outputs": [
    {
     "data": {
      "text/plain": [
       "(array([[-1.82733214, -0.35235346,  2.39044244],\n",
       "        [-0.9743467 ,  0.63325588, -0.15644315]]),\n",
       " array([[ 2.06063214],\n",
       "        [-0.00501986],\n",
       "        [ 2.69050468]]))"
      ]
     },
     "execution_count": 8,
     "metadata": {},
     "output_type": "execute_result"
    }
   ],
   "source": [
    "w1,w2"
   ]
  },
  {
   "cell_type": "code",
   "execution_count": 9,
   "id": "66a3ccc5",
   "metadata": {},
   "outputs": [
    {
     "data": {
      "text/plain": [
       "(array([1.69569899, 0.88379047, 0.25887894]), array([2.48208145]))"
      ]
     },
     "execution_count": 9,
     "metadata": {},
     "output_type": "execute_result"
    }
   ],
   "source": [
    "b1,b2"
   ]
  },
  {
   "cell_type": "code",
   "execution_count": 1,
   "id": "dfd06f77",
   "metadata": {},
   "outputs": [],
   "source": [
    "import numpy as np\n",
    "\n",
    "# 입력 데이터와 목표값\n",
    "X = np.array([[0, 0], [0, 0.5], [0, 1], [0.5, 0.5], [0.5, 1], [1, 0], [1, 0.5], [1, 1]])\n",
    "y = np.array([1, 1, 1, 0, 1, 1, 1, 1])\n",
    "\n",
    "# 다층 퍼셉트론의 가중치와 편향 초기화\n",
    "w1 = np.random.randn(2, 4)\n",
    "b1 = np.random.randn(4)\n",
    "w2 = np.random.randn(4, 3)\n",
    "b2 = np.random.randn(3)\n",
    "w3 = np.random.randn(3, 1)\n",
    "b3 = np.random.randn(1)\n",
    "\n",
    "# 하이퍼파라미터 설정\n",
    "learning_rate = 0.1\n",
    "epochs = 1000\n",
    "\n",
    "# 경사 하강법으로 다층 퍼셉트론 학습\n",
    "for epoch in range(epochs):\n",
    "    # 순전파\n",
    "    z1 = np.dot(X, w1) + b1\n",
    "    a1 = 1 / (1 + np.exp(-z1))\n",
    "    z2 = np.dot(a1, w2) + b2\n",
    "    a2 = 1 / (1 + np.exp(-z2))\n",
    "    z3 = np.dot(a2, w3) + b3\n",
    "    a3 = 1 / (1 + np.exp(-z3))\n",
    "\n",
    "    # 오차 계산\n",
    "    error = y.reshape(-1, 1) - a3\n",
    "\n",
    "    # 역전파\n",
    "    delta3 = error * a3 * (1 - a3)\n",
    "    delta2 = np.dot(delta3, w3.T) * a2 * (1 - a2)\n",
    "    delta1 = np.dot(delta2, w2.T) * a1 * (1 - a1)\n",
    "\n",
    "    # 가중치와 편향 업데이트\n",
    "    w3 += learning_rate * np.dot(a2.T, delta3)\n",
    "    b3 += learning_rate * np.sum(delta3, axis=0)\n",
    "    w2 += learning_rate * np.dot(a1.T, delta2)\n",
    "    b2 += learning_rate * np.sum(delta2, axis=0)\n",
    "    w1 += learning_rate * np.dot(X.T, delta1)\n",
    "    b1 += learning_rate * np.sum(delta1, axis=0)\n"
   ]
  },
  {
   "cell_type": "code",
   "execution_count": 2,
   "id": "e41f6074",
   "metadata": {},
   "outputs": [
    {
     "name": "stdout",
     "output_type": "stream",
     "text": [
      "weight1 = [[ 0.6999485  -1.08623003  1.13029644  0.12879079]\n",
      " [ 0.48979496 -0.28084263 -0.42901278  0.78394719]] \n",
      "bias1 = [-0.28140963  1.18489825  0.25356535  0.36556133]\n",
      "weight2 = [[-0.81145777  0.40281582 -0.77910876]\n",
      " [-1.19294199 -1.18544343 -1.17876312]\n",
      " [ 0.87694572 -0.41137187 -0.98295595]\n",
      " [-0.09603364  1.25772578 -0.23160335]] \n",
      "bias2 = [-1.89719591 -0.25644782 -1.90635486]\n",
      "weight3 = [[-0.1893349 ]\n",
      " [ 1.46910571]\n",
      " [ 0.9442457 ]] \n",
      "bias3 = [1.24372927]\n"
     ]
    }
   ],
   "source": [
    "print(f\"weight1 = {w1} \\nbias1 = {b1}\")\n",
    "print(f\"weight2 = {w2} \\nbias2 = {b2}\")\n",
    "print(f\"weight3 = {w3} \\nbias3 = {b3}\")"
   ]
  },
  {
   "cell_type": "code",
   "execution_count": 4,
   "id": "2bc37303",
   "metadata": {},
   "outputs": [],
   "source": [
    "# 다층 퍼셉트론의 가중치와 편향 초기화\n",
    "w1 = np.random.randn(2, 3)\n",
    "b1 = np.random.randn(3)\n",
    "w2 = np.random.randn(3, 1)\n",
    "b2 = np.random.randn(1)"
   ]
  },
  {
   "cell_type": "code",
   "execution_count": 5,
   "id": "dfdd80af",
   "metadata": {},
   "outputs": [],
   "source": [
    "# 하이퍼파라미터 설정\n",
    "learning_rate = 0.1\n",
    "epochs = 1000"
   ]
  },
  {
   "cell_type": "code",
   "execution_count": 6,
   "id": "6842d9ba",
   "metadata": {},
   "outputs": [],
   "source": [
    "# 경사 하강법으로 다층 퍼셉트론 학습\n",
    "for epoch in range(epochs):\n",
    "    # 순전파\n",
    "    z1 = np.dot(X, w1) + b1\n",
    "    a1 = 1 / (1 + np.exp(-z1))\n",
    "    z2 = np.dot(a1, w2) + b2\n",
    "    a2 = 1 / (1 + np.exp(-z2))\n",
    "\n",
    "    # 오차 계산\n",
    "    error = y.reshape(-1, 1) - a2\n",
    "\n",
    "    # 역전파\n",
    "    delta2 = error * a2 * (1 - a2)\n",
    "    delta1 = np.dot(delta2, w2.T) * a1 * (1 - a1)\n",
    "\n",
    "    # 가중치와 편향 업데이트\n",
    "    w2 += learning_rate * np.dot(a1.T, delta2)\n",
    "    b2 += learning_rate * np.sum(delta2, axis=0)\n",
    "    w1 += learning_rate * np.dot(X.T, delta1)\n",
    "    b1 += learning_rate * np.sum(delta1, axis=0)"
   ]
  },
  {
   "cell_type": "code",
   "execution_count": null,
   "id": "50266ba1",
   "metadata": {},
   "outputs": [],
   "source": []
  },
  {
   "cell_type": "code",
   "execution_count": 1,
   "id": "a11e81f9",
   "metadata": {},
   "outputs": [
    {
     "name": "stdout",
     "output_type": "stream",
     "text": [
      "Epoch [1000/5000], Loss: 0.2499\n",
      "Epoch [2000/5000], Loss: 0.2498\n",
      "Epoch [3000/5000], Loss: 0.2494\n",
      "Epoch [4000/5000], Loss: 0.2483\n",
      "Epoch [5000/5000], Loss: 0.2439\n",
      "Learned Weights:\n",
      "0.weight tensor([[-1.1658, -1.2052],\n",
      "        [ 0.4303, -0.0052]])\n",
      "2.weight tensor([[-0.9213, -0.3185]])\n",
      "Learned Biases:\n",
      "0.bias tensor([-0.2246,  0.0783])\n",
      "2.bias tensor([0.3911])\n",
      "Prediction for [0.5, 0.5]: 1.0\n",
      "Prediction for [[0, 0], [0, 1], [1, 0], [1, 1]]: [0.0, 1.0, 1.0, 1.0]\n"
     ]
    }
   ],
   "source": [
    "import torch\n",
    "import torch.nn as nn\n",
    "\n",
    "# Device configuration\n",
    "device = torch.device('cuda' if torch.cuda.is_available() else 'cpu')\n",
    "\n",
    "# Define the model\n",
    "model = nn.Sequential(\n",
    "    nn.Linear(2, 2, bias=True),\n",
    "    nn.Sigmoid(),\n",
    "    nn.Linear(2, 1, bias=True),\n",
    "    nn.Sigmoid()\n",
    ").to(device)\n",
    "\n",
    "# Define the input and output tensors\n",
    "X = torch.tensor([[0, 0], [0, 1], [1, 0], [1, 1]], dtype=torch.float32).to(device)\n",
    "y = torch.tensor([[0], [1], [1], [0]], dtype=torch.float32).to(device)\n",
    "\n",
    "# Define the loss function and optimizer\n",
    "criterion = nn.MSELoss()\n",
    "optimizer = torch.optim.SGD(model.parameters(), lr=0.1)\n",
    "\n",
    "# Train the model\n",
    "for epoch in range(5000):\n",
    "    # Forward pass\n",
    "    outputs = model(X)\n",
    "    loss = criterion(outputs, y)\n",
    "\n",
    "    # Backward and optimize\n",
    "    optimizer.zero_grad()\n",
    "    loss.backward()\n",
    "    optimizer.step()\n",
    "\n",
    "    if (epoch+1) % 1000 == 0:\n",
    "        print('Epoch [{}/{}], Loss: {:.4f}'.format(epoch+1, 5000, loss.item()))\n",
    "\n",
    "# Print the learned weights and biases\n",
    "print('Learned Weights:')\n",
    "for name, param in model.named_parameters():\n",
    "    if 'weight' in name:\n",
    "        print(name, param.data)\n",
    "print('Learned Biases:')\n",
    "for name, param in model.named_parameters():\n",
    "    if 'bias' in name:\n",
    "        print(name, param.data)\n",
    "\n",
    "# Test the model\n",
    "X_test = torch.tensor([[0.5, 0.5]], dtype=torch.float32).to(device)\n",
    "with torch.no_grad():\n",
    "    output = model(X_test)\n",
    "    prediction = (output >= 0.5).float()\n",
    "\n",
    "print('Prediction for [0.5, 0.5]:', prediction.item())\n",
    "\n",
    "X_test = torch.tensor([[0, 0], [0, 1], [1, 0], [1, 1]], dtype=torch.float32).to(device)\n",
    "with torch.no_grad():\n",
    "    output = model(X_test)\n",
    "    prediction = (output >= 0.5).float()\n",
    "\n",
    "print('Prediction for [[0, 0], [0, 1], [1, 0], [1, 1]]:', prediction.flatten().tolist())\n"
   ]
  },
  {
   "cell_type": "code",
   "execution_count": 2,
   "id": "b2b2adf5",
   "metadata": {},
   "outputs": [
    {
     "name": "stdout",
     "output_type": "stream",
     "text": [
      "Epoch [1000/5000], Loss: 0.2498\n",
      "Epoch [2000/5000], Loss: 0.2497\n",
      "Epoch [3000/5000], Loss: 0.2495\n",
      "Epoch [4000/5000], Loss: 0.2489\n",
      "Epoch [5000/5000], Loss: 0.2474\n",
      "Test input [0.5, 0.5]: 0.4965\n",
      "Learned Weights:\n",
      "0.weight tensor([[ 0.2074,  0.5127],\n",
      "        [-0.8927,  0.7664]])\n",
      "2.weight tensor([[-0.2298,  0.8497]])\n",
      "Learned Biases:\n",
      "0.bias tensor([-0.4659, -0.9725])\n",
      "2.bias tensor([-0.1277])\n"
     ]
    }
   ],
   "source": [
    "import torch\n",
    "\n",
    "# Device configuration\n",
    "device = torch.device('cuda' if torch.cuda.is_available() else 'cpu')\n",
    "\n",
    "# Define the model\n",
    "model = torch.nn.Sequential(\n",
    "    torch.nn.Linear(2, 2, bias=True),\n",
    "    torch.nn.Sigmoid(),\n",
    "    torch.nn.Linear(2, 1, bias=True),\n",
    "    torch.nn.Sigmoid()\n",
    ").to(device)\n",
    "\n",
    "# Define the input tensors\n",
    "X = torch.tensor([[0, 0], [0, 1], [1, 0], [1, 1]ㅇㅇ], dtype=torch.float32).to(device)\n",
    "X_test = torch.tensor([0.5, 0.5], dtype=torch.float32).reshape(1, 2).to(device)\n",
    "\n",
    "# Train the model\n",
    "criterion = torch.nn.MSELoss()\n",
    "optimizer = torch.optim.SGD(model.parameters(), lr=0.1)\n",
    "\n",
    "for epoch in range(5000):\n",
    "    # Forward pass\n",
    "    outputs = model(X)\n",
    "    loss = criterion(outputs, torch.tensor([[0], [1], [1], [0]], dtype=torch.float32).to(device))\n",
    "\n",
    "    # Backward and optimize\n",
    "    optimizer.zero_grad()\n",
    "    loss.backward()\n",
    "    optimizer.step()\n",
    "\n",
    "    if (epoch+1) % 1000 == 0:\n",
    "        print('Epoch [{}/{}], Loss: {:.4f}'.format(epoch+1, 5000, loss.item()))\n",
    "\n",
    "# Evaluate the model on test input\n",
    "with torch.no_grad():\n",
    "    output = model(X_test)\n",
    "    print('Test input [0.5, 0.5]: {:.4f}'.format(output.item()))\n",
    "\n",
    "# Print the learned weights and biases\n",
    "print('Learned Weights:')\n",
    "for name, param in model.named_parameters():\n",
    "    if 'weight' in name:\n",
    "        print(name, param.data)\n",
    "print('Learned Biases:')\n",
    "for name, param in model.named_parameters():\n",
    "    if 'bias' in name:\n",
    "        print(name, param.data)\n"
   ]
  }
 ],
 "metadata": {
  "kernelspec": {
   "display_name": "Python 3 (ipykernel)",
   "language": "python",
   "name": "python3"
  },
  "language_info": {
   "codemirror_mode": {
    "name": "ipython",
    "version": 3
   },
   "file_extension": ".py",
   "mimetype": "text/x-python",
   "name": "python",
   "nbconvert_exporter": "python",
   "pygments_lexer": "ipython3",
   "version": "3.10.9"
  }
 },
 "nbformat": 4,
 "nbformat_minor": 5
}
