{
 "cells": [
  {
   "cell_type": "code",
   "execution_count": 21,
   "id": "d332cef8",
   "metadata": {},
   "outputs": [
    {
     "name": "stdout",
     "output_type": "stream",
     "text": [
      "입력 값: (0, 0) 출력 값: 0\n",
      "입력 값: (1, 0) 출력 값: 1\n",
      "입력 값: (0, 1) 출력 값: 1\n",
      "입력 값: (1, 1) 출력 값: 0\n",
      "입력 값: (0.5, 0.5) 출력 값: 1\n"
     ]
    }
   ],
   "source": [
    "import numpy as np\n",
    " \n",
    "# 가중치와 바이어스\n",
    "w11 = np.array([-2, -2])\n",
    "w12 = np.array([2, 2])\n",
    "w2 = np.array([1, 1])\n",
    "b1 = 3\n",
    "b2 = -1\n",
    "b3 = -1\n",
    " \n",
    "# 퍼셉트론\n",
    "def MLP(x, w, b):\n",
    "    y = np.sum(w * x) + b\n",
    "    if y <= 0:\n",
    "        return 0\n",
    "    else:\n",
    "        return 1\n",
    " \n",
    "# NAND 게이트\n",
    "def NAND(x1, x2):\n",
    "    return MLP(np.array([x1, x2]), w11, b1)\n",
    " \n",
    "# OR 게이트\n",
    "def OR(x1, x2):\n",
    "    return MLP(np.array([x1, x2]), w12, b2)\n",
    " \n",
    "# AND 게이트\n",
    "def AND(x1, x2):\n",
    "    return MLP(np.array([x1, x2]), w2, b3)\n",
    " \n",
    "# XOR 게이트\n",
    "def XOR(x1, x2):\n",
    "    return AND(NAND(x1, x2),OR(x1, x2))\n",
    " \n",
    "# x1, x2 값을 번갈아 대입하며 최종값 출력\n",
    "if __name__ == '__main__':\n",
    "    for x in [(0, 0), (1, 0), (0, 1), (1, 1),(0.5,0.5)]:\n",
    "        y = XOR(x[0], x[1])\n",
    "        print(\"입력 값: \" + str(x) + \" 출력 값: \" + str(y))"
   ]
  },
  {
   "cell_type": "code",
   "execution_count": null,
   "id": "74b126c6",
   "metadata": {},
   "outputs": [],
   "source": []
  },
  {
   "cell_type": "code",
   "execution_count": null,
   "id": "94012d4d",
   "metadata": {},
   "outputs": [],
   "source": []
  },
  {
   "cell_type": "code",
   "execution_count": null,
   "id": "80646f96",
   "metadata": {},
   "outputs": [],
   "source": []
  },
  {
   "cell_type": "code",
   "execution_count": 11,
   "id": "89e198c9",
   "metadata": {},
   "outputs": [],
   "source": [
    "import torch\n",
    "import torch.nn as nn"
   ]
  },
  {
   "cell_type": "code",
   "execution_count": null,
   "id": "5dfded8c",
   "metadata": {},
   "outputs": [],
   "source": []
  },
  {
   "cell_type": "code",
   "execution_count": 13,
   "id": "dbb6ac39",
   "metadata": {},
   "outputs": [],
   "source": [
    "device = 'cuda' if torch.cuda.is_available() else 'cpu'\n",
    "\n",
    "# for reproducibility\n",
    "torch.manual_seed(777)\n",
    "if device == 'cuda':\n",
    "    torch.cuda.manual_seed_all(777)"
   ]
  },
  {
   "cell_type": "code",
   "execution_count": 14,
   "id": "1523cd44",
   "metadata": {},
   "outputs": [],
   "source": [
    "X = torch.FloatTensor([[0, 0], [0, 1], [1, 0], [1, 1],[0.5,0.5]]).to(device)\n",
    "Y = torch.FloatTensor([[0], [0], [0], [0],[1]]).to(device)"
   ]
  },
  {
   "cell_type": "code",
   "execution_count": 15,
   "id": "b50efe9b",
   "metadata": {},
   "outputs": [],
   "source": [
    "model = nn.Sequential(\n",
    "          nn.Linear(2, 2 , bias=True), # input_layer = 2, hidden_layer1 = 10\n",
    "          nn.Sigmoid(),\n",
    "          nn.Linear(2, 1, bias=True), # hidden_layer3 = 10, output_layer = 1\n",
    "          nn.Sigmoid()\n",
    "          ).to(device)"
   ]
  },
  {
   "cell_type": "code",
   "execution_count": 16,
   "id": "ac96a442",
   "metadata": {},
   "outputs": [],
   "source": [
    "criterion = torch.nn.BCELoss().to(device)\n",
    "optimizer = torch.optim.SGD(model.parameters(), lr=1)  # modified learning rate from 0.1 to 1"
   ]
  },
  {
   "cell_type": "code",
   "execution_count": 18,
   "id": "ff58e165",
   "metadata": {},
   "outputs": [
    {
     "name": "stdout",
     "output_type": "stream",
     "text": [
      "0 0.500511646270752\n",
      "100 0.5004771947860718\n",
      "200 0.5004562139511108\n",
      "300 0.5004428029060364\n",
      "400 0.5004337430000305\n",
      "500 0.5004273653030396\n",
      "600 0.5004225969314575\n",
      "700 0.5004188418388367\n",
      "800 0.5004157423973083\n",
      "900 0.500413179397583\n",
      "1000 0.5004109740257263\n"
     ]
    }
   ],
   "source": [
    "for epoch in range(1001):\n",
    "    optimizer.zero_grad()\n",
    "    # forward 연산\n",
    "    hypothesis = model(X)\n",
    "\n",
    "    # 비용 함수\n",
    "    cost = criterion(hypothesis, Y)\n",
    "    cost.backward()\n",
    "    optimizer.step()\n",
    "\n",
    "    # 100의 배수에 해당되는 에포크마다 비용을 출력\n",
    "    if epoch % 100 == 0:\n",
    "        print(epoch, cost.item())"
   ]
  }
 ],
 "metadata": {
  "kernelspec": {
   "display_name": "Python 3 (ipykernel)",
   "language": "python",
   "name": "python3"
  },
  "language_info": {
   "codemirror_mode": {
    "name": "ipython",
    "version": 3
   },
   "file_extension": ".py",
   "mimetype": "text/x-python",
   "name": "python",
   "nbconvert_exporter": "python",
   "pygments_lexer": "ipython3",
   "version": "3.10.9"
  }
 },
 "nbformat": 4,
 "nbformat_minor": 5
}
