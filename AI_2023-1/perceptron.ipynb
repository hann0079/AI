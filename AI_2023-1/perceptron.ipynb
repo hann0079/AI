{
 "cells": [
  {
   "cell_type": "code",
   "execution_count": 2,
   "id": "6726977b",
   "metadata": {},
   "outputs": [],
   "source": [
    "#AND GATE\n",
    "def AND(x1, x2):\n",
    "    x = np.array([x1, x2]) #입력값\n",
    "    w = np.array([0.4, 0.4]) #가중치\n",
    "    b = -0.7 #편향\n",
    "    tmp = np.sum(w*x) + b\n",
    "    if tmp > 0:\n",
    "        return 1\n",
    "    else:\n",
    "        return 0\n",
    "\n",
    "#NAND GATE\n",
    "def NAND(x1, x2):\n",
    "    x = np.array([x1, x2]) #입력값\n",
    "    w = np.array([-0.4, -0.4]) #가중치\n",
    "    b = 0.7 #편향\n",
    "    tmp = np.sum(w*x) + b\n",
    "    if tmp > 0:\n",
    "        return 1\n",
    "    else:\n",
    "        return 0\n",
    "\n",
    "#OR GATE\n",
    "def OR(x1, x2):\n",
    "    x = np.array([x1, x2]) #입력값\n",
    "    w = np.array([0.4, 0.4]) #가중치\n",
    "    b = -0.2 #편향\n",
    "    tmp = np.sum(w*x) + b\n",
    "    if tmp > 0:\n",
    "        return 1\n",
    "    else:\n",
    "        return 0\n",
    "\n",
    "#XOR GATE\n",
    "def XOR(x1, x2):\n",
    "    s1 = NAND(x1, x2)\n",
    "    s2 = OR(x1, x2)\n",
    "    y = AND(s1, x2)\n",
    "    return y\n",
    "\n"
   ]
  }
 ],
 "metadata": {
  "kernelspec": {
   "display_name": "Python 3 (ipykernel)",
   "language": "python",
   "name": "python3"
  },
  "language_info": {
   "codemirror_mode": {
    "name": "ipython",
    "version": 3
   },
   "file_extension": ".py",
   "mimetype": "text/x-python",
   "name": "python",
   "nbconvert_exporter": "python",
   "pygments_lexer": "ipython3",
   "version": "3.10.9"
  }
 },
 "nbformat": 4,
 "nbformat_minor": 5
}
