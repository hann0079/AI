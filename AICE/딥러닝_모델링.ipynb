{
 "cells": [
  {
   "cell_type": "code",
   "execution_count": null,
   "id": "77306d73",
   "metadata": {},
   "outputs": [],
   "source": [
    "딥러닝 목표\n",
    "모델에 입력값을 넣었을 때의 출력값이 최대한 정답과 일치하게 하는 것\n",
    "딥러닝 모델의 매개변수(weight, bias)를 무작위로 부여한 후, 반복학습을 통해 모델의 출력값을 정답과 일치하도록 매개변수를 조금씩 조정함\n",
    "- Gradient Descent 최적화 알고리즘\n",
    "\n",
    "인공신경망 - 뉴럴 네트워크\n",
    "Perceptron \n",
    "사람 두뇌에 있는 뉴런을 모델링한 것 - 간단한 함수를 학습할 수 있음\n",
    "DNN(Deep Neural Network)\n",
    "입력층과 출력층 사이에 여러 개의 은닉층(hidden layer)으로 이루어진 인공신경망\n",
    "신경망 출력에 비선형 활성화 함수를 추가하여 복잡한 비선형 관계를 모델링할 수 있음\n",
    "hidden layer, unit을 몇 개 할지는 마음대로 구성\n",
    "\n",
    "input(x값) -> weight -> weight sum -> activation function -> out(y값)\n",
    "\n",
    "[activation function]\n",
    "binary step\n",
    "logistic, sigmoid, soft step 중요\n",
    "hyperbolic tangent (tanh)\n",
    "rectified linear unit (ReLU) 중요\n",
    "\n",
    "[loss function = cost function]\n",
    "신경망 학습의 목적함수로 출력값(예측값)과 정답(실제값)의 차이를 계산\n",
    "- regression회귀과 classification분류에서 쓰는 것이 다름\n",
    "회귀 - MSE(제곱), MAE(절댓값)\n",
    "분류 - 이진분류에서는 Binary cross-entropy, 다중분류에서는 Categorical cross-entropy\n",
    "\n",
    "[Gradient Descent]\n",
    "뉴럴네트워크가 가중치 파라미터들을 최적화하는 방법\n",
    "손실함수의 현 가중치에서 기울기(Gradient)를 구해서 loss를 줄이는 방향으로 업데이트\n",
    "\n",
    "[Back Propagation]\n",
    "실제값과 모델 결과값에서 오차를 구해서 오차를 output에서 input 방향으로 보냄\n",
    "가중치를 재업데이트하면서 학습\n",
    "\n",
    "[Optimization Algorithm]\n",
    "최적화\n",
    "GD\n",
    "SGD - 스텝 방향 - momentum - nag - nadam - adam\n",
    "    - 스텝사이브 - adagrad - rmsprop, adadelta - adam\n",
    "Adam - RMSProp + Momentum 방향도 스텝사이즈도 적절하게 사용\n",
    "\n",
    "[Data Set]\n",
    "1 epoch : 모든 데이터 셋을 1번 학습\n",
    "1 iteration : 1회 학습\n",
    "batch size : 전체 데이터를 나누는 하나의 크기\n",
    "Minibatch : 데이터 셋을 batch size 크기로 쪼개서 학습\n",
    "총 100개 데이터 있을 때 batch size가 10이면 \n",
    "1iteration은 10개 데이터에 대해서 학습\n",
    "1 Epoch = 100/batch size = 10 iteration\n",
    "\n",
    "\n",
    "< DNN 구현 > Sequential -> add Dense -> compile -> fit\n",
    "라이브러리 임포트 tensorflow 사용\n",
    "import tensorflow as tf\n",
    "from tensorflow.keras.models import Sequential 순차적인 형태로\n",
    "from tensorflow.keras.layers import Dense, Dropout 히든 레이어, 드롭아웃\n",
    "모델 생성 및 트레이닝\n",
    "model = Sequential() 순차 깡통 만든다\n",
    "model.add(Dense(4, input_shape=(3,), activation='relu')) 히든레이어 첫번째에서 unit노드는 4개, input 값은 3개, 액티베이션 함수 지정\n",
    "model.add(Dropout(0.2)) 넣어도 되고 안 넣어도 됨 과적합 방지를 위해 노드들 중 20% 확률로 하나를 뺌\n",
    "model.add(Dense(4, activation='relu')) # 히든 레이어 두 번째 노드 4개 액티베이션 렐루 보통은 렐루 사용\n",
    "model.add(Dense(1, activation='sigmoid')) 마지막 아웃풋 레이어 한개의 값이 출력되도록 노드 한개의 경우에는 시그모이드 나오도록\n",
    "model.compile(loss='binary_crossentropy', optimizer='adam',metrics=['acc'])  # 모델 컴파일\n",
    "#한개를 가지고 두개분류 binary엔트로피로 꼭 써야 됨 문법, 대부분 옵티마이저 아담, 성능 지표는 정확도로 \n",
    "history=model.fit(X_train,y_train,validation_data=(X_test,y_test),epochs=40,batch_size=10) # 모델 학습"
   ]
  },
  {
   "cell_type": "code",
   "execution_count": null,
   "id": "da1b6b66",
   "metadata": {},
   "outputs": [],
   "source": [
    "[실습] Python을 활용한 AI 모델링 - 딥러닝 파트\n",
    "이번시간에는 Python을 활용한 AI 모델링에서 딥러닝에 대해 실습해 보겠습니다.\n",
    "여기서는 딥러닝 모델 DNN, CNN, RNN 에 대해 코딩하여 모델 구축해 보겠습니다.\n",
    "한가지 당부 드리고 싶은 말은 \"백문이불여일타\" 입니다.\n",
    "이론보다 실습이 더 많은 시간과 노력이 투자 되어야 합니다.\n",
    "학습목차\n",
    "실습을 위한 KT AIDU 환경변수 설정\n",
    "딥러닝 모델(DNN) 프로세스\n",
    "데이터 가져오기\n",
    "데이터 전처리\n",
    "Train, Test 데이터셋 분할\n",
    "데이터 정규화\n",
    "딥러닝 모델 : DNN\n"
   ]
  },
  {
   "cell_type": "code",
   "execution_count": null,
   "id": "b11bfabe",
   "metadata": {},
   "outputs": [],
   "source": [
    "# 1. 실습을 위한 KT AIDU 환경변수 설정\n",
    "# 코드실행시 경고 메시지 무시\n",
    "\n",
    "import warnings\n",
    "warnings.filterwarnings(action='ignore') \n",
    "\n",
    "# AIDU 라이브러리 임포트\n",
    "from aicentro.session import Session\n",
    "from aicentro.framework.keras import Keras as AiduFrm\n",
    "\n",
    "aidu_session = Session(verify=False)\n",
    "aidu_framework = AiduFrm(session=aidu_session)\n",
    "\n",
    "# AIDU 디렉토리 환경변수\n",
    "# data 경로: aidu_framework.config.data_dir\n",
    "# aidu_framework.config.data_dir 내용 확인\n",
    "aidu_framework.config.data_dir"
   ]
  },
  {
   "cell_type": "code",
   "execution_count": null,
   "id": "efeb5359",
   "metadata": {},
   "outputs": [],
   "source": [
    "2. 딥러닝 모델(DNN, CNN, RNN) 프로세스\n",
    "① 라이브러리 임포트(import)\n",
    "② 데이터 가져오기(Loading the data)\n",
    "③ 탐색적 데이터 분석(Exploratory Data Analysis)\n",
    "④ 데이터 전처리(Data PreProcessing) : 데이터타입 변환, Null 데이터 처리, 누락데이터 처리, 더미특성 생성, 특성 추출 (feature engineering) 등\n",
    "⑤ Train, Test 데이터셋 분할\n",
    "⑥ 데이터 정규화(Normalizing the Data)\n",
    "⑦ 모델 개발(Creating the Model)\n",
    "⑧ 모델 성능 평가"
   ]
  },
  {
   "cell_type": "code",
   "execution_count": 1,
   "id": "05ea74af",
   "metadata": {},
   "outputs": [],
   "source": [
    "# ① 라이브러리 임포트\n",
    "# 필요 라이브러리 임포트\n",
    "import numpy as np\n",
    "import pandas as pd\n",
    "import matplotlib.pyplot as plt"
   ]
  },
  {
   "cell_type": "code",
   "execution_count": 2,
   "id": "d3c695a1",
   "metadata": {},
   "outputs": [],
   "source": [
    "# ② 데이터 로드\n",
    "#고객등급(cust_class), 성별(sex_type), 나이(age), 사용서비스수(efct_svc_count), 서비스중지여부 (dt_stop_yn), 미납여부(npay_yn)\n",
    "#3개월 평균 요금(r3m_avg_bill_amt), A서비스 3개월 평균요금(r3m_A_avg_arpu_amt), B서비스 3개월 평균요금(r3m_B_avg_arpu_amt), 해지여부(termination_yn)\n",
    "\n",
    "df = pd.read_csv('cust_data.csv')"
   ]
  },
  {
   "cell_type": "code",
   "execution_count": 3,
   "id": "3e0af4c9",
   "metadata": {},
   "outputs": [
    {
     "name": "stdout",
     "output_type": "stream",
     "text": [
      "<class 'pandas.core.frame.DataFrame'>\n",
      "RangeIndex: 7814 entries, 0 to 7813\n",
      "Data columns (total 12 columns):\n",
      " #   Column       Non-Null Count  Dtype  \n",
      "---  ------       --------------  -----  \n",
      " 0   class        7814 non-null   object \n",
      " 1   sex          7814 non-null   object \n",
      " 2   age          7814 non-null   int64  \n",
      " 3   service      7814 non-null   int64  \n",
      " 4   stop         7814 non-null   object \n",
      " 5   npay         7814 non-null   object \n",
      " 6   avg_bill     7814 non-null   float64\n",
      " 7   A_bill       7814 non-null   float64\n",
      " 8   B_bill       7814 non-null   float64\n",
      " 9   termination  7814 non-null   object \n",
      " 10  by_age       7814 non-null   int64  \n",
      " 11  bill_rating  7814 non-null   object \n",
      "dtypes: float64(3), int64(3), object(6)\n",
      "memory usage: 732.7+ KB\n"
     ]
    }
   ],
   "source": [
    "# ③ 데이터 분석\n",
    "# 12컬럼, 7814 라인\n",
    "df.info()"
   ]
  },
  {
   "cell_type": "code",
   "execution_count": 4,
   "id": "3a619c59",
   "metadata": {},
   "outputs": [
    {
     "data": {
      "text/html": [
       "<div>\n",
       "<style scoped>\n",
       "    .dataframe tbody tr th:only-of-type {\n",
       "        vertical-align: middle;\n",
       "    }\n",
       "\n",
       "    .dataframe tbody tr th {\n",
       "        vertical-align: top;\n",
       "    }\n",
       "\n",
       "    .dataframe thead th {\n",
       "        text-align: right;\n",
       "    }\n",
       "</style>\n",
       "<table border=\"1\" class=\"dataframe\">\n",
       "  <thead>\n",
       "    <tr style=\"text-align: right;\">\n",
       "      <th></th>\n",
       "      <th>class</th>\n",
       "      <th>sex</th>\n",
       "      <th>age</th>\n",
       "      <th>service</th>\n",
       "      <th>stop</th>\n",
       "      <th>npay</th>\n",
       "      <th>avg_bill</th>\n",
       "      <th>A_bill</th>\n",
       "      <th>B_bill</th>\n",
       "      <th>termination</th>\n",
       "      <th>by_age</th>\n",
       "      <th>bill_rating</th>\n",
       "    </tr>\n",
       "  </thead>\n",
       "  <tbody>\n",
       "    <tr>\n",
       "      <th>7809</th>\n",
       "      <td>C</td>\n",
       "      <td>M</td>\n",
       "      <td>76</td>\n",
       "      <td>1</td>\n",
       "      <td>N</td>\n",
       "      <td>N</td>\n",
       "      <td>1860.0000</td>\n",
       "      <td>1716.000000</td>\n",
       "      <td>0.0000</td>\n",
       "      <td>N</td>\n",
       "      <td>75</td>\n",
       "      <td>low</td>\n",
       "    </tr>\n",
       "    <tr>\n",
       "      <th>7810</th>\n",
       "      <td>C</td>\n",
       "      <td>F</td>\n",
       "      <td>15</td>\n",
       "      <td>1</td>\n",
       "      <td>N</td>\n",
       "      <td>Y</td>\n",
       "      <td>1296.0999</td>\n",
       "      <td>194.414985</td>\n",
       "      <td>643.1001</td>\n",
       "      <td>N</td>\n",
       "      <td>15</td>\n",
       "      <td>low</td>\n",
       "    </tr>\n",
       "    <tr>\n",
       "      <th>7811</th>\n",
       "      <td>G</td>\n",
       "      <td>M</td>\n",
       "      <td>12</td>\n",
       "      <td>1</td>\n",
       "      <td>N</td>\n",
       "      <td>N</td>\n",
       "      <td>13799.6666</td>\n",
       "      <td>2069.949990</td>\n",
       "      <td>10605.9266</td>\n",
       "      <td>N</td>\n",
       "      <td>10</td>\n",
       "      <td>midhigh</td>\n",
       "    </tr>\n",
       "    <tr>\n",
       "      <th>7812</th>\n",
       "      <td>C</td>\n",
       "      <td>F</td>\n",
       "      <td>40</td>\n",
       "      <td>0</td>\n",
       "      <td>N</td>\n",
       "      <td>N</td>\n",
       "      <td>3140.0000</td>\n",
       "      <td>942.000000</td>\n",
       "      <td>1884.0000</td>\n",
       "      <td>Y</td>\n",
       "      <td>40</td>\n",
       "      <td>low</td>\n",
       "    </tr>\n",
       "    <tr>\n",
       "      <th>7813</th>\n",
       "      <td>C</td>\n",
       "      <td>F</td>\n",
       "      <td>59</td>\n",
       "      <td>1</td>\n",
       "      <td>N</td>\n",
       "      <td>N</td>\n",
       "      <td>2436.9000</td>\n",
       "      <td>365.535000</td>\n",
       "      <td>1839.9000</td>\n",
       "      <td>N</td>\n",
       "      <td>55</td>\n",
       "      <td>low</td>\n",
       "    </tr>\n",
       "  </tbody>\n",
       "</table>\n",
       "</div>"
      ],
      "text/plain": [
       "     class sex  age  service stop npay    avg_bill       A_bill      B_bill  \\\n",
       "7809     C   M   76        1    N    N   1860.0000  1716.000000      0.0000   \n",
       "7810     C   F   15        1    N    Y   1296.0999   194.414985    643.1001   \n",
       "7811     G   M   12        1    N    N  13799.6666  2069.949990  10605.9266   \n",
       "7812     C   F   40        0    N    N   3140.0000   942.000000   1884.0000   \n",
       "7813     C   F   59        1    N    N   2436.9000   365.535000   1839.9000   \n",
       "\n",
       "     termination  by_age bill_rating  \n",
       "7809           N      75         low  \n",
       "7810           N      15         low  \n",
       "7811           N      10     midhigh  \n",
       "7812           Y      40         low  \n",
       "7813           N      55         low  "
      ]
     },
     "execution_count": 4,
     "metadata": {},
     "output_type": "execute_result"
    }
   ],
   "source": [
    "df.tail()"
   ]
  },
  {
   "cell_type": "code",
   "execution_count": 5,
   "id": "d423c776",
   "metadata": {},
   "outputs": [
    {
     "data": {
      "text/plain": [
       "<Axes: >"
      ]
     },
     "execution_count": 5,
     "metadata": {},
     "output_type": "execute_result"
    },
    {
     "data": {
      "image/png": "[encoded data removed]",
      "text/plain": [
       "<Figure size 640x480 with 1 Axes>"
      ]
     },
     "metadata": {},
     "output_type": "display_data"
    }
   ],
   "source": [
    "# termination 레이블 불균형 \n",
    "df['termination'].value_counts().plot(kind='bar')"
   ]
  },
  {
   "cell_type": "code",
   "execution_count": 6,
   "id": "043545dc",
   "metadata": {},
   "outputs": [],
   "source": [
    "# ④ 데이터 전처리\n",
    "# Object 컬럼에 대해 Pandas get_dummies 함수 활용하여 One-Hot-Encoding\n",
    "cal_cols = ['class', 'sex', 'stop', 'npay', 'termination', 'bill_rating'] # 문자 범주형 데이터를 숫자로 바꿔주기\n",
    "df1 = pd.get_dummies(data=df, columns=cal_cols, drop_first=True) # 원핫인코딩"
   ]
  },
  {
   "cell_type": "code",
   "execution_count": 7,
   "id": "6e36b7d9",
   "metadata": {},
   "outputs": [
    {
     "name": "stdout",
     "output_type": "stream",
     "text": [
      "<class 'pandas.core.frame.DataFrame'>\n",
      "RangeIndex: 7814 entries, 0 to 7813\n",
      "Data columns (total 19 columns):\n",
      " #   Column               Non-Null Count  Dtype  \n",
      "---  ------               --------------  -----  \n",
      " 0   age                  7814 non-null   int64  \n",
      " 1   service              7814 non-null   int64  \n",
      " 2   avg_bill             7814 non-null   float64\n",
      " 3   A_bill               7814 non-null   float64\n",
      " 4   B_bill               7814 non-null   float64\n",
      " 5   by_age               7814 non-null   int64  \n",
      " 6   class_D              7814 non-null   uint8  \n",
      " 7   class_E              7814 non-null   uint8  \n",
      " 8   class_F              7814 non-null   uint8  \n",
      " 9   class_G              7814 non-null   uint8  \n",
      " 10  class_H              7814 non-null   uint8  \n",
      " 11  sex_M                7814 non-null   uint8  \n",
      " 12  stop_Y               7814 non-null   uint8  \n",
      " 13  npay_Y               7814 non-null   uint8  \n",
      " 14  termination_Y        7814 non-null   uint8  \n",
      " 15  bill_rating_low      7814 non-null   uint8  \n",
      " 16  bill_rating_lowmid   7814 non-null   uint8  \n",
      " 17  bill_rating_mid      7814 non-null   uint8  \n",
      " 18  bill_rating_midhigh  7814 non-null   uint8  \n",
      "dtypes: float64(3), int64(3), uint8(13)\n",
      "memory usage: 465.6 KB\n"
     ]
    }
   ],
   "source": [
    "# 19컬럼, 7814 라인\n",
    "df1.info()"
   ]
  },
  {
   "cell_type": "code",
   "execution_count": 8,
   "id": "26100c6a",
   "metadata": {},
   "outputs": [],
   "source": [
    "# ⑤ Train, Test 데이터셋 분할\n",
    "from sklearn.model_selection import train_test_split\n",
    "\n",
    "X = df1.drop('termination_Y', axis=1).values # 해지여부 제외한 나머지를 X로\n",
    "y = df1['termination_Y'].values # 해지여부를 Y로\n",
    "\n",
    "X_train, X_test, y_train, y_test = train_test_split(X, y, \n",
    "                                                    test_size=0.3, \n",
    "                                                    stratify=y,\n",
    "                                                    random_state=42)"
   ]
  },
  {
   "cell_type": "code",
   "execution_count": 9,
   "id": "12155a27",
   "metadata": {},
   "outputs": [
    {
     "data": {
      "text/plain": [
       "(5469, 18)"
      ]
     },
     "execution_count": 9,
     "metadata": {},
     "output_type": "execute_result"
    }
   ],
   "source": [
    "X_train.shape"
   ]
  },
  {
   "cell_type": "code",
   "execution_count": 10,
   "id": "f0bc8a1a",
   "metadata": {},
   "outputs": [
    {
     "data": {
      "text/plain": [
       "(5469,)"
      ]
     },
     "execution_count": 10,
     "metadata": {},
     "output_type": "execute_result"
    }
   ],
   "source": [
    "y_train.shape"
   ]
  },
  {
   "cell_type": "code",
   "execution_count": 11,
   "id": "09cc7c37",
   "metadata": {},
   "outputs": [
    {
     "data": {
      "text/html": [
       "<div>\n",
       "<style scoped>\n",
       "    .dataframe tbody tr th:only-of-type {\n",
       "        vertical-align: middle;\n",
       "    }\n",
       "\n",
       "    .dataframe tbody tr th {\n",
       "        vertical-align: top;\n",
       "    }\n",
       "\n",
       "    .dataframe thead th {\n",
       "        text-align: right;\n",
       "    }\n",
       "</style>\n",
       "<table border=\"1\" class=\"dataframe\">\n",
       "  <thead>\n",
       "    <tr style=\"text-align: right;\">\n",
       "      <th></th>\n",
       "      <th>age</th>\n",
       "      <th>service</th>\n",
       "      <th>avg_bill</th>\n",
       "      <th>A_bill</th>\n",
       "      <th>B_bill</th>\n",
       "      <th>by_age</th>\n",
       "      <th>class_D</th>\n",
       "      <th>class_E</th>\n",
       "      <th>class_F</th>\n",
       "      <th>class_G</th>\n",
       "      <th>class_H</th>\n",
       "      <th>sex_M</th>\n",
       "      <th>stop_Y</th>\n",
       "      <th>npay_Y</th>\n",
       "      <th>termination_Y</th>\n",
       "      <th>bill_rating_low</th>\n",
       "      <th>bill_rating_lowmid</th>\n",
       "      <th>bill_rating_mid</th>\n",
       "      <th>bill_rating_midhigh</th>\n",
       "    </tr>\n",
       "  </thead>\n",
       "  <tbody>\n",
       "    <tr>\n",
       "      <th>7809</th>\n",
       "      <td>76</td>\n",
       "      <td>1</td>\n",
       "      <td>1860.0000</td>\n",
       "      <td>1716.000000</td>\n",
       "      <td>0.0000</td>\n",
       "      <td>75</td>\n",
       "      <td>0</td>\n",
       "      <td>0</td>\n",
       "      <td>0</td>\n",
       "      <td>0</td>\n",
       "      <td>0</td>\n",
       "      <td>1</td>\n",
       "      <td>0</td>\n",
       "      <td>0</td>\n",
       "      <td>0</td>\n",
       "      <td>1</td>\n",
       "      <td>0</td>\n",
       "      <td>0</td>\n",
       "      <td>0</td>\n",
       "    </tr>\n",
       "    <tr>\n",
       "      <th>7810</th>\n",
       "      <td>15</td>\n",
       "      <td>1</td>\n",
       "      <td>1296.0999</td>\n",
       "      <td>194.414985</td>\n",
       "      <td>643.1001</td>\n",
       "      <td>15</td>\n",
       "      <td>0</td>\n",
       "      <td>0</td>\n",
       "      <td>0</td>\n",
       "      <td>0</td>\n",
       "      <td>0</td>\n",
       "      <td>0</td>\n",
       "      <td>0</td>\n",
       "      <td>1</td>\n",
       "      <td>0</td>\n",
       "      <td>1</td>\n",
       "      <td>0</td>\n",
       "      <td>0</td>\n",
       "      <td>0</td>\n",
       "    </tr>\n",
       "    <tr>\n",
       "      <th>7811</th>\n",
       "      <td>12</td>\n",
       "      <td>1</td>\n",
       "      <td>13799.6666</td>\n",
       "      <td>2069.949990</td>\n",
       "      <td>10605.9266</td>\n",
       "      <td>10</td>\n",
       "      <td>0</td>\n",
       "      <td>0</td>\n",
       "      <td>0</td>\n",
       "      <td>1</td>\n",
       "      <td>0</td>\n",
       "      <td>1</td>\n",
       "      <td>0</td>\n",
       "      <td>0</td>\n",
       "      <td>0</td>\n",
       "      <td>0</td>\n",
       "      <td>0</td>\n",
       "      <td>0</td>\n",
       "      <td>1</td>\n",
       "    </tr>\n",
       "    <tr>\n",
       "      <th>7812</th>\n",
       "      <td>40</td>\n",
       "      <td>0</td>\n",
       "      <td>3140.0000</td>\n",
       "      <td>942.000000</td>\n",
       "      <td>1884.0000</td>\n",
       "      <td>40</td>\n",
       "      <td>0</td>\n",
       "      <td>0</td>\n",
       "      <td>0</td>\n",
       "      <td>0</td>\n",
       "      <td>0</td>\n",
       "      <td>0</td>\n",
       "      <td>0</td>\n",
       "      <td>0</td>\n",
       "      <td>1</td>\n",
       "      <td>1</td>\n",
       "      <td>0</td>\n",
       "      <td>0</td>\n",
       "      <td>0</td>\n",
       "    </tr>\n",
       "    <tr>\n",
       "      <th>7813</th>\n",
       "      <td>59</td>\n",
       "      <td>1</td>\n",
       "      <td>2436.9000</td>\n",
       "      <td>365.535000</td>\n",
       "      <td>1839.9000</td>\n",
       "      <td>55</td>\n",
       "      <td>0</td>\n",
       "      <td>0</td>\n",
       "      <td>0</td>\n",
       "      <td>0</td>\n",
       "      <td>0</td>\n",
       "      <td>0</td>\n",
       "      <td>0</td>\n",
       "      <td>0</td>\n",
       "      <td>0</td>\n",
       "      <td>1</td>\n",
       "      <td>0</td>\n",
       "      <td>0</td>\n",
       "      <td>0</td>\n",
       "    </tr>\n",
       "  </tbody>\n",
       "</table>\n",
       "</div>"
      ],
      "text/plain": [
       "      age  service    avg_bill       A_bill      B_bill  by_age  class_D  \\\n",
       "7809   76        1   1860.0000  1716.000000      0.0000      75        0   \n",
       "7810   15        1   1296.0999   194.414985    643.1001      15        0   \n",
       "7811   12        1  13799.6666  2069.949990  10605.9266      10        0   \n",
       "7812   40        0   3140.0000   942.000000   1884.0000      40        0   \n",
       "7813   59        1   2436.9000   365.535000   1839.9000      55        0   \n",
       "\n",
       "      class_E  class_F  class_G  class_H  sex_M  stop_Y  npay_Y  \\\n",
       "7809        0        0        0        0      1       0       0   \n",
       "7810        0        0        0        0      0       0       1   \n",
       "7811        0        0        1        0      1       0       0   \n",
       "7812        0        0        0        0      0       0       0   \n",
       "7813        0        0        0        0      0       0       0   \n",
       "\n",
       "      termination_Y  bill_rating_low  bill_rating_lowmid  bill_rating_mid  \\\n",
       "7809              0                1                   0                0   \n",
       "7810              0                1                   0                0   \n",
       "7811              0                0                   0                0   \n",
       "7812              1                1                   0                0   \n",
       "7813              0                1                   0                0   \n",
       "\n",
       "      bill_rating_midhigh  \n",
       "7809                    0  \n",
       "7810                    0  \n",
       "7811                    1  \n",
       "7812                    0  \n",
       "7813                    0  "
      ]
     },
     "execution_count": 11,
     "metadata": {},
     "output_type": "execute_result"
    }
   ],
   "source": [
    "# ⑥ 데이터 정규화/스케일링(Normalizing/Scaling) 값 간의 차이를 스케일링\n",
    "# 숫자 분포 이루어진 컬럼 확인\n",
    "df1.tail()"
   ]
  },
  {
   "cell_type": "code",
   "execution_count": 12,
   "id": "3ba7b482",
   "metadata": {},
   "outputs": [],
   "source": [
    "from sklearn.preprocessing import MinMaxScaler\n",
    "scaler = MinMaxScaler()\n",
    "X_train = scaler.fit_transform(X_train)\n",
    "X_test = scaler.transform(X_test)"
   ]
  },
  {
   "cell_type": "code",
   "execution_count": 13,
   "id": "75406549",
   "metadata": {},
   "outputs": [
    {
     "data": {
      "text/plain": [
       "array([[0.38      , 0.33333333, 0.4295439 , 0.06384702, 0.41944434,\n",
       "        0.4       , 0.        , 0.        , 0.        , 0.        ,\n",
       "        1.        , 1.        , 0.        , 1.        , 0.        ,\n",
       "        0.        , 0.        , 1.        ],\n",
       "       [0.58      , 0.11111111, 0.20111297, 0.38498933, 0.        ,\n",
       "        0.6       , 1.        , 0.        , 0.        , 0.        ,\n",
       "        0.        , 1.        , 0.        , 0.        , 0.        ,\n",
       "        1.        , 0.        , 0.        ]])"
      ]
     },
     "execution_count": 13,
     "metadata": {},
     "output_type": "execute_result"
    }
   ],
   "source": [
    "X_train[:2]"
   ]
  },
  {
   "cell_type": "code",
   "execution_count": null,
   "id": "982f45fd",
   "metadata": {},
   "outputs": [],
   "source": [
    "모델 입력갯수, 출력갯수 확인"
   ]
  },
  {
   "cell_type": "code",
   "execution_count": 14,
   "id": "5b50261d",
   "metadata": {},
   "outputs": [
    {
     "data": {
      "text/plain": [
       "(5469, 18)"
      ]
     },
     "execution_count": 14,
     "metadata": {},
     "output_type": "execute_result"
    }
   ],
   "source": [
    "X_train.shape"
   ]
  },
  {
   "cell_type": "code",
   "execution_count": 15,
   "id": "20249267",
   "metadata": {},
   "outputs": [
    {
     "data": {
      "text/plain": [
       "(5469,)"
      ]
     },
     "execution_count": 15,
     "metadata": {},
     "output_type": "execute_result"
    }
   ],
   "source": [
    "y_train.shape"
   ]
  },
  {
   "cell_type": "code",
   "execution_count": null,
   "id": "34575745",
   "metadata": {},
   "outputs": [],
   "source": [
    "⑦ 모델 개발"
   ]
  },
  {
   "cell_type": "code",
   "execution_count": null,
   "id": "91764a8f",
   "metadata": {},
   "outputs": [],
   "source": [
    "1) DNN\n",
    "A. 이진 분류용 DNN layer - True냐 False냐 \n",
    "18개 input layer - x에 대한 것들\n",
    "unit 4개 hidden layer\n",
    "unit 3개 hidden layer\n",
    "1개 output layser : 이진분류 - y 결과\n",
    "[출처] https://subscription.packtpub.com/book/data/9781788995207/1/ch01lvl1sec03/deep-learning-intuition"
   ]
  },
  {
   "cell_type": "code",
   "execution_count": null,
   "id": "f9069ec5",
   "metadata": {},
   "outputs": [],
   "source": [
    "# 지금은 개별 환경이라서 설치함 aidu에서는 바로 가능할듯\n",
    "!pip install tensorflow "
   ]
  },
  {
   "cell_type": "code",
   "execution_count": 16,
   "id": "4e8134d6",
   "metadata": {},
   "outputs": [],
   "source": [
    "import tensorflow as tf\n",
    "from tensorflow.keras.models import Sequential\n",
    "from tensorflow.keras.layers import Dense, Activation, Dropout #Activation은 몰라도 됨"
   ]
  },
  {
   "cell_type": "code",
   "execution_count": 40,
   "id": "f5048134",
   "metadata": {},
   "outputs": [],
   "source": [
    "# 18개 input layer\n",
    "# unit 4개 hidden layer\n",
    "# unit 3개 hidden layer \n",
    "# 1개 output layser : 이진분류\n",
    "\n",
    "model = Sequential()\n",
    "model.add(Dense(4, activation='relu', input_shape=(18,)))\n",
    "model.add(Dense(3, activation='relu'))\n",
    "model.add(Dense(1, activation='sigmoid'))"
   ]
  },
  {
   "cell_type": "code",
   "execution_count": null,
   "id": "07b15478",
   "metadata": {},
   "outputs": [],
   "source": [
    "모델 확인"
   ]
  },
  {
   "cell_type": "code",
   "execution_count": 42,
   "id": "fb48ebfa",
   "metadata": {},
   "outputs": [
    {
     "name": "stdout",
     "output_type": "stream",
     "text": [
      "Model: \"sequential_4\"\n",
      "_________________________________________________________________\n",
      " Layer (type)                Output Shape              Param #   \n",
      "=================================================================\n",
      " dense_12 (Dense)            (None, 4)                 76        \n",
      "                                                                 \n",
      " dense_13 (Dense)            (None, 3)                 15        \n",
      "                                                                 \n",
      " dense_14 (Dense)            (None, 1)                 4         \n",
      "                                                                 \n",
      "=================================================================\n",
      "Total params: 95 (380.00 Byte)\n",
      "Trainable params: 95 (380.00 Byte)\n",
      "Non-trainable params: 0 (0.00 Byte)\n",
      "_________________________________________________________________\n"
     ]
    }
   ],
   "source": [
    "model.summary() # 나가는 모양 볼 수 있음"
   ]
  },
  {
   "cell_type": "code",
   "execution_count": null,
   "id": "c0145bff",
   "metadata": {},
   "outputs": [],
   "source": [
    "모델 컴파일 – 이진 분류 모델"
   ]
  },
  {
   "cell_type": "code",
   "execution_count": 19,
   "id": "89184c4d",
   "metadata": {},
   "outputs": [],
   "source": [
    "model.compile(optimizer='adam', \n",
    "              loss='binary_crossentropy', \n",
    "              metrics=['accuracy'])  \n",
    "# 빨리 동작하기 위해 컴파일함 여러번 알아서 하는데, 옵티로 아담, 로스는 이진 분류(y값이 하나라서) 평가지표는 정확도로"
   ]
  },
  {
   "cell_type": "code",
   "execution_count": null,
   "id": "60437a73",
   "metadata": {},
   "outputs": [],
   "source": [
    "Dropout : 과적합 방지 일부러 연결 끊어서 과적합 방지\n",
    "[출처] https://medium.com/@amarbudhiraja/https-medium-com-amarbudhiraja-learning-less-to-learn-better-dropout-in-deep-machine-learning-74334da4bfc5"
   ]
  },
  {
   "cell_type": "code",
   "execution_count": 51,
   "id": "07d80eb9",
   "metadata": {},
   "outputs": [],
   "source": [
    "model = Sequential()\n",
    "model.add(Dense(4, activation='relu', input_shape=(18,)))\n",
    "model.add(Dropout(0.3)) # 30퍼센트 확률로 위 4개 노드 중 연결을 끊겠다\n",
    "model.add(Dense(3, activation='relu'))\n",
    "model.add(Dropout(0.3))\n",
    "model.add(Dense(1, activation='sigmoid'))"
   ]
  },
  {
   "cell_type": "code",
   "execution_count": 52,
   "id": "0bb77409",
   "metadata": {},
   "outputs": [
    {
     "name": "stdout",
     "output_type": "stream",
     "text": [
      "Model: \"sequential_6\"\n",
      "_________________________________________________________________\n",
      " Layer (type)                Output Shape              Param #   \n",
      "=================================================================\n",
      " dense_18 (Dense)            (None, 4)                 76        \n",
      "                                                                 \n",
      " dropout_8 (Dropout)         (None, 4)                 0         \n",
      "                                                                 \n",
      " dense_19 (Dense)            (None, 3)                 15        \n",
      "                                                                 \n",
      " dropout_9 (Dropout)         (None, 3)                 0         \n",
      "                                                                 \n",
      " dense_20 (Dense)            (None, 1)                 4         \n",
      "                                                                 \n",
      "=================================================================\n",
      "Total params: 95 (380.00 Byte)\n",
      "Trainable params: 95 (380.00 Byte)\n",
      "Non-trainable params: 0 (0.00 Byte)\n",
      "_________________________________________________________________\n"
     ]
    }
   ],
   "source": [
    "model.summary()"
   ]
  },
  {
   "cell_type": "code",
   "execution_count": null,
   "id": "c5389b1e",
   "metadata": {},
   "outputs": [],
   "source": [
    "모델 컴파일 – 이진 분류 모델"
   ]
  },
  {
   "cell_type": "code",
   "execution_count": 53,
   "id": "57c421e0",
   "metadata": {},
   "outputs": [],
   "source": [
    "model.compile(optimizer='adam', \n",
    "              loss='binary_crossentropy', \n",
    "              metrics=['accuracy']) "
   ]
  },
  {
   "cell_type": "code",
   "execution_count": null,
   "id": "b01eceb9",
   "metadata": {},
   "outputs": [],
   "source": [
    "모델 훈련(학습) 하기"
   ]
  },
  {
   "cell_type": "code",
   "execution_count": 54,
   "id": "aa1e8544",
   "metadata": {
    "scrolled": false
   },
   "outputs": [
    {
     "name": "stdout",
     "output_type": "stream",
     "text": [
      "Epoch 1/20\n",
      "342/342 [==============================] - 1s 1ms/step - loss: 0.5038 - accuracy: 0.8698 - val_loss: 0.3453 - val_accuracy: 0.8994\n",
      "Epoch 2/20\n",
      "342/342 [==============================] - 0s 1ms/step - loss: 0.3982 - accuracy: 0.8993 - val_loss: 0.3155 - val_accuracy: 0.8994\n",
      "Epoch 3/20\n",
      "342/342 [==============================] - 0s 1ms/step - loss: 0.3742 - accuracy: 0.8996 - val_loss: 0.3044 - val_accuracy: 0.8994\n",
      "Epoch 4/20\n",
      "342/342 [==============================] - 0s 1ms/step - loss: 0.3493 - accuracy: 0.8996 - val_loss: 0.2932 - val_accuracy: 0.8994\n",
      "Epoch 5/20\n",
      "342/342 [==============================] - 0s 1ms/step - loss: 0.3347 - accuracy: 0.8996 - val_loss: 0.2885 - val_accuracy: 0.8994\n",
      "Epoch 6/20\n",
      "342/342 [==============================] - 0s 1ms/step - loss: 0.3263 - accuracy: 0.8996 - val_loss: 0.2844 - val_accuracy: 0.8994\n",
      "Epoch 7/20\n",
      "342/342 [==============================] - 0s 1ms/step - loss: 0.3145 - accuracy: 0.8996 - val_loss: 0.2779 - val_accuracy: 0.8994\n",
      "Epoch 8/20\n",
      "342/342 [==============================] - 0s 1ms/step - loss: 0.3079 - accuracy: 0.8996 - val_loss: 0.2714 - val_accuracy: 0.8994\n",
      "Epoch 9/20\n",
      "342/342 [==============================] - 0s 1ms/step - loss: 0.3010 - accuracy: 0.8996 - val_loss: 0.2663 - val_accuracy: 0.8994\n",
      "Epoch 10/20\n",
      "342/342 [==============================] - 0s 1ms/step - loss: 0.2936 - accuracy: 0.8996 - val_loss: 0.2593 - val_accuracy: 0.8994\n",
      "Epoch 11/20\n",
      "342/342 [==============================] - 0s 1ms/step - loss: 0.2859 - accuracy: 0.8996 - val_loss: 0.2512 - val_accuracy: 0.8994\n",
      "Epoch 12/20\n",
      "342/342 [==============================] - 0s 1ms/step - loss: 0.2774 - accuracy: 0.8996 - val_loss: 0.2438 - val_accuracy: 0.8994\n",
      "Epoch 13/20\n",
      "342/342 [==============================] - 0s 1ms/step - loss: 0.2760 - accuracy: 0.9005 - val_loss: 0.2357 - val_accuracy: 0.8994\n",
      "Epoch 14/20\n",
      "342/342 [==============================] - 0s 1ms/step - loss: 0.2665 - accuracy: 0.9020 - val_loss: 0.2245 - val_accuracy: 0.8994\n",
      "Epoch 15/20\n",
      "342/342 [==============================] - 0s 1ms/step - loss: 0.2575 - accuracy: 0.9031 - val_loss: 0.2131 - val_accuracy: 0.8994\n",
      "Epoch 16/20\n",
      "342/342 [==============================] - 0s 1ms/step - loss: 0.2503 - accuracy: 0.9073 - val_loss: 0.2039 - val_accuracy: 0.8994\n",
      "Epoch 17/20\n",
      "342/342 [==============================] - 0s 1ms/step - loss: 0.2398 - accuracy: 0.9166 - val_loss: 0.1937 - val_accuracy: 0.8994\n",
      "Epoch 18/20\n",
      "342/342 [==============================] - 0s 1ms/step - loss: 0.2381 - accuracy: 0.9203 - val_loss: 0.1886 - val_accuracy: 0.8998\n",
      "Epoch 19/20\n",
      "342/342 [==============================] - 0s 1ms/step - loss: 0.2234 - accuracy: 0.9265 - val_loss: 0.1795 - val_accuracy: 0.9002\n",
      "Epoch 20/20\n",
      "342/342 [==============================] - 0s 1ms/step - loss: 0.2127 - accuracy: 0.9322 - val_loss: 0.1686 - val_accuracy: 0.9062\n"
     ]
    }
   ],
   "source": [
    "history = model.fit(X_train, y_train,  #컴파일한 모델 학습시키기 \n",
    "          validation_data=(X_test, y_test), #모의고사 loss가 점점 떨어짐 accuracy가 점점 올라감 val loss랑 acc도 달라짐\n",
    "          epochs=20, \n",
    "          batch_size=16) "
   ]
  },
  {
   "cell_type": "code",
   "execution_count": 41,
   "id": "65748976",
   "metadata": {},
   "outputs": [
    {
     "data": {
      "text/html": [
       "<div>\n",
       "<style scoped>\n",
       "    .dataframe tbody tr th:only-of-type {\n",
       "        vertical-align: middle;\n",
       "    }\n",
       "\n",
       "    .dataframe tbody tr th {\n",
       "        vertical-align: top;\n",
       "    }\n",
       "\n",
       "    .dataframe thead th {\n",
       "        text-align: right;\n",
       "    }\n",
       "</style>\n",
       "<table border=\"1\" class=\"dataframe\">\n",
       "  <thead>\n",
       "    <tr style=\"text-align: right;\">\n",
       "      <th></th>\n",
       "      <th>loss</th>\n",
       "      <th>accuracy</th>\n",
       "      <th>val_loss</th>\n",
       "      <th>val_accuracy</th>\n",
       "    </tr>\n",
       "  </thead>\n",
       "  <tbody>\n",
       "    <tr>\n",
       "      <th>0</th>\n",
       "      <td>0.519114</td>\n",
       "      <td>0.857195</td>\n",
       "      <td>0.329876</td>\n",
       "      <td>0.89936</td>\n",
       "    </tr>\n",
       "    <tr>\n",
       "      <th>1</th>\n",
       "      <td>0.365358</td>\n",
       "      <td>0.899799</td>\n",
       "      <td>0.295942</td>\n",
       "      <td>0.89936</td>\n",
       "    </tr>\n",
       "    <tr>\n",
       "      <th>2</th>\n",
       "      <td>0.332165</td>\n",
       "      <td>0.899616</td>\n",
       "      <td>0.283755</td>\n",
       "      <td>0.89936</td>\n",
       "    </tr>\n",
       "    <tr>\n",
       "      <th>3</th>\n",
       "      <td>0.318002</td>\n",
       "      <td>0.899616</td>\n",
       "      <td>0.277336</td>\n",
       "      <td>0.89936</td>\n",
       "    </tr>\n",
       "    <tr>\n",
       "      <th>4</th>\n",
       "      <td>0.304012</td>\n",
       "      <td>0.899616</td>\n",
       "      <td>0.267807</td>\n",
       "      <td>0.89936</td>\n",
       "    </tr>\n",
       "  </tbody>\n",
       "</table>\n",
       "</div>"
      ],
      "text/plain": [
       "       loss  accuracy  val_loss  val_accuracy\n",
       "0  0.519114  0.857195  0.329876       0.89936\n",
       "1  0.365358  0.899799  0.295942       0.89936\n",
       "2  0.332165  0.899616  0.283755       0.89936\n",
       "3  0.318002  0.899616  0.277336       0.89936\n",
       "4  0.304012  0.899616  0.267807       0.89936"
      ]
     },
     "execution_count": 41,
     "metadata": {},
     "output_type": "execute_result"
    }
   ],
   "source": [
    "losses = pd.DataFrame(model.history.history)\n",
    "losses.head()"
   ]
  },
  {
   "cell_type": "code",
   "execution_count": null,
   "id": "d56ede99",
   "metadata": {},
   "outputs": [],
   "source": [
    "B. 다중 분류용 DNN layer\n",
    "18개 input layer\n",
    "unit 5개 hidden layer\n",
    "dropout\n",
    "unit 4개 hidden layer\n",
    "dropout\n",
    "2개 output layser : 이진분류\n",
    "    [출처] https://www.educba.com/dnn-neural-network/]"
   ]
  },
  {
   "cell_type": "code",
   "execution_count": 32,
   "id": "65419175",
   "metadata": {},
   "outputs": [],
   "source": [
    "# 18개 input layer\n",
    "# unit 5개 hidden layer\n",
    "# dropout\n",
    "# unit 4개 hidden layer \n",
    "# dropout\n",
    "# 2개 output layer : 다중분류  output 2개 이상이면 다중분류\n",
    "\n",
    "model = Sequential()\n",
    "model.add(Dense(5, activation='relu', input_shape=(18,)))\n",
    "model.add(Dropout(0.3)) #0.3~0.5중에 넣으면 됨\n",
    "model.add(Dense(4, activation='relu'))\n",
    "model.add(Dropout(0.3))\n",
    "model.add(Dense(2, activation='softmax')) # 2개 이상이면 softmax 사용해서 첫번째 y에 대한 확률, 두번째 y에 대한 확률"
   ]
  },
  {
   "cell_type": "code",
   "execution_count": 33,
   "id": "5c55ae15",
   "metadata": {},
   "outputs": [
    {
     "name": "stdout",
     "output_type": "stream",
     "text": [
      "Model: \"sequential_2\"\n",
      "_________________________________________________________________\n",
      " Layer (type)                Output Shape              Param #   \n",
      "=================================================================\n",
      " dense_6 (Dense)             (None, 5)                 95        \n",
      "                                                                 \n",
      " dropout_2 (Dropout)         (None, 5)                 0         \n",
      "                                                                 \n",
      " dense_7 (Dense)             (None, 4)                 24        \n",
      "                                                                 \n",
      " dropout_3 (Dropout)         (None, 4)                 0         \n",
      "                                                                 \n",
      " dense_8 (Dense)             (None, 2)                 10        \n",
      "                                                                 \n",
      "=================================================================\n",
      "Total params: 129 (516.00 Byte)\n",
      "Trainable params: 129 (516.00 Byte)\n",
      "Non-trainable params: 0 (0.00 Byte)\n",
      "_________________________________________________________________\n"
     ]
    }
   ],
   "source": [
    "model.summary()"
   ]
  },
  {
   "cell_type": "code",
   "execution_count": null,
   "id": "82a29779",
   "metadata": {},
   "outputs": [],
   "source": [
    "모델 컴파일 – 다중 분류 모델"
   ]
  },
  {
   "cell_type": "code",
   "execution_count": 34,
   "id": "8ddc9b60",
   "metadata": {},
   "outputs": [],
   "source": [
    "model.compile(optimizer='adam', \n",
    "              loss='sparse_categorical_crossentropy', # y값이 원핫인코딩 안 돼서 sparse 넣어줌\n",
    "              metrics=['accuracy'])  "
   ]
  },
  {
   "cell_type": "code",
   "execution_count": null,
   "id": "084aec4a",
   "metadata": {},
   "outputs": [],
   "source": [
    "모델 훈련(학습) 하기"
   ]
  },
  {
   "cell_type": "code",
   "execution_count": 35,
   "id": "5761cad0",
   "metadata": {},
   "outputs": [
    {
     "name": "stdout",
     "output_type": "stream",
     "text": [
      "Epoch 1/20\n",
      "342/342 [==============================] - 1s 1ms/step - loss: 0.5191 - accuracy: 0.8572 - val_loss: 0.3299 - val_accuracy: 0.8994\n",
      "Epoch 2/20\n",
      "342/342 [==============================] - 0s 1ms/step - loss: 0.3654 - accuracy: 0.8998 - val_loss: 0.2959 - val_accuracy: 0.8994\n",
      "Epoch 3/20\n",
      "342/342 [==============================] - 0s 1ms/step - loss: 0.3322 - accuracy: 0.8996 - val_loss: 0.2838 - val_accuracy: 0.8994\n",
      "Epoch 4/20\n",
      "342/342 [==============================] - 0s 1ms/step - loss: 0.3180 - accuracy: 0.8996 - val_loss: 0.2773 - val_accuracy: 0.8994\n",
      "Epoch 5/20\n",
      "342/342 [==============================] - 0s 1ms/step - loss: 0.3040 - accuracy: 0.8996 - val_loss: 0.2678 - val_accuracy: 0.8994\n",
      "Epoch 6/20\n",
      "342/342 [==============================] - 0s 1ms/step - loss: 0.2894 - accuracy: 0.8993 - val_loss: 0.2583 - val_accuracy: 0.8994\n",
      "Epoch 7/20\n",
      "342/342 [==============================] - 0s 1ms/step - loss: 0.2807 - accuracy: 0.9011 - val_loss: 0.2437 - val_accuracy: 0.8994\n",
      "Epoch 8/20\n",
      "342/342 [==============================] - 0s 1ms/step - loss: 0.2626 - accuracy: 0.9020 - val_loss: 0.2138 - val_accuracy: 0.9002\n",
      "Epoch 9/20\n",
      "342/342 [==============================] - 0s 1ms/step - loss: 0.2409 - accuracy: 0.9113 - val_loss: 0.1954 - val_accuracy: 0.9019\n",
      "Epoch 10/20\n",
      "342/342 [==============================] - 0s 1ms/step - loss: 0.2308 - accuracy: 0.9170 - val_loss: 0.1703 - val_accuracy: 0.9096\n",
      "Epoch 11/20\n",
      "342/342 [==============================] - 0s 1ms/step - loss: 0.2201 - accuracy: 0.9216 - val_loss: 0.1568 - val_accuracy: 0.9237\n",
      "Epoch 12/20\n",
      "342/342 [==============================] - 0s 1ms/step - loss: 0.2055 - accuracy: 0.9265 - val_loss: 0.1390 - val_accuracy: 0.9518\n",
      "Epoch 13/20\n",
      "342/342 [==============================] - 0s 1ms/step - loss: 0.1976 - accuracy: 0.9300 - val_loss: 0.1340 - val_accuracy: 0.9539\n",
      "Epoch 14/20\n",
      "342/342 [==============================] - 0s 1ms/step - loss: 0.1856 - accuracy: 0.9334 - val_loss: 0.1275 - val_accuracy: 0.9569\n",
      "Epoch 15/20\n",
      "342/342 [==============================] - 0s 1ms/step - loss: 0.1755 - accuracy: 0.9406 - val_loss: 0.1185 - val_accuracy: 0.9620\n",
      "Epoch 16/20\n",
      "342/342 [==============================] - 0s 1ms/step - loss: 0.1707 - accuracy: 0.9424 - val_loss: 0.1133 - val_accuracy: 0.9620\n",
      "Epoch 17/20\n",
      "342/342 [==============================] - 0s 1ms/step - loss: 0.1732 - accuracy: 0.9433 - val_loss: 0.1128 - val_accuracy: 0.9608\n",
      "Epoch 18/20\n",
      "342/342 [==============================] - 0s 1ms/step - loss: 0.1692 - accuracy: 0.9424 - val_loss: 0.1078 - val_accuracy: 0.9616\n",
      "Epoch 19/20\n",
      "342/342 [==============================] - 0s 1ms/step - loss: 0.1645 - accuracy: 0.9473 - val_loss: 0.1101 - val_accuracy: 0.9616\n",
      "Epoch 20/20\n",
      "342/342 [==============================] - 0s 1ms/step - loss: 0.1629 - accuracy: 0.9453 - val_loss: 0.1059 - val_accuracy: 0.9616\n"
     ]
    }
   ],
   "source": [
    "history = model.fit(X_train, y_train, \n",
    "          validation_data=(X_test, y_test),\n",
    "          epochs=20, \n",
    "          batch_size=16) "
   ]
  },
  {
   "cell_type": "code",
   "execution_count": null,
   "id": "9996e0df",
   "metadata": {},
   "outputs": [],
   "source": [
    "⑧ 모델 성능 평가\n",
    "성능 시각화"
   ]
  },
  {
   "cell_type": "code",
   "execution_count": 36,
   "id": "a3ac9fa2",
   "metadata": {},
   "outputs": [],
   "source": [
    "losses = pd.DataFrame(model.history.history)"
   ]
  },
  {
   "cell_type": "code",
   "execution_count": 37,
   "id": "ac2735b2",
   "metadata": {},
   "outputs": [
    {
     "data": {
      "text/html": [
       "<div>\n",
       "<style scoped>\n",
       "    .dataframe tbody tr th:only-of-type {\n",
       "        vertical-align: middle;\n",
       "    }\n",
       "\n",
       "    .dataframe tbody tr th {\n",
       "        vertical-align: top;\n",
       "    }\n",
       "\n",
       "    .dataframe thead th {\n",
       "        text-align: right;\n",
       "    }\n",
       "</style>\n",
       "<table border=\"1\" class=\"dataframe\">\n",
       "  <thead>\n",
       "    <tr style=\"text-align: right;\">\n",
       "      <th></th>\n",
       "      <th>loss</th>\n",
       "      <th>accuracy</th>\n",
       "      <th>val_loss</th>\n",
       "      <th>val_accuracy</th>\n",
       "    </tr>\n",
       "  </thead>\n",
       "  <tbody>\n",
       "    <tr>\n",
       "      <th>0</th>\n",
       "      <td>0.519114</td>\n",
       "      <td>0.857195</td>\n",
       "      <td>0.329876</td>\n",
       "      <td>0.89936</td>\n",
       "    </tr>\n",
       "    <tr>\n",
       "      <th>1</th>\n",
       "      <td>0.365358</td>\n",
       "      <td>0.899799</td>\n",
       "      <td>0.295942</td>\n",
       "      <td>0.89936</td>\n",
       "    </tr>\n",
       "    <tr>\n",
       "      <th>2</th>\n",
       "      <td>0.332165</td>\n",
       "      <td>0.899616</td>\n",
       "      <td>0.283755</td>\n",
       "      <td>0.89936</td>\n",
       "    </tr>\n",
       "    <tr>\n",
       "      <th>3</th>\n",
       "      <td>0.318002</td>\n",
       "      <td>0.899616</td>\n",
       "      <td>0.277336</td>\n",
       "      <td>0.89936</td>\n",
       "    </tr>\n",
       "    <tr>\n",
       "      <th>4</th>\n",
       "      <td>0.304012</td>\n",
       "      <td>0.899616</td>\n",
       "      <td>0.267807</td>\n",
       "      <td>0.89936</td>\n",
       "    </tr>\n",
       "  </tbody>\n",
       "</table>\n",
       "</div>"
      ],
      "text/plain": [
       "       loss  accuracy  val_loss  val_accuracy\n",
       "0  0.519114  0.857195  0.329876       0.89936\n",
       "1  0.365358  0.899799  0.295942       0.89936\n",
       "2  0.332165  0.899616  0.283755       0.89936\n",
       "3  0.318002  0.899616  0.277336       0.89936\n",
       "4  0.304012  0.899616  0.267807       0.89936"
      ]
     },
     "execution_count": 37,
     "metadata": {},
     "output_type": "execute_result"
    }
   ],
   "source": [
    "losses.head()"
   ]
  },
  {
   "cell_type": "code",
   "execution_count": 38,
   "id": "b275ea58",
   "metadata": {},
   "outputs": [
    {
     "data": {
      "text/plain": [
       "<Axes: >"
      ]
     },
     "execution_count": 38,
     "metadata": {},
     "output_type": "execute_result"
    },
    {
     "data": {
      "image/png": "[encoded data removed]",
      "text/plain": [
       "<Figure size 640x480 with 1 Axes>"
      ]
     },
     "metadata": {},
     "output_type": "display_data"
    }
   ],
   "source": [
    "losses[['loss','val_loss']].plot()"
   ]
  },
  {
   "cell_type": "code",
   "execution_count": 39,
   "id": "56662dc5",
   "metadata": {},
   "outputs": [
    {
     "data": {
      "text/plain": [
       "<Axes: >"
      ]
     },
     "execution_count": 39,
     "metadata": {},
     "output_type": "execute_result"
    },
    {
     "data": {
      "image/png": "[encoded data removed]",
      "text/plain": [
       "<Figure size 640x480 with 1 Axes>"
      ]
     },
     "metadata": {},
     "output_type": "display_data"
    }
   ],
   "source": [
    "losses[['loss','val_loss', 'accuracy','val_accuracy']].plot()"
   ]
  },
  {
   "cell_type": "code",
   "execution_count": 40,
   "id": "f14556fe",
   "metadata": {},
   "outputs": [
    {
     "data": {
      "image/png": "[encoded data removed]",
      "text/plain": [
       "<Figure size 640x480 with 1 Axes>"
      ]
     },
     "metadata": {},
     "output_type": "display_data"
    }
   ],
   "source": [
    "plt.plot(history.history['accuracy'])\n",
    "plt.plot(history.history['val_accuracy'])\n",
    "plt.title('Accuracy')\n",
    "plt.xlabel('Epochs')\n",
    "plt.ylabel('Acc')\n",
    "plt.legend(['acc', 'val_acc'])\n",
    "plt.show()"
   ]
  },
  {
   "cell_type": "code",
   "execution_count": null,
   "id": "dbc805bd",
   "metadata": {},
   "outputs": [],
   "source": [
    "배운 내용 정리\n",
    "딥러닝 모델 프로세스 ① 라이브러리 임포트(import)\n",
    "② 데이터 가져오기(Loading the data)\n",
    "③ 탐색적 데이터 분석(Exploratory Data Analysis) 필요하면 EDA\n",
    "④ 데이터 전처리(Data PreProcessing) : 데이터타입 변환, Null 데이터 처리, 누락데이터 처리, 더미특성 생성, 특성 추출 (feature engineering) 등\n",
    "⑤ Train, Test 데이터셋 분할\n",
    "⑥ 데이터 정규화(Normalizing the Data)\n",
    "⑦ 모델 개발(Creating the Model)\n",
    "⑧ 모델 성능 평가\n",
    "딥러닝 모델 DNN 구축 \n",
    "테이블 형식 데이터 DNN"
   ]
  }
 ],
 "metadata": {
  "kernelspec": {
   "display_name": "Python 3 (ipykernel)",
   "language": "python",
   "name": "python3"
  },
  "language_info": {
   "codemirror_mode": {
    "name": "ipython",
    "version": 3
   },
   "file_extension": ".py",
   "mimetype": "text/x-python",
   "name": "python",
   "nbconvert_exporter": "python",
   "pygments_lexer": "ipython3",
   "version": "3.10.9"
  }
 },
 "nbformat": 4,
 "nbformat_minor": 5
}
