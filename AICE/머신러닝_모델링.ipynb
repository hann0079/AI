{
 "cells": [
  {
   "cell_type": "code",
   "execution_count": null,
   "id": "020ca4bb",
   "metadata": {},
   "outputs": [],
   "source": [
    "cost function을 통해서 제대로 함수를 만들었는지 확인\n",
    "예측값 - 실제값 = error, cost\n",
    "Cost Function = (실제값-예측값)^2/N -> MSE(Mean Squared Error)\n",
    "\n",
    "Y/N - 분류모델\n",
    "연속 숫자 - 회귀,예측 \n",
    "\n",
    "열 column 특징 속성 feature\n",
    "행 row 예제 example 데이터\n",
    "열 중에 하나를 선택하여 정답 레이블로 사용함\n",
    "7:3 8:2 로 훈련:Test 설정\n",
    "\n",
    "epochs 학습횟수\n",
    "\n",
    "confusion matix 오차 행렬\n",
    "분류 모델에서 성능 평가할 때 사용\n",
    "True Positive(TP): True를 True로 예측\n",
    "True Negative(TN): False를 False로 예측\n",
    "False Positive(FP): False를 True로 예측\n",
    "False Negative(FN): True를 False로 예측\n",
    "T로 시작하면 맞힘, F로 시작하면 틀림\n",
    "\n",
    "성능지표\n",
    "학습이 끝난 후 모델을 평가하는 용도로 사용\n",
    "정밀도 Precision\n",
    "- 모델이 True라고 분류한 것 중에서 실제 True인 것의 비율\n",
    "- 날씨 예측 모델이 맑다로 예측했는데, 실제 날씨가 맑았는지 나타낸 지표\n",
    "- Precision = TP / (TP+FP)\n",
    "재현율 Recall - 암환자 판단에서 사용\n",
    "- 실제 True인 것 중에서 모델이 True라고 예측한 것의 비율\n",
    "- 실제 날씨가 맑은 날 중에서 모델이 맑다고 예측한 비율을 나타낸 지표\n",
    "- Recall = TP / (TP+FN) -> FN이라면 실제로는 P인 거니까\n",
    "정확도 Accuracy\n",
    "- 가장 직관적으로 모델의 성능을 나타낼 수 있는 평가 지표\n",
    "- 한 달에 맑은 날이 28일이고 비가 오는 날이 2일인 경우, 비가 오는 것을 예측하는 성능은 매우 낮을 수밖에 없으므로 이를 보완할 지표 필요\n",
    "- Accuracy = (TP+TN) / (TP+FN+FP+TN) -> 모든 오차행렬 중에 정답인 값만\n",
    "F1 점수 F1-score\n",
    "- 정밀도와 재현율의 평균으로 구함\n",
    "\n",
    "\n",
    "Scikit-learn에 머신 러닝 모델 다 있음\n",
    "회귀 - Linear Regression\n",
    "분류 - Logistic Regression\n",
    "회귀,분류 - Decision Tree, Random Forest, K-Nearest Neighbor\n",
    "\n",
    "\n",
    "Linear Regression \n",
    "내일을 예측 (직선)\n",
    "from sklearn.linear_model import LinearRegression\n",
    "model = LinearRegression()\n",
    "model.fit(X_train, y_train) 훈련하여 가중치 찾음\n",
    "pred = model.predict(X_test) 테스트함\n",
    "\n",
    "Logistic Regression\n",
    "이진 분류 규칙은 0과 1의 두 클래스를 갖는 것, 일반 선형 회귀 모델을 이진분류에 사용하기 어려움\n",
    "시그모이드, 로지스틱 함수를 사용하여 0과 1 사이의 값이 나오고 그를 통해 이진분류함\n",
    "from sklearn.linear_model import LogisticRegression\n",
    "model = LogisticRegression()\n",
    "model.fit(X_train, y_train) \n",
    "pred = model.predict(X_test)\n",
    "\n",
    "K-Nearest Neighbor\n",
    "새로운 데이터가 주어졌을 때 기존 데이터 가운데 가장 가까운 k개 이웃의 정보로 새로운 데이터를 예측하는 방법\n",
    "알고리즘 간단하나 고차원이나 복잡한 것에는 놉\n",
    "from sklearn.neighbors import KNeighborsClassifier\n",
    "knn = KNeighborsClassifier(n_neighbors=3) 이웃을 3개로 정함 하이퍼파라미터 부분 좋은 성능 위해서는 넣어보면서 바꾸기\n",
    "knn.fit(X_train, y_train) 훈련 X 테스트 y\n",
    "pred = knn.predict(X_test)\n",
    "\n",
    "Decision Tree\n",
    "분류와 회귀 작업이 가능한 다재다능한 머신러닝 알고리즘, 조건을 기준으로 True, False로 나뉘면서 트리를 만들어 판단\n",
    "복잡한 데이터셋도 학습할 수 있으며 강력한 머신러닝 알고리즘인 랜덤 포레스트(앙상블)의 기본 구성 요소\n",
    "from sklearn.tree import DecisionTreeClassifier\n",
    "model = DecisionTreeClassifier(max_depth=2) 트리를 최대 2단계까지만 깊이 가도록\n",
    "model.fit(X_train, y_train) \n",
    "pred = model.predict(X_test)\n",
    "\n",
    "Random Forest 자주 사용함!\n",
    "일련의 예측기(분류,회귀모델)로부터 예측을 수집하면 가장 좋은 모델 하나보다 더 좋은 예측을 얻을 수 있음\n",
    "일련의 예측기 - 앙상블 (여러 개 사용)\n",
    "결정 트리의 앙상블 - 랜덤 포레스트\n",
    "훈련 셋으로부터 무작위의 각기 다른 서브셋을 만들어 일련의 결정 트리 분류기를 훈련한 후 다수결로 나온 것 중 정답을 정함\n",
    "from sklearn.ensemble import RandomForestClassifier\n",
    "model = RandonForestClassifier(n_estimators=50) # 50개의 DecisionTree를 만들겠다\n",
    "model.fit(X_train, y_train)\n",
    "pred = model.predict(X_test)\n",
    "\n",
    "\n",
    "Ensemble \n",
    "여러 개의 분류기를 생성하고, 그 예측을 결합함으로써 보다 정확한 예측을 도출\n",
    "약한 모델 여러 개를 조합하여 더 정확한 예측 방식\n",
    "적절한 Hyperparameter 튜닝이 중요\n",
    "1) Boosting (직렬로 여러개 사용, 비교 - bagging 방식을 사용하는 대표 모델은 RandomForest 병렬로)\n",
    "이전 학습에 대하여 잘못 예측된 데이터에 가중치를 부여해 오차를 보완해 나가는 방식\n",
    "대표 모델: XGBoost, LightGBM 중요!!\n",
    "순차적인 학습을 하며 weight를 부여해서 오차를 보완하므로 학습 시간이 길 수 있음\n",
    "2) Stacking (앙상블의 끝판왕)\n",
    "여러 개 모델이 예측한 결과 데이터를 기반으로 final_estimator 모델로 종합하여 예측 수행\n",
    "성능은 향상될 수 있으나 과대적합을 유발할 수 있음\n",
    "3) Weighted Blending\n",
    "각 모델의 예측값에 대하여 weight를 곱하여 최종 output 계산\n",
    "가중치의 합은 1.0이 되도록 함\n",
    "\n",
    "[Random Forest, XGBoost, LightGBM은 대표적. 성능 좋아서 많이 사용함]\n",
    "1) XGBoost\n",
    "!pip install xgboost (!를 붙이면 리눅스 명령어)\n",
    "from xgboost import XGBClassifier\n",
    "model = XGBClasifier(n_estimators=50) 트리 50개 사용\n",
    "model.fit(X_train, y_train) 참고서로 학습\n",
    "pred = model.predict(X_test) 시험으로 테스트\n",
    "2) LightGBM\n",
    "!pip install lightgbm (!를 붙이면 리눅스 명령어)\n",
    "from xgboost import LGBMClassifier\n",
    "model = LGBMClasifier(n_estimators=50) 트리 50개 사용\n",
    "model.fit(X_train, y_train) 참고서로 학습\n",
    "pred = model.predict(X_test) 시험으로 테스트\n"
   ]
  },
  {
   "cell_type": "code",
   "execution_count": null,
   "id": "453a8985",
   "metadata": {},
   "outputs": [],
   "source": [
    "[실습] Python을 활용한 AI 모델링 - 머신러닝 파트\n",
    "이번시간에는 Python을 활용한 AI 모델링에서 머신러닝에 대해 실습해 보겠습니다.\n",
    "\n",
    "머신러닝 모델에는 아래와 같이 모델들이 있습니다.\n",
    "\n",
    "단일 분류예측 모델 : LogisticRegression, KNN, DecisionTree\n",
    "\n",
    "앙상블(Ensemble) 모델 : RandomForest, XGBoost, LGBM, Stacking, Weighted Blending\n",
    "\n",
    "솔직히, 머신러닝이 딥러닝보다 코딩하기 쉽습니다. 4줄 템플릿에 맞쳐 코딩하면 되기 때문입니다.\n",
    "\n",
    "그래도, 한가지 당부 드리고 싶은 말은 \"백문이불여일타\" 입니다.\n",
    "\n",
    "이론보다 실습이 더 많은 시간과 노력이 투자 되어야 합니다.\n",
    "\n",
    "학습목차\n",
    "1.실습을 위한 KT AIDU 환경변수 설정\n",
    "2.머신러닝 모델 프로세스\n",
    "데이터 가져오기\n",
    "데이터 전처리\n",
    "Train, Test 데이터셋 분할\n",
    "데이터 정규화\n",
    "단일 분류예측 모델 : LogisticRegression, KNN, DecisionTree\n",
    "앙상블(Ensemble) 모델 : RandomForest, XGBoost, LGBM, Stacking, Weighted Blending"
   ]
  },
  {
   "cell_type": "code",
   "execution_count": null,
   "id": "cc260b3b",
   "metadata": {},
   "outputs": [],
   "source": [
    "1. 실습을 위한 KT AIDU 환경변수 설정"
   ]
  },
  {
   "cell_type": "code",
   "execution_count": 1,
   "id": "b5a82b62",
   "metadata": {},
   "outputs": [],
   "source": [
    "# 코드실행시 경고 메시지 무시\n",
    "\n",
    "import warnings\n",
    "warnings.filterwarnings(action='ignore') "
   ]
  },
  {
   "cell_type": "code",
   "execution_count": null,
   "id": "6a24c3e7",
   "metadata": {},
   "outputs": [],
   "source": [
    "AIDU 라이브러리 임포트"
   ]
  },
  {
   "cell_type": "code",
   "execution_count": null,
   "id": "e2b5819d",
   "metadata": {},
   "outputs": [],
   "source": [
    "from aicentro.session import Session\n",
    "from aicentro.framework.keras import Keras as AiduFrm\n",
    "\n",
    "aidu_session = Session(verify=False)\n",
    "aidu_framework = AiduFrm(session=aidu_session)"
   ]
  },
  {
   "cell_type": "code",
   "execution_count": null,
   "id": "f315fd4b",
   "metadata": {},
   "outputs": [],
   "source": [
    "AIDU 디렉토리 환경변수\n",
    "data 경로: aidu_framework.config.data_dir"
   ]
  },
  {
   "cell_type": "code",
   "execution_count": null,
   "id": "753941cb",
   "metadata": {},
   "outputs": [],
   "source": [
    "# aidu_framework.config.data_dir 내용 확인\n",
    "aidu_framework.config.data_dir"
   ]
  },
  {
   "cell_type": "code",
   "execution_count": null,
   "id": "62ce5410",
   "metadata": {},
   "outputs": [],
   "source": [
    "2. 머신러닝 모델 프로세스\n",
    "① 라이브러리 임포트(import)\n",
    "② 데이터 가져오기(Loading the data)\n",
    "③ 탐색적 데이터 분석(Exploratory Data Analysis)\n",
    "④ 데이터 전처리(Data PreProcessing) : 데이터타입 변환, Null 데이터 처리, 누락데이터 처리, 더미특성 생성, 특성 추출 (feature engineering) 등\n",
    "⑤ Train, Test 데이터셋 분할\n",
    "⑥ 데이터 정규화(Normalizing the Data)\n",
    "⑦ 모델 개발(Creating the Model)\n",
    "⑧ 모델 성능 평가"
   ]
  },
  {
   "cell_type": "code",
   "execution_count": null,
   "id": "85356758",
   "metadata": {},
   "outputs": [],
   "source": [
    "① 라이브러리 임포트\n",
    "필요 라이브러리 임포트"
   ]
  },
  {
   "cell_type": "code",
   "execution_count": 3,
   "id": "8d0edc82",
   "metadata": {},
   "outputs": [],
   "source": [
    "import numpy as np\n",
    "import pandas as pd\n",
    "import matplotlib.pyplot as plt"
   ]
  },
  {
   "cell_type": "code",
   "execution_count": null,
   "id": "9f3dd461",
   "metadata": {},
   "outputs": [],
   "source": [
    "② 데이터 로드\n",
    "cust_data.csv 파일 컬럼명\n",
    "고객등급(cust_class), 성별(sex_type), 나이(age), 사용서비스수(efct_svc_count), 서비스중지여부 (dt_stop_yn), 미납여부(npay_yn)\n",
    "3개월 평균 요금(r3m_avg_bill_amt), A서비스 3개월 평균요금(r3m_A_avg_arpu_amt), B서비스 3개월 평균요금(r3m_B_avg_arpu_amt), 해지여부(termination_yn)"
   ]
  },
  {
   "cell_type": "code",
   "execution_count": 4,
   "id": "24563ea8",
   "metadata": {},
   "outputs": [],
   "source": [
    "# cust_data.csv 파일 읽기\n",
    "df = pd.read_csv('cust_data.csv')"
   ]
  },
  {
   "cell_type": "code",
   "execution_count": null,
   "id": "21f65815",
   "metadata": {},
   "outputs": [],
   "source": [
    "③ 데이터 분석"
   ]
  },
  {
   "cell_type": "code",
   "execution_count": 5,
   "id": "c3dc9f84",
   "metadata": {},
   "outputs": [
    {
     "name": "stdout",
     "output_type": "stream",
     "text": [
      "<class 'pandas.core.frame.DataFrame'>\n",
      "RangeIndex: 7814 entries, 0 to 7813\n",
      "Data columns (total 12 columns):\n",
      " #   Column       Non-Null Count  Dtype  \n",
      "---  ------       --------------  -----  \n",
      " 0   class        7814 non-null   object \n",
      " 1   sex          7814 non-null   object \n",
      " 2   age          7814 non-null   int64  \n",
      " 3   service      7814 non-null   int64  \n",
      " 4   stop         7814 non-null   object \n",
      " 5   npay         7814 non-null   object \n",
      " 6   avg_bill     7814 non-null   float64\n",
      " 7   A_bill       7814 non-null   float64\n",
      " 8   B_bill       7814 non-null   float64\n",
      " 9   termination  7814 non-null   object \n",
      " 10  by_age       7814 non-null   int64  \n",
      " 11  bill_rating  7814 non-null   object \n",
      "dtypes: float64(3), int64(3), object(6)\n",
      "memory usage: 732.7+ KB\n"
     ]
    }
   ],
   "source": [
    "# 12컬럼, 7814 라인\n",
    "df.info() \n",
    "# row는 rangeindex "
   ]
  },
  {
   "cell_type": "code",
   "execution_count": 6,
   "id": "a0e6e92f",
   "metadata": {},
   "outputs": [
    {
     "data": {
      "text/html": [
       "<div>\n",
       "<style scoped>\n",
       "    .dataframe tbody tr th:only-of-type {\n",
       "        vertical-align: middle;\n",
       "    }\n",
       "\n",
       "    .dataframe tbody tr th {\n",
       "        vertical-align: top;\n",
       "    }\n",
       "\n",
       "    .dataframe thead th {\n",
       "        text-align: right;\n",
       "    }\n",
       "</style>\n",
       "<table border=\"1\" class=\"dataframe\">\n",
       "  <thead>\n",
       "    <tr style=\"text-align: right;\">\n",
       "      <th></th>\n",
       "      <th>class</th>\n",
       "      <th>sex</th>\n",
       "      <th>age</th>\n",
       "      <th>service</th>\n",
       "      <th>stop</th>\n",
       "      <th>npay</th>\n",
       "      <th>avg_bill</th>\n",
       "      <th>A_bill</th>\n",
       "      <th>B_bill</th>\n",
       "      <th>termination</th>\n",
       "      <th>by_age</th>\n",
       "      <th>bill_rating</th>\n",
       "    </tr>\n",
       "  </thead>\n",
       "  <tbody>\n",
       "    <tr>\n",
       "      <th>7809</th>\n",
       "      <td>C</td>\n",
       "      <td>M</td>\n",
       "      <td>76</td>\n",
       "      <td>1</td>\n",
       "      <td>N</td>\n",
       "      <td>N</td>\n",
       "      <td>1860.0000</td>\n",
       "      <td>1716.000000</td>\n",
       "      <td>0.0000</td>\n",
       "      <td>N</td>\n",
       "      <td>75</td>\n",
       "      <td>low</td>\n",
       "    </tr>\n",
       "    <tr>\n",
       "      <th>7810</th>\n",
       "      <td>C</td>\n",
       "      <td>F</td>\n",
       "      <td>15</td>\n",
       "      <td>1</td>\n",
       "      <td>N</td>\n",
       "      <td>Y</td>\n",
       "      <td>1296.0999</td>\n",
       "      <td>194.414985</td>\n",
       "      <td>643.1001</td>\n",
       "      <td>N</td>\n",
       "      <td>15</td>\n",
       "      <td>low</td>\n",
       "    </tr>\n",
       "    <tr>\n",
       "      <th>7811</th>\n",
       "      <td>G</td>\n",
       "      <td>M</td>\n",
       "      <td>12</td>\n",
       "      <td>1</td>\n",
       "      <td>N</td>\n",
       "      <td>N</td>\n",
       "      <td>13799.6666</td>\n",
       "      <td>2069.949990</td>\n",
       "      <td>10605.9266</td>\n",
       "      <td>N</td>\n",
       "      <td>10</td>\n",
       "      <td>midhigh</td>\n",
       "    </tr>\n",
       "    <tr>\n",
       "      <th>7812</th>\n",
       "      <td>C</td>\n",
       "      <td>F</td>\n",
       "      <td>40</td>\n",
       "      <td>0</td>\n",
       "      <td>N</td>\n",
       "      <td>N</td>\n",
       "      <td>3140.0000</td>\n",
       "      <td>942.000000</td>\n",
       "      <td>1884.0000</td>\n",
       "      <td>Y</td>\n",
       "      <td>40</td>\n",
       "      <td>low</td>\n",
       "    </tr>\n",
       "    <tr>\n",
       "      <th>7813</th>\n",
       "      <td>C</td>\n",
       "      <td>F</td>\n",
       "      <td>59</td>\n",
       "      <td>1</td>\n",
       "      <td>N</td>\n",
       "      <td>N</td>\n",
       "      <td>2436.9000</td>\n",
       "      <td>365.535000</td>\n",
       "      <td>1839.9000</td>\n",
       "      <td>N</td>\n",
       "      <td>55</td>\n",
       "      <td>low</td>\n",
       "    </tr>\n",
       "  </tbody>\n",
       "</table>\n",
       "</div>"
      ],
      "text/plain": [
       "     class sex  age  service stop npay    avg_bill       A_bill      B_bill  \\\n",
       "7809     C   M   76        1    N    N   1860.0000  1716.000000      0.0000   \n",
       "7810     C   F   15        1    N    Y   1296.0999   194.414985    643.1001   \n",
       "7811     G   M   12        1    N    N  13799.6666  2069.949990  10605.9266   \n",
       "7812     C   F   40        0    N    N   3140.0000   942.000000   1884.0000   \n",
       "7813     C   F   59        1    N    N   2436.9000   365.535000   1839.9000   \n",
       "\n",
       "     termination  by_age bill_rating  \n",
       "7809           N      75         low  \n",
       "7810           N      15         low  \n",
       "7811           N      10     midhigh  \n",
       "7812           Y      40         low  \n",
       "7813           N      55         low  "
      ]
     },
     "execution_count": 6,
     "metadata": {},
     "output_type": "execute_result"
    }
   ],
   "source": [
    "df.tail()"
   ]
  },
  {
   "cell_type": "code",
   "execution_count": 7,
   "id": "78c47f88",
   "metadata": {},
   "outputs": [
    {
     "data": {
      "text/plain": [
       "<Axes: >"
      ]
     },
     "execution_count": 7,
     "metadata": {},
     "output_type": "execute_result"
    },
    {
     "data": {
      "image/png": "[encoded data removed]",
      "text/plain": [
       "<Figure size 640x480 with 1 Axes>"
      ]
     },
     "metadata": {},
     "output_type": "display_data"
    }
   ],
   "source": [
    "# termination 레이블 불균형 (정답 Y 레이블) \n",
    "df['termination'].value_counts().plot(kind='bar')"
   ]
  },
  {
   "cell_type": "code",
   "execution_count": null,
   "id": "535f1d5f",
   "metadata": {},
   "outputs": [],
   "source": [
    "④ 데이터 전처리\n",
    "Object 컬럼에 대해 Pandas get_dummies 함수 활용하여 One-Hot-Encoding하여 컴퓨터가 이해하도록"
   ]
  },
  {
   "cell_type": "code",
   "execution_count": 8,
   "id": "cae09a54",
   "metadata": {},
   "outputs": [],
   "source": [
    "cal_cols = ['class', 'sex', 'stop', 'npay', 'termination', 'bill_rating']"
   ]
  },
  {
   "cell_type": "code",
   "execution_count": 9,
   "id": "1a7c4296",
   "metadata": {},
   "outputs": [],
   "source": [
    "df1 = pd.get_dummies(data=df, columns=cal_cols, drop_first=True) #원핫인코딩 실행하는 함수"
   ]
  },
  {
   "cell_type": "code",
   "execution_count": 10,
   "id": "f8de635a",
   "metadata": {},
   "outputs": [
    {
     "name": "stdout",
     "output_type": "stream",
     "text": [
      "<class 'pandas.core.frame.DataFrame'>\n",
      "RangeIndex: 7814 entries, 0 to 7813\n",
      "Data columns (total 19 columns):\n",
      " #   Column               Non-Null Count  Dtype  \n",
      "---  ------               --------------  -----  \n",
      " 0   age                  7814 non-null   int64  \n",
      " 1   service              7814 non-null   int64  \n",
      " 2   avg_bill             7814 non-null   float64\n",
      " 3   A_bill               7814 non-null   float64\n",
      " 4   B_bill               7814 non-null   float64\n",
      " 5   by_age               7814 non-null   int64  \n",
      " 6   class_D              7814 non-null   uint8  \n",
      " 7   class_E              7814 non-null   uint8  \n",
      " 8   class_F              7814 non-null   uint8  \n",
      " 9   class_G              7814 non-null   uint8  \n",
      " 10  class_H              7814 non-null   uint8  \n",
      " 11  sex_M                7814 non-null   uint8  \n",
      " 12  stop_Y               7814 non-null   uint8  \n",
      " 13  npay_Y               7814 non-null   uint8  \n",
      " 14  termination_Y        7814 non-null   uint8  \n",
      " 15  bill_rating_low      7814 non-null   uint8  \n",
      " 16  bill_rating_lowmid   7814 non-null   uint8  \n",
      " 17  bill_rating_mid      7814 non-null   uint8  \n",
      " 18  bill_rating_midhigh  7814 non-null   uint8  \n",
      "dtypes: float64(3), int64(3), uint8(13)\n",
      "memory usage: 465.6 KB\n"
     ]
    }
   ],
   "source": [
    "# 19컬럼, 7814 라인\n",
    "df1.info()\n",
    "# 하나의 컬럼이 여러가지 컬럼으로 바뀜"
   ]
  },
  {
   "cell_type": "code",
   "execution_count": null,
   "id": "3bf9f751",
   "metadata": {},
   "outputs": [],
   "source": [
    "⑤ Train, Test 데이터셋 분할"
   ]
  },
  {
   "cell_type": "code",
   "execution_count": 11,
   "id": "45ab031b",
   "metadata": {},
   "outputs": [],
   "source": [
    "from sklearn.model_selection import train_test_split #자주씀"
   ]
  },
  {
   "cell_type": "code",
   "execution_count": 12,
   "id": "c721555f",
   "metadata": {},
   "outputs": [],
   "source": [
    "X = df1.drop('termination_Y', axis=1).values # 나머지 레이블\n",
    "y = df1['termination_Y'].values # 예측 정답 확인할 레이블"
   ]
  },
  {
   "cell_type": "code",
   "execution_count": 13,
   "id": "1479fce6",
   "metadata": {},
   "outputs": [],
   "source": [
    "X_train, X_test, y_train, y_test = train_test_split(X, y, \n",
    "                                                    test_size=0.3, #test30프로\n",
    "                                                    stratify=y, #y값의 비율 그대로 test, train 나눠라\n",
    "                                                    random_state=42)"
   ]
  },
  {
   "cell_type": "code",
   "execution_count": 14,
   "id": "50b993d0",
   "metadata": {},
   "outputs": [
    {
     "data": {
      "text/plain": [
       "(5469, 18)"
      ]
     },
     "execution_count": 14,
     "metadata": {},
     "output_type": "execute_result"
    }
   ],
   "source": [
    "X_train.shape # 70프로의 값만 가짐"
   ]
  },
  {
   "cell_type": "code",
   "execution_count": 15,
   "id": "8e4c5a84",
   "metadata": {},
   "outputs": [
    {
     "data": {
      "text/plain": [
       "(5469,)"
      ]
     },
     "execution_count": 15,
     "metadata": {},
     "output_type": "execute_result"
    }
   ],
   "source": [
    "y_train.shape # Y값만 가지고 있음"
   ]
  },
  {
   "cell_type": "code",
   "execution_count": null,
   "id": "341d66f7",
   "metadata": {},
   "outputs": [],
   "source": [
    "⑥ 데이터 정규화/스케일링(Normalizing/Scaling)\n",
    "나이 컬럼, 연봉 컬럼 간의 데이터 값의 차이가 큼. 그래서 비슷한 범위가 되도록 바꾸기. 꼭 해주는 게 좋음. 성능 높아짐"
   ]
  },
  {
   "cell_type": "code",
   "execution_count": 16,
   "id": "0e696c2e",
   "metadata": {},
   "outputs": [
    {
     "data": {
      "text/html": [
       "<div>\n",
       "<style scoped>\n",
       "    .dataframe tbody tr th:only-of-type {\n",
       "        vertical-align: middle;\n",
       "    }\n",
       "\n",
       "    .dataframe tbody tr th {\n",
       "        vertical-align: top;\n",
       "    }\n",
       "\n",
       "    .dataframe thead th {\n",
       "        text-align: right;\n",
       "    }\n",
       "</style>\n",
       "<table border=\"1\" class=\"dataframe\">\n",
       "  <thead>\n",
       "    <tr style=\"text-align: right;\">\n",
       "      <th></th>\n",
       "      <th>age</th>\n",
       "      <th>service</th>\n",
       "      <th>avg_bill</th>\n",
       "      <th>A_bill</th>\n",
       "      <th>B_bill</th>\n",
       "      <th>by_age</th>\n",
       "      <th>class_D</th>\n",
       "      <th>class_E</th>\n",
       "      <th>class_F</th>\n",
       "      <th>class_G</th>\n",
       "      <th>class_H</th>\n",
       "      <th>sex_M</th>\n",
       "      <th>stop_Y</th>\n",
       "      <th>npay_Y</th>\n",
       "      <th>termination_Y</th>\n",
       "      <th>bill_rating_low</th>\n",
       "      <th>bill_rating_lowmid</th>\n",
       "      <th>bill_rating_mid</th>\n",
       "      <th>bill_rating_midhigh</th>\n",
       "    </tr>\n",
       "  </thead>\n",
       "  <tbody>\n",
       "    <tr>\n",
       "      <th>7809</th>\n",
       "      <td>76</td>\n",
       "      <td>1</td>\n",
       "      <td>1860.0000</td>\n",
       "      <td>1716.000000</td>\n",
       "      <td>0.0000</td>\n",
       "      <td>75</td>\n",
       "      <td>0</td>\n",
       "      <td>0</td>\n",
       "      <td>0</td>\n",
       "      <td>0</td>\n",
       "      <td>0</td>\n",
       "      <td>1</td>\n",
       "      <td>0</td>\n",
       "      <td>0</td>\n",
       "      <td>0</td>\n",
       "      <td>1</td>\n",
       "      <td>0</td>\n",
       "      <td>0</td>\n",
       "      <td>0</td>\n",
       "    </tr>\n",
       "    <tr>\n",
       "      <th>7810</th>\n",
       "      <td>15</td>\n",
       "      <td>1</td>\n",
       "      <td>1296.0999</td>\n",
       "      <td>194.414985</td>\n",
       "      <td>643.1001</td>\n",
       "      <td>15</td>\n",
       "      <td>0</td>\n",
       "      <td>0</td>\n",
       "      <td>0</td>\n",
       "      <td>0</td>\n",
       "      <td>0</td>\n",
       "      <td>0</td>\n",
       "      <td>0</td>\n",
       "      <td>1</td>\n",
       "      <td>0</td>\n",
       "      <td>1</td>\n",
       "      <td>0</td>\n",
       "      <td>0</td>\n",
       "      <td>0</td>\n",
       "    </tr>\n",
       "    <tr>\n",
       "      <th>7811</th>\n",
       "      <td>12</td>\n",
       "      <td>1</td>\n",
       "      <td>13799.6666</td>\n",
       "      <td>2069.949990</td>\n",
       "      <td>10605.9266</td>\n",
       "      <td>10</td>\n",
       "      <td>0</td>\n",
       "      <td>0</td>\n",
       "      <td>0</td>\n",
       "      <td>1</td>\n",
       "      <td>0</td>\n",
       "      <td>1</td>\n",
       "      <td>0</td>\n",
       "      <td>0</td>\n",
       "      <td>0</td>\n",
       "      <td>0</td>\n",
       "      <td>0</td>\n",
       "      <td>0</td>\n",
       "      <td>1</td>\n",
       "    </tr>\n",
       "    <tr>\n",
       "      <th>7812</th>\n",
       "      <td>40</td>\n",
       "      <td>0</td>\n",
       "      <td>3140.0000</td>\n",
       "      <td>942.000000</td>\n",
       "      <td>1884.0000</td>\n",
       "      <td>40</td>\n",
       "      <td>0</td>\n",
       "      <td>0</td>\n",
       "      <td>0</td>\n",
       "      <td>0</td>\n",
       "      <td>0</td>\n",
       "      <td>0</td>\n",
       "      <td>0</td>\n",
       "      <td>0</td>\n",
       "      <td>1</td>\n",
       "      <td>1</td>\n",
       "      <td>0</td>\n",
       "      <td>0</td>\n",
       "      <td>0</td>\n",
       "    </tr>\n",
       "    <tr>\n",
       "      <th>7813</th>\n",
       "      <td>59</td>\n",
       "      <td>1</td>\n",
       "      <td>2436.9000</td>\n",
       "      <td>365.535000</td>\n",
       "      <td>1839.9000</td>\n",
       "      <td>55</td>\n",
       "      <td>0</td>\n",
       "      <td>0</td>\n",
       "      <td>0</td>\n",
       "      <td>0</td>\n",
       "      <td>0</td>\n",
       "      <td>0</td>\n",
       "      <td>0</td>\n",
       "      <td>0</td>\n",
       "      <td>0</td>\n",
       "      <td>1</td>\n",
       "      <td>0</td>\n",
       "      <td>0</td>\n",
       "      <td>0</td>\n",
       "    </tr>\n",
       "  </tbody>\n",
       "</table>\n",
       "</div>"
      ],
      "text/plain": [
       "      age  service    avg_bill       A_bill      B_bill  by_age  class_D  \\\n",
       "7809   76        1   1860.0000  1716.000000      0.0000      75        0   \n",
       "7810   15        1   1296.0999   194.414985    643.1001      15        0   \n",
       "7811   12        1  13799.6666  2069.949990  10605.9266      10        0   \n",
       "7812   40        0   3140.0000   942.000000   1884.0000      40        0   \n",
       "7813   59        1   2436.9000   365.535000   1839.9000      55        0   \n",
       "\n",
       "      class_E  class_F  class_G  class_H  sex_M  stop_Y  npay_Y  \\\n",
       "7809        0        0        0        0      1       0       0   \n",
       "7810        0        0        0        0      0       0       1   \n",
       "7811        0        0        1        0      1       0       0   \n",
       "7812        0        0        0        0      0       0       0   \n",
       "7813        0        0        0        0      0       0       0   \n",
       "\n",
       "      termination_Y  bill_rating_low  bill_rating_lowmid  bill_rating_mid  \\\n",
       "7809              0                1                   0                0   \n",
       "7810              0                1                   0                0   \n",
       "7811              0                0                   0                0   \n",
       "7812              1                1                   0                0   \n",
       "7813              0                1                   0                0   \n",
       "\n",
       "      bill_rating_midhigh  \n",
       "7809                    0  \n",
       "7810                    0  \n",
       "7811                    1  \n",
       "7812                    0  \n",
       "7813                    0  "
      ]
     },
     "execution_count": 16,
     "metadata": {},
     "output_type": "execute_result"
    }
   ],
   "source": [
    "# 숫자 분포 이루어진 컬럼 확인\n",
    "df1.tail()"
   ]
  },
  {
   "cell_type": "code",
   "execution_count": 17,
   "id": "ed20cfd5",
   "metadata": {},
   "outputs": [],
   "source": [
    "from sklearn.preprocessing import MinMaxScaler # 0~1 사이의 값으로 스케일링 해줌"
   ]
  },
  {
   "cell_type": "code",
   "execution_count": 18,
   "id": "953d8156",
   "metadata": {},
   "outputs": [],
   "source": [
    "scaler = MinMaxScaler()\n",
    "X_train = scaler.fit_transform(X_train) # X값을 넣어줌\n",
    "X_test = scaler.transform(X_test) # X값을 넣어줌"
   ]
  },
  {
   "cell_type": "code",
   "execution_count": 19,
   "id": "af27b1e6",
   "metadata": {},
   "outputs": [
    {
     "data": {
      "text/plain": [
       "(array([[0.38      , 0.33333333, 0.4295439 , 0.06384702, 0.41944434,\n",
       "         0.4       , 0.        , 0.        , 0.        , 0.        ,\n",
       "         1.        , 1.        , 0.        , 1.        , 0.        ,\n",
       "         0.        , 0.        , 1.        ],\n",
       "        [0.58      , 0.11111111, 0.20111297, 0.38498933, 0.        ,\n",
       "         0.6       , 1.        , 0.        , 0.        , 0.        ,\n",
       "         0.        , 1.        , 0.        , 0.        , 0.        ,\n",
       "         1.        , 0.        , 0.        ]]),\n",
       " array([0, 0], dtype=uint8))"
      ]
     },
     "execution_count": 19,
     "metadata": {},
     "output_type": "execute_result"
    }
   ],
   "source": [
    "X_train[:2], y_train[:2]"
   ]
  },
  {
   "cell_type": "code",
   "execution_count": null,
   "id": "f5019d86",
   "metadata": {},
   "outputs": [],
   "source": [
    "모델 입력갯수, 출력갯수 확인 여전함 내부 값이 바뀐 것"
   ]
  },
  {
   "cell_type": "code",
   "execution_count": 20,
   "id": "bf9ce076",
   "metadata": {},
   "outputs": [
    {
     "data": {
      "text/plain": [
       "(5469, 18)"
      ]
     },
     "execution_count": 20,
     "metadata": {},
     "output_type": "execute_result"
    }
   ],
   "source": [
    "X_train.shape"
   ]
  },
  {
   "cell_type": "code",
   "execution_count": 21,
   "id": "298adc86",
   "metadata": {},
   "outputs": [
    {
     "data": {
      "text/plain": [
       "(5469,)"
      ]
     },
     "execution_count": 21,
     "metadata": {},
     "output_type": "execute_result"
    }
   ],
   "source": [
    "y_train.shape"
   ]
  },
  {
   "cell_type": "code",
   "execution_count": null,
   "id": "b6e69388",
   "metadata": {},
   "outputs": [],
   "source": [
    "⑦ 모델 개발\n",
    "모델별 바차트 그려주고 성능 확인을 위한 함수 정의"
   ]
  },
  {
   "cell_type": "code",
   "execution_count": 22,
   "id": "36087549",
   "metadata": {},
   "outputs": [],
   "source": [
    "# 이해 보다는 사용할 때 가져다가 쓰면 됨\n",
    "# 모델별로 Accuracy 점수 저장\n",
    "# 모델 Accuracy 점수 순서대로 바차트를 그려 모델별로 성능 확인 가능\n",
    "\n",
    "from sklearn.metrics import accuracy_score\n",
    "\n",
    "my_predictions = {}\n",
    "\n",
    "colors = ['r', 'c', 'm', 'y', 'k', 'khaki', 'teal', 'orchid', 'sandybrown',\n",
    "          'greenyellow', 'dodgerblue', 'deepskyblue', 'rosybrown', 'firebrick',\n",
    "          'deeppink', 'crimson', 'salmon', 'darkred', 'olivedrab', 'olive', \n",
    "          'forestgreen', 'royalblue', 'indigo', 'navy', 'mediumpurple', 'chocolate',\n",
    "          'gold', 'darkorange', 'seagreen', 'turquoise', 'steelblue', 'slategray', \n",
    "          'peru', 'midnightblue', 'slateblue', 'dimgray', 'cadetblue', 'tomato'\n",
    "         ]\n",
    "\n",
    "# 모델명, 예측값, 실제값을 주면 위의 plot_predictions 함수 호출하여 Scatter 그래프 그리며\n",
    "# 모델별 MSE값을 Bar chart로 그려줌\n",
    "def accuracy_eval(name_, pred, actual):\n",
    "    global predictions\n",
    "    global colors\n",
    "\n",
    "    plt.figure(figsize=(12, 9))\n",
    "\n",
    "    acc = accuracy_score(actual, pred)\n",
    "    my_predictions[name_] = acc * 100\n",
    "\n",
    "    y_value = sorted(my_predictions.items(), key=lambda x: x[1], reverse=True)\n",
    "    \n",
    "    df = pd.DataFrame(y_value, columns=['model', 'accuracy'])\n",
    "    print(df)\n",
    "   \n",
    "    length = len(df)\n",
    "    \n",
    "    plt.figure(figsize=(10, length))\n",
    "    ax = plt.subplot()\n",
    "    ax.set_yticks(np.arange(len(df)))\n",
    "    ax.set_yticklabels(df['model'], fontsize=15)\n",
    "    bars = ax.barh(np.arange(len(df)), df['accuracy'])\n",
    "    \n",
    "    for i, v in enumerate(df['accuracy']):\n",
    "        idx = np.random.choice(len(colors))\n",
    "        bars[i].set_color(colors[idx])\n",
    "        ax.text(v + 2, i, str(round(v, 3)), color='k', fontsize=15, fontweight='bold')\n",
    "        \n",
    "    plt.title('accuracy', fontsize=18)\n",
    "    plt.xlim(0, 100)\n",
    "    \n",
    "    plt.show()"
   ]
  },
  {
   "cell_type": "code",
   "execution_count": null,
   "id": "f0131f43",
   "metadata": {},
   "outputs": [],
   "source": [
    "1) 로지스틱 회귀 (LogisticRegression, 분류)"
   ]
  },
  {
   "cell_type": "code",
   "execution_count": 23,
   "id": "acc30b0b",
   "metadata": {},
   "outputs": [],
   "source": [
    "from sklearn.linear_model import LogisticRegression\n",
    "from sklearn.metrics import confusion_matrix \n",
    "from sklearn.metrics import accuracy_score, precision_score, recall_score, f1_score\n",
    "from sklearn.metrics import classification_report # 위의 성능 지표를 불러와서 사용"
   ]
  },
  {
   "cell_type": "code",
   "execution_count": 24,
   "id": "314116a4",
   "metadata": {},
   "outputs": [
    {
     "data": {
      "text/html": [
       "<style>#sk-container-id-1 {color: black;background-color: white;}#sk-container-id-1 pre{padding: 0;}#sk-container-id-1 div.sk-toggleable {background-color: white;}#sk-container-id-1 label.sk-toggleable__label {cursor: pointer;display: block;width: 100%;margin-bottom: 0;padding: 0.3em;box-sizing: border-box;text-align: center;}#sk-container-id-1 label.sk-toggleable__label-arrow:before {content: \"▸\";float: left;margin-right: 0.25em;color: #696969;}#sk-container-id-1 label.sk-toggleable__label-arrow:hover:before {color: black;}#sk-container-id-1 div.sk-estimator:hover label.sk-toggleable__label-arrow:before {color: black;}#sk-container-id-1 div.sk-toggleable__content {max-height: 0;max-width: 0;overflow: hidden;text-align: left;background-color: #f0f8ff;}#sk-container-id-1 div.sk-toggleable__content pre {margin: 0.2em;color: black;border-radius: 0.25em;background-color: #f0f8ff;}#sk-container-id-1 input.sk-toggleable__control:checked~div.sk-toggleable__content {max-height: 200px;max-width: 100%;overflow: auto;}#sk-container-id-1 input.sk-toggleable__control:checked~label.sk-toggleable__label-arrow:before {content: \"▾\";}#sk-container-id-1 div.sk-estimator input.sk-toggleable__control:checked~label.sk-toggleable__label {background-color: #d4ebff;}#sk-container-id-1 div.sk-label input.sk-toggleable__control:checked~label.sk-toggleable__label {background-color: #d4ebff;}#sk-container-id-1 input.sk-hidden--visually {border: 0;clip: rect(1px 1px 1px 1px);clip: rect(1px, 1px, 1px, 1px);height: 1px;margin: -1px;overflow: hidden;padding: 0;position: absolute;width: 1px;}#sk-container-id-1 div.sk-estimator {font-family: monospace;background-color: #f0f8ff;border: 1px dotted black;border-radius: 0.25em;box-sizing: border-box;margin-bottom: 0.5em;}#sk-container-id-1 div.sk-estimator:hover {background-color: #d4ebff;}#sk-container-id-1 div.sk-parallel-item::after {content: \"\";width: 100%;border-bottom: 1px solid gray;flex-grow: 1;}#sk-container-id-1 div.sk-label:hover label.sk-toggleable__label {background-color: #d4ebff;}#sk-container-id-1 div.sk-serial::before {content: \"\";position: absolute;border-left: 1px solid gray;box-sizing: border-box;top: 0;bottom: 0;left: 50%;z-index: 0;}#sk-container-id-1 div.sk-serial {display: flex;flex-direction: column;align-items: center;background-color: white;padding-right: 0.2em;padding-left: 0.2em;position: relative;}#sk-container-id-1 div.sk-item {position: relative;z-index: 1;}#sk-container-id-1 div.sk-parallel {display: flex;align-items: stretch;justify-content: center;background-color: white;position: relative;}#sk-container-id-1 div.sk-item::before, #sk-container-id-1 div.sk-parallel-item::before {content: \"\";position: absolute;border-left: 1px solid gray;box-sizing: border-box;top: 0;bottom: 0;left: 50%;z-index: -1;}#sk-container-id-1 div.sk-parallel-item {display: flex;flex-direction: column;z-index: 1;position: relative;background-color: white;}#sk-container-id-1 div.sk-parallel-item:first-child::after {align-self: flex-end;width: 50%;}#sk-container-id-1 div.sk-parallel-item:last-child::after {align-self: flex-start;width: 50%;}#sk-container-id-1 div.sk-parallel-item:only-child::after {width: 0;}#sk-container-id-1 div.sk-dashed-wrapped {border: 1px dashed gray;margin: 0 0.4em 0.5em 0.4em;box-sizing: border-box;padding-bottom: 0.4em;background-color: white;}#sk-container-id-1 div.sk-label label {font-family: monospace;font-weight: bold;display: inline-block;line-height: 1.2em;}#sk-container-id-1 div.sk-label-container {text-align: center;}#sk-container-id-1 div.sk-container {/* jupyter's `normalize.less` sets `[hidden] { display: none; }` but bootstrap.min.css set `[hidden] { display: none !important; }` so we also need the `!important` here to be able to override the default hidden behavior on the sphinx rendered scikit-learn.org. See: https://github.com/scikit-learn/scikit-learn/issues/21755 */display: inline-block !important;position: relative;}#sk-container-id-1 div.sk-text-repr-fallback {display: none;}</style><div id=\"sk-container-id-1\" class=\"sk-top-container\"><div class=\"sk-text-repr-fallback\"><pre>LogisticRegression(max_iter=2000)</pre><b>In a Jupyter environment, please rerun this cell to show the HTML representation or trust the notebook. <br />On GitHub, the HTML representation is unable to render, please try loading this page with nbviewer.org.</b></div><div class=\"sk-container\" hidden><div class=\"sk-item\"><div class=\"sk-estimator sk-toggleable\"><input class=\"sk-toggleable__control sk-hidden--visually\" id=\"sk-estimator-id-1\" type=\"checkbox\" checked><label for=\"sk-estimator-id-1\" class=\"sk-toggleable__label sk-toggleable__label-arrow\">LogisticRegression</label><div class=\"sk-toggleable__content\"><pre>LogisticRegression(max_iter=2000)</pre></div></div></div></div></div>"
      ],
      "text/plain": [
       "LogisticRegression(max_iter=2000)"
      ]
     },
     "execution_count": 24,
     "metadata": {},
     "output_type": "execute_result"
    }
   ],
   "source": [
    "lg = LogisticRegression(C=1.0,max_iter=2000) # 하이퍼 파라미터\n",
    "lg.fit(X_train, y_train)"
   ]
  },
  {
   "cell_type": "code",
   "execution_count": 25,
   "id": "655172bd",
   "metadata": {},
   "outputs": [
    {
     "data": {
      "text/plain": [
       "0.929637526652452"
      ]
     },
     "execution_count": 25,
     "metadata": {},
     "output_type": "execute_result"
    }
   ],
   "source": [
    "# 분류기 성능 평가(score)\n",
    "lg.score(X_test, y_test) \n",
    "# 92프로의 성능이 나옴"
   ]
  },
  {
   "cell_type": "code",
   "execution_count": null,
   "id": "4b0d213d",
   "metadata": {},
   "outputs": [],
   "source": [
    "분류기 성능 평가 지표"
   ]
  },
  {
   "cell_type": "code",
   "execution_count": 26,
   "id": "e6fd2e06",
   "metadata": {},
   "outputs": [],
   "source": [
    "lg_pred = lg.predict(X_test)"
   ]
  },
  {
   "cell_type": "code",
   "execution_count": 27,
   "id": "a5b0b548",
   "metadata": {},
   "outputs": [
    {
     "data": {
      "text/plain": [
       "array([[2098,   11],\n",
       "       [ 154,   82]], dtype=int64)"
      ]
     },
     "execution_count": 27,
     "metadata": {},
     "output_type": "execute_result"
    }
   ],
   "source": [
    "# 오차행렬\n",
    "# TN  FP\n",
    "# FN  TP\n",
    "\n",
    "confusion_matrix(y_test, lg_pred) # 정답과 예측값을 주면 만들어줌"
   ]
  },
  {
   "cell_type": "code",
   "execution_count": 29,
   "id": "0c95d48a",
   "metadata": {},
   "outputs": [
    {
     "data": {
      "text/plain": [
       "0.929637526652452"
      ]
     },
     "execution_count": 29,
     "metadata": {},
     "output_type": "execute_result"
    }
   ],
   "source": [
    "# 정확도 : 굉장히 높다\n",
    "accuracy_score(y_test, lg_pred)  "
   ]
  },
  {
   "cell_type": "code",
   "execution_count": 30,
   "id": "7f607a47",
   "metadata": {},
   "outputs": [
    {
     "data": {
      "text/plain": [
       "0.8817204301075269"
      ]
     },
     "execution_count": 30,
     "metadata": {},
     "output_type": "execute_result"
    }
   ],
   "source": [
    "# 정밀도\n",
    "precision_score(y_test, lg_pred) "
   ]
  },
  {
   "cell_type": "code",
   "execution_count": 31,
   "id": "01080ec1",
   "metadata": {},
   "outputs": [
    {
     "data": {
      "text/plain": [
       "0.3474576271186441"
      ]
     },
     "execution_count": 31,
     "metadata": {},
     "output_type": "execute_result"
    }
   ],
   "source": [
    "# 재현율 : 굉장히 낮다.\n",
    "recall_score(y_test, lg_pred)  "
   ]
  },
  {
   "cell_type": "code",
   "execution_count": 32,
   "id": "b33635d5",
   "metadata": {},
   "outputs": [
    {
     "data": {
      "text/plain": [
       "0.4984802431610942"
      ]
     },
     "execution_count": 32,
     "metadata": {},
     "output_type": "execute_result"
    }
   ],
   "source": [
    "# 정밀도 + 재현율\n",
    "f1_score(y_test, lg_pred) "
   ]
  },
  {
   "cell_type": "code",
   "execution_count": 33,
   "id": "368929f0",
   "metadata": {},
   "outputs": [
    {
     "name": "stdout",
     "output_type": "stream",
     "text": [
      "              precision    recall  f1-score   support\n",
      "\n",
      "           0       0.93      0.99      0.96      2109\n",
      "           1       0.88      0.35      0.50       236\n",
      "\n",
      "    accuracy                           0.93      2345\n",
      "   macro avg       0.91      0.67      0.73      2345\n",
      "weighted avg       0.93      0.93      0.92      2345\n",
      "\n"
     ]
    }
   ],
   "source": [
    "print(classification_report(y_test, lg_pred)) # 위의 성능지표를 모두 합한 것\n",
    "# 0번 클래스, 1번 클래스에 대해 각각 나옴"
   ]
  },
  {
   "cell_type": "code",
   "execution_count": 34,
   "id": "cf102f71",
   "metadata": {},
   "outputs": [
    {
     "name": "stdout",
     "output_type": "stream",
     "text": [
      "                model   accuracy\n",
      "0  LogisticRegression  92.963753\n"
     ]
    },
    {
     "data": {
      "text/plain": [
       "<Figure size 1200x900 with 0 Axes>"
      ]
     },
     "metadata": {},
     "output_type": "display_data"
    },
    {
     "data": {
      "image/png": "[encoded data removed]",
      "text/plain": [
       "<Figure size 1000x100 with 1 Axes>"
      ]
     },
     "metadata": {},
     "output_type": "display_data"
    }
   ],
   "source": [
    "accuracy_eval('LogisticRegression', lg_pred, y_test)"
   ]
  },
  {
   "cell_type": "code",
   "execution_count": null,
   "id": "31b95d75",
   "metadata": {},
   "outputs": [],
   "source": [
    "2) KNN (K-Nearest Neighbor)"
   ]
  },
  {
   "cell_type": "code",
   "execution_count": 35,
   "id": "41525658",
   "metadata": {},
   "outputs": [],
   "source": [
    "from sklearn.neighbors import KNeighborsClassifier"
   ]
  },
  {
   "cell_type": "code",
   "execution_count": 36,
   "id": "b167f74d",
   "metadata": {},
   "outputs": [
    {
     "data": {
      "text/html": [
       "<style>#sk-container-id-2 {color: black;background-color: white;}#sk-container-id-2 pre{padding: 0;}#sk-container-id-2 div.sk-toggleable {background-color: white;}#sk-container-id-2 label.sk-toggleable__label {cursor: pointer;display: block;width: 100%;margin-bottom: 0;padding: 0.3em;box-sizing: border-box;text-align: center;}#sk-container-id-2 label.sk-toggleable__label-arrow:before {content: \"▸\";float: left;margin-right: 0.25em;color: #696969;}#sk-container-id-2 label.sk-toggleable__label-arrow:hover:before {color: black;}#sk-container-id-2 div.sk-estimator:hover label.sk-toggleable__label-arrow:before {color: black;}#sk-container-id-2 div.sk-toggleable__content {max-height: 0;max-width: 0;overflow: hidden;text-align: left;background-color: #f0f8ff;}#sk-container-id-2 div.sk-toggleable__content pre {margin: 0.2em;color: black;border-radius: 0.25em;background-color: #f0f8ff;}#sk-container-id-2 input.sk-toggleable__control:checked~div.sk-toggleable__content {max-height: 200px;max-width: 100%;overflow: auto;}#sk-container-id-2 input.sk-toggleable__control:checked~label.sk-toggleable__label-arrow:before {content: \"▾\";}#sk-container-id-2 div.sk-estimator input.sk-toggleable__control:checked~label.sk-toggleable__label {background-color: #d4ebff;}#sk-container-id-2 div.sk-label input.sk-toggleable__control:checked~label.sk-toggleable__label {background-color: #d4ebff;}#sk-container-id-2 input.sk-hidden--visually {border: 0;clip: rect(1px 1px 1px 1px);clip: rect(1px, 1px, 1px, 1px);height: 1px;margin: -1px;overflow: hidden;padding: 0;position: absolute;width: 1px;}#sk-container-id-2 div.sk-estimator {font-family: monospace;background-color: #f0f8ff;border: 1px dotted black;border-radius: 0.25em;box-sizing: border-box;margin-bottom: 0.5em;}#sk-container-id-2 div.sk-estimator:hover {background-color: #d4ebff;}#sk-container-id-2 div.sk-parallel-item::after {content: \"\";width: 100%;border-bottom: 1px solid gray;flex-grow: 1;}#sk-container-id-2 div.sk-label:hover label.sk-toggleable__label {background-color: #d4ebff;}#sk-container-id-2 div.sk-serial::before {content: \"\";position: absolute;border-left: 1px solid gray;box-sizing: border-box;top: 0;bottom: 0;left: 50%;z-index: 0;}#sk-container-id-2 div.sk-serial {display: flex;flex-direction: column;align-items: center;background-color: white;padding-right: 0.2em;padding-left: 0.2em;position: relative;}#sk-container-id-2 div.sk-item {position: relative;z-index: 1;}#sk-container-id-2 div.sk-parallel {display: flex;align-items: stretch;justify-content: center;background-color: white;position: relative;}#sk-container-id-2 div.sk-item::before, #sk-container-id-2 div.sk-parallel-item::before {content: \"\";position: absolute;border-left: 1px solid gray;box-sizing: border-box;top: 0;bottom: 0;left: 50%;z-index: -1;}#sk-container-id-2 div.sk-parallel-item {display: flex;flex-direction: column;z-index: 1;position: relative;background-color: white;}#sk-container-id-2 div.sk-parallel-item:first-child::after {align-self: flex-end;width: 50%;}#sk-container-id-2 div.sk-parallel-item:last-child::after {align-self: flex-start;width: 50%;}#sk-container-id-2 div.sk-parallel-item:only-child::after {width: 0;}#sk-container-id-2 div.sk-dashed-wrapped {border: 1px dashed gray;margin: 0 0.4em 0.5em 0.4em;box-sizing: border-box;padding-bottom: 0.4em;background-color: white;}#sk-container-id-2 div.sk-label label {font-family: monospace;font-weight: bold;display: inline-block;line-height: 1.2em;}#sk-container-id-2 div.sk-label-container {text-align: center;}#sk-container-id-2 div.sk-container {/* jupyter's `normalize.less` sets `[hidden] { display: none; }` but bootstrap.min.css set `[hidden] { display: none !important; }` so we also need the `!important` here to be able to override the default hidden behavior on the sphinx rendered scikit-learn.org. See: https://github.com/scikit-learn/scikit-learn/issues/21755 */display: inline-block !important;position: relative;}#sk-container-id-2 div.sk-text-repr-fallback {display: none;}</style><div id=\"sk-container-id-2\" class=\"sk-top-container\"><div class=\"sk-text-repr-fallback\"><pre>KNeighborsClassifier()</pre><b>In a Jupyter environment, please rerun this cell to show the HTML representation or trust the notebook. <br />On GitHub, the HTML representation is unable to render, please try loading this page with nbviewer.org.</b></div><div class=\"sk-container\" hidden><div class=\"sk-item\"><div class=\"sk-estimator sk-toggleable\"><input class=\"sk-toggleable__control sk-hidden--visually\" id=\"sk-estimator-id-2\" type=\"checkbox\" checked><label for=\"sk-estimator-id-2\" class=\"sk-toggleable__label sk-toggleable__label-arrow\">KNeighborsClassifier</label><div class=\"sk-toggleable__content\"><pre>KNeighborsClassifier()</pre></div></div></div></div></div>"
      ],
      "text/plain": [
       "KNeighborsClassifier()"
      ]
     },
     "execution_count": 36,
     "metadata": {},
     "output_type": "execute_result"
    }
   ],
   "source": [
    "knn = KNeighborsClassifier(n_neighbors=5)\n",
    "knn.fit(X_train, y_train)"
   ]
  },
  {
   "cell_type": "code",
   "execution_count": 38,
   "id": "ace49ed8",
   "metadata": {},
   "outputs": [],
   "source": [
    "knn_pred = knn.predict(X_test)"
   ]
  },
  {
   "cell_type": "code",
   "execution_count": 39,
   "id": "3f0db600",
   "metadata": {},
   "outputs": [
    {
     "name": "stdout",
     "output_type": "stream",
     "text": [
      "                model   accuracy\n",
      "0  K-Nearest Neighbor  94.712154\n",
      "1  LogisticRegression  92.963753\n"
     ]
    },
    {
     "data": {
      "text/plain": [
       "<Figure size 1200x900 with 0 Axes>"
      ]
     },
     "metadata": {},
     "output_type": "display_data"
    },
    {
     "data": {
      "image/png": "[encoded data removed]",
      "text/plain": [
       "<Figure size 1000x200 with 1 Axes>"
      ]
     },
     "metadata": {},
     "output_type": "display_data"
    }
   ],
   "source": [
    "accuracy_eval('K-Nearest Neighbor', knn_pred, y_test)"
   ]
  },
  {
   "cell_type": "code",
   "execution_count": null,
   "id": "f6a4b8a5",
   "metadata": {},
   "outputs": [],
   "source": [
    "3) 결정트리(DecisionTree)"
   ]
  },
  {
   "cell_type": "code",
   "execution_count": 40,
   "id": "bc86e883",
   "metadata": {},
   "outputs": [],
   "source": [
    "from sklearn.tree import DecisionTreeClassifier"
   ]
  },
  {
   "cell_type": "code",
   "execution_count": 41,
   "id": "e12ea3b9",
   "metadata": {},
   "outputs": [
    {
     "data": {
      "text/html": [
       "<style>#sk-container-id-3 {color: black;background-color: white;}#sk-container-id-3 pre{padding: 0;}#sk-container-id-3 div.sk-toggleable {background-color: white;}#sk-container-id-3 label.sk-toggleable__label {cursor: pointer;display: block;width: 100%;margin-bottom: 0;padding: 0.3em;box-sizing: border-box;text-align: center;}#sk-container-id-3 label.sk-toggleable__label-arrow:before {content: \"▸\";float: left;margin-right: 0.25em;color: #696969;}#sk-container-id-3 label.sk-toggleable__label-arrow:hover:before {color: black;}#sk-container-id-3 div.sk-estimator:hover label.sk-toggleable__label-arrow:before {color: black;}#sk-container-id-3 div.sk-toggleable__content {max-height: 0;max-width: 0;overflow: hidden;text-align: left;background-color: #f0f8ff;}#sk-container-id-3 div.sk-toggleable__content pre {margin: 0.2em;color: black;border-radius: 0.25em;background-color: #f0f8ff;}#sk-container-id-3 input.sk-toggleable__control:checked~div.sk-toggleable__content {max-height: 200px;max-width: 100%;overflow: auto;}#sk-container-id-3 input.sk-toggleable__control:checked~label.sk-toggleable__label-arrow:before {content: \"▾\";}#sk-container-id-3 div.sk-estimator input.sk-toggleable__control:checked~label.sk-toggleable__label {background-color: #d4ebff;}#sk-container-id-3 div.sk-label input.sk-toggleable__control:checked~label.sk-toggleable__label {background-color: #d4ebff;}#sk-container-id-3 input.sk-hidden--visually {border: 0;clip: rect(1px 1px 1px 1px);clip: rect(1px, 1px, 1px, 1px);height: 1px;margin: -1px;overflow: hidden;padding: 0;position: absolute;width: 1px;}#sk-container-id-3 div.sk-estimator {font-family: monospace;background-color: #f0f8ff;border: 1px dotted black;border-radius: 0.25em;box-sizing: border-box;margin-bottom: 0.5em;}#sk-container-id-3 div.sk-estimator:hover {background-color: #d4ebff;}#sk-container-id-3 div.sk-parallel-item::after {content: \"\";width: 100%;border-bottom: 1px solid gray;flex-grow: 1;}#sk-container-id-3 div.sk-label:hover label.sk-toggleable__label {background-color: #d4ebff;}#sk-container-id-3 div.sk-serial::before {content: \"\";position: absolute;border-left: 1px solid gray;box-sizing: border-box;top: 0;bottom: 0;left: 50%;z-index: 0;}#sk-container-id-3 div.sk-serial {display: flex;flex-direction: column;align-items: center;background-color: white;padding-right: 0.2em;padding-left: 0.2em;position: relative;}#sk-container-id-3 div.sk-item {position: relative;z-index: 1;}#sk-container-id-3 div.sk-parallel {display: flex;align-items: stretch;justify-content: center;background-color: white;position: relative;}#sk-container-id-3 div.sk-item::before, #sk-container-id-3 div.sk-parallel-item::before {content: \"\";position: absolute;border-left: 1px solid gray;box-sizing: border-box;top: 0;bottom: 0;left: 50%;z-index: -1;}#sk-container-id-3 div.sk-parallel-item {display: flex;flex-direction: column;z-index: 1;position: relative;background-color: white;}#sk-container-id-3 div.sk-parallel-item:first-child::after {align-self: flex-end;width: 50%;}#sk-container-id-3 div.sk-parallel-item:last-child::after {align-self: flex-start;width: 50%;}#sk-container-id-3 div.sk-parallel-item:only-child::after {width: 0;}#sk-container-id-3 div.sk-dashed-wrapped {border: 1px dashed gray;margin: 0 0.4em 0.5em 0.4em;box-sizing: border-box;padding-bottom: 0.4em;background-color: white;}#sk-container-id-3 div.sk-label label {font-family: monospace;font-weight: bold;display: inline-block;line-height: 1.2em;}#sk-container-id-3 div.sk-label-container {text-align: center;}#sk-container-id-3 div.sk-container {/* jupyter's `normalize.less` sets `[hidden] { display: none; }` but bootstrap.min.css set `[hidden] { display: none !important; }` so we also need the `!important` here to be able to override the default hidden behavior on the sphinx rendered scikit-learn.org. See: https://github.com/scikit-learn/scikit-learn/issues/21755 */display: inline-block !important;position: relative;}#sk-container-id-3 div.sk-text-repr-fallback {display: none;}</style><div id=\"sk-container-id-3\" class=\"sk-top-container\"><div class=\"sk-text-repr-fallback\"><pre>DecisionTreeClassifier(max_depth=10, random_state=42)</pre><b>In a Jupyter environment, please rerun this cell to show the HTML representation or trust the notebook. <br />On GitHub, the HTML representation is unable to render, please try loading this page with nbviewer.org.</b></div><div class=\"sk-container\" hidden><div class=\"sk-item\"><div class=\"sk-estimator sk-toggleable\"><input class=\"sk-toggleable__control sk-hidden--visually\" id=\"sk-estimator-id-3\" type=\"checkbox\" checked><label for=\"sk-estimator-id-3\" class=\"sk-toggleable__label sk-toggleable__label-arrow\">DecisionTreeClassifier</label><div class=\"sk-toggleable__content\"><pre>DecisionTreeClassifier(max_depth=10, random_state=42)</pre></div></div></div></div></div>"
      ],
      "text/plain": [
       "DecisionTreeClassifier(max_depth=10, random_state=42)"
      ]
     },
     "execution_count": 41,
     "metadata": {},
     "output_type": "execute_result"
    }
   ],
   "source": [
    "dt = DecisionTreeClassifier(max_depth=10, random_state=42)\n",
    "dt.fit(X_train, y_train)"
   ]
  },
  {
   "cell_type": "code",
   "execution_count": 42,
   "id": "9d86a43d",
   "metadata": {},
   "outputs": [],
   "source": [
    "dt_pred = dt.predict(X_test)"
   ]
  },
  {
   "cell_type": "code",
   "execution_count": 43,
   "id": "17fe2acf",
   "metadata": {},
   "outputs": [
    {
     "name": "stdout",
     "output_type": "stream",
     "text": [
      "                model   accuracy\n",
      "0        DecisionTree  97.313433\n",
      "1  K-Nearest Neighbor  94.712154\n",
      "2  LogisticRegression  92.963753\n"
     ]
    },
    {
     "data": {
      "text/plain": [
       "<Figure size 1200x900 with 0 Axes>"
      ]
     },
     "metadata": {},
     "output_type": "display_data"
    },
    {
     "data": {
      "image/png": "[encoded data removed]",
      "text/plain": [
       "<Figure size 1000x300 with 1 Axes>"
      ]
     },
     "metadata": {},
     "output_type": "display_data"
    }
   ],
   "source": [
    "accuracy_eval('DecisionTree', dt_pred, y_test)"
   ]
  },
  {
   "cell_type": "code",
   "execution_count": null,
   "id": "67806834",
   "metadata": {},
   "outputs": [],
   "source": [
    "앙상블 기법의 종류\n",
    "배깅 (Bagging): 여러개의 DecisionTree 활용하고 샘플 중복 생성을 통해 결과 도출. RandomForest\n",
    "부스팅 (Boosting): 약한 학습기를 순차적으로 학습을 하되, 이전 학습에 대하여 잘못 예측된 데이터에 가중치를 부여해 오차를 보완해 나가는 방식. XGBoost, LGBM\n",
    "스태킹 (Stacking): 여러 모델을 기반으로 예측된 결과를 통해 Final 학습기(meta 모델)이 다시 한번 예측\n",
    "앙상블\n",
    "\n",
    "4) 랜덤포레스트(RandomForest)\n",
    "Bagging 대표적인 모델로써, 훈련셋트를 무작위로 각기 다른 서브셋으로 데이터셋을 만들고\n",
    "여러개의 DecisonTree로 학습하고 다수결로 결정하는 모델\n",
    "\n",
    "주요 Hyperparameter\n",
    "\n",
    "random_state: 랜덤 시드 고정 값. 고정해두고 튜닝할 것!\n",
    "n_jobs: CPU 사용 갯수\n",
    "max_depth: 깊어질 수 있는 최대 깊이. 과대적합 방지용\n",
    "n_estimators: 앙상블하는 트리의 갯수\n",
    "max_features: 최대로 사용할 feature의 갯수. 과대적합 방지용\n",
    "min_samples_split: 트리가 분할할 때 최소 샘플의 갯수. default=2. 과대적합 방지용"
   ]
  },
  {
   "cell_type": "code",
   "execution_count": 44,
   "id": "432c0354",
   "metadata": {},
   "outputs": [],
   "source": [
    "from sklearn.ensemble import RandomForestClassifier"
   ]
  },
  {
   "cell_type": "code",
   "execution_count": 45,
   "id": "2c9dc123",
   "metadata": {},
   "outputs": [
    {
     "data": {
      "text/html": [
       "<style>#sk-container-id-4 {color: black;background-color: white;}#sk-container-id-4 pre{padding: 0;}#sk-container-id-4 div.sk-toggleable {background-color: white;}#sk-container-id-4 label.sk-toggleable__label {cursor: pointer;display: block;width: 100%;margin-bottom: 0;padding: 0.3em;box-sizing: border-box;text-align: center;}#sk-container-id-4 label.sk-toggleable__label-arrow:before {content: \"▸\";float: left;margin-right: 0.25em;color: #696969;}#sk-container-id-4 label.sk-toggleable__label-arrow:hover:before {color: black;}#sk-container-id-4 div.sk-estimator:hover label.sk-toggleable__label-arrow:before {color: black;}#sk-container-id-4 div.sk-toggleable__content {max-height: 0;max-width: 0;overflow: hidden;text-align: left;background-color: #f0f8ff;}#sk-container-id-4 div.sk-toggleable__content pre {margin: 0.2em;color: black;border-radius: 0.25em;background-color: #f0f8ff;}#sk-container-id-4 input.sk-toggleable__control:checked~div.sk-toggleable__content {max-height: 200px;max-width: 100%;overflow: auto;}#sk-container-id-4 input.sk-toggleable__control:checked~label.sk-toggleable__label-arrow:before {content: \"▾\";}#sk-container-id-4 div.sk-estimator input.sk-toggleable__control:checked~label.sk-toggleable__label {background-color: #d4ebff;}#sk-container-id-4 div.sk-label input.sk-toggleable__control:checked~label.sk-toggleable__label {background-color: #d4ebff;}#sk-container-id-4 input.sk-hidden--visually {border: 0;clip: rect(1px 1px 1px 1px);clip: rect(1px, 1px, 1px, 1px);height: 1px;margin: -1px;overflow: hidden;padding: 0;position: absolute;width: 1px;}#sk-container-id-4 div.sk-estimator {font-family: monospace;background-color: #f0f8ff;border: 1px dotted black;border-radius: 0.25em;box-sizing: border-box;margin-bottom: 0.5em;}#sk-container-id-4 div.sk-estimator:hover {background-color: #d4ebff;}#sk-container-id-4 div.sk-parallel-item::after {content: \"\";width: 100%;border-bottom: 1px solid gray;flex-grow: 1;}#sk-container-id-4 div.sk-label:hover label.sk-toggleable__label {background-color: #d4ebff;}#sk-container-id-4 div.sk-serial::before {content: \"\";position: absolute;border-left: 1px solid gray;box-sizing: border-box;top: 0;bottom: 0;left: 50%;z-index: 0;}#sk-container-id-4 div.sk-serial {display: flex;flex-direction: column;align-items: center;background-color: white;padding-right: 0.2em;padding-left: 0.2em;position: relative;}#sk-container-id-4 div.sk-item {position: relative;z-index: 1;}#sk-container-id-4 div.sk-parallel {display: flex;align-items: stretch;justify-content: center;background-color: white;position: relative;}#sk-container-id-4 div.sk-item::before, #sk-container-id-4 div.sk-parallel-item::before {content: \"\";position: absolute;border-left: 1px solid gray;box-sizing: border-box;top: 0;bottom: 0;left: 50%;z-index: -1;}#sk-container-id-4 div.sk-parallel-item {display: flex;flex-direction: column;z-index: 1;position: relative;background-color: white;}#sk-container-id-4 div.sk-parallel-item:first-child::after {align-self: flex-end;width: 50%;}#sk-container-id-4 div.sk-parallel-item:last-child::after {align-self: flex-start;width: 50%;}#sk-container-id-4 div.sk-parallel-item:only-child::after {width: 0;}#sk-container-id-4 div.sk-dashed-wrapped {border: 1px dashed gray;margin: 0 0.4em 0.5em 0.4em;box-sizing: border-box;padding-bottom: 0.4em;background-color: white;}#sk-container-id-4 div.sk-label label {font-family: monospace;font-weight: bold;display: inline-block;line-height: 1.2em;}#sk-container-id-4 div.sk-label-container {text-align: center;}#sk-container-id-4 div.sk-container {/* jupyter's `normalize.less` sets `[hidden] { display: none; }` but bootstrap.min.css set `[hidden] { display: none !important; }` so we also need the `!important` here to be able to override the default hidden behavior on the sphinx rendered scikit-learn.org. See: https://github.com/scikit-learn/scikit-learn/issues/21755 */display: inline-block !important;position: relative;}#sk-container-id-4 div.sk-text-repr-fallback {display: none;}</style><div id=\"sk-container-id-4\" class=\"sk-top-container\"><div class=\"sk-text-repr-fallback\"><pre>RandomForestClassifier(n_estimators=3, random_state=42)</pre><b>In a Jupyter environment, please rerun this cell to show the HTML representation or trust the notebook. <br />On GitHub, the HTML representation is unable to render, please try loading this page with nbviewer.org.</b></div><div class=\"sk-container\" hidden><div class=\"sk-item\"><div class=\"sk-estimator sk-toggleable\"><input class=\"sk-toggleable__control sk-hidden--visually\" id=\"sk-estimator-id-4\" type=\"checkbox\" checked><label for=\"sk-estimator-id-4\" class=\"sk-toggleable__label sk-toggleable__label-arrow\">RandomForestClassifier</label><div class=\"sk-toggleable__content\"><pre>RandomForestClassifier(n_estimators=3, random_state=42)</pre></div></div></div></div></div>"
      ],
      "text/plain": [
       "RandomForestClassifier(n_estimators=3, random_state=42)"
      ]
     },
     "execution_count": 45,
     "metadata": {},
     "output_type": "execute_result"
    }
   ],
   "source": [
    "rfc = RandomForestClassifier(n_estimators=3, random_state=42) # 결정트리 3개 사용\n",
    "rfc.fit(X_train, y_train)"
   ]
  },
  {
   "cell_type": "code",
   "execution_count": 46,
   "id": "a632336e",
   "metadata": {},
   "outputs": [],
   "source": [
    "rfc_pred = rfc.predict(X_test)"
   ]
  },
  {
   "cell_type": "code",
   "execution_count": 47,
   "id": "0b8d7566",
   "metadata": {},
   "outputs": [
    {
     "name": "stdout",
     "output_type": "stream",
     "text": [
      "                   model   accuracy\n",
      "0  RandomForest Ensemble  97.611940\n",
      "1           DecisionTree  97.313433\n",
      "2     K-Nearest Neighbor  94.712154\n",
      "3     LogisticRegression  92.963753\n"
     ]
    },
    {
     "data": {
      "text/plain": [
       "<Figure size 1200x900 with 0 Axes>"
      ]
     },
     "metadata": {},
     "output_type": "display_data"
    },
    {
     "data": {
      "image/png": "[encoded data removed]",
      "text/plain": [
       "<Figure size 1000x400 with 1 Axes>"
      ]
     },
     "metadata": {},
     "output_type": "display_data"
    }
   ],
   "source": [
    "accuracy_eval('RandomForest Ensemble', rfc_pred, y_test)"
   ]
  },
  {
   "cell_type": "code",
   "execution_count": null,
   "id": "396ff289",
   "metadata": {},
   "outputs": [],
   "source": [
    "5) XGBoost\n",
    "여러개의 DecisionTree를 결합하여 Strong Learner 만드는 Boosting 앙상블 기법\n",
    "Kaggle 대회에서 자주 사용하는 모델이다.\n",
    "주요 특징\n",
    "\n",
    "scikit-learn 패키지가 아닙니다.\n",
    "성능이 우수함\n",
    "GBM보다는 빠르고 성능도 향상되었습니다.\n",
    "여전히 학습시간이 매우 느리다\n",
    "주요 Hyperparameter\n",
    "\n",
    "random_state: 랜덤 시드 고정 값. 고정해두고 튜닝할 것!\n",
    "n_jobs: CPU 사용 갯수\n",
    "learning_rate: 학습율. 너무 큰 학습율은 성능을 떨어뜨리고, 너무 작은 학습율은 학습이 느리다. 적절한 값을 찾아야함. n_estimators와 같이 튜닝. default=0.1\n",
    "n_estimators: 부스팅 스테이지 수. (랜덤포레스트 트리의 갯수 설정과 비슷한 개념). default=100\n",
    "max_depth: 트리의 깊이. 과대적합 방지용. default=3.\n",
    "subsample: 샘플 사용 비율. 과대적합 방지용. default=1.0\n",
    "max_features: 최대로 사용할 feature의 비율. 과대적합 방지용. default=1.0\n"
   ]
  },
  {
   "cell_type": "code",
   "execution_count": 48,
   "id": "ae21ca7c",
   "metadata": {},
   "outputs": [
    {
     "name": "stdout",
     "output_type": "stream",
     "text": [
      "Collecting xgboost\n",
      "  Downloading xgboost-1.7.6-py3-none-win_amd64.whl (70.9 MB)\n",
      "     ---------------------------------------- 70.9/70.9 MB 5.0 MB/s eta 0:00:00\n",
      "Requirement already satisfied: numpy in c:\\users\\gkdms\\anaconda3\\lib\\site-packages (from xgboost) (1.23.5)\n",
      "Requirement already satisfied: scipy in c:\\users\\gkdms\\anaconda3\\lib\\site-packages (from xgboost) (1.10.0)\n",
      "Installing collected packages: xgboost\n",
      "Successfully installed xgboost-1.7.6\n"
     ]
    }
   ],
   "source": [
    "!pip install xgboost"
   ]
  },
  {
   "cell_type": "code",
   "execution_count": 49,
   "id": "1c76f0d2",
   "metadata": {},
   "outputs": [],
   "source": [
    "from xgboost import XGBClassifier"
   ]
  },
  {
   "cell_type": "code",
   "execution_count": 50,
   "id": "c3a60837",
   "metadata": {},
   "outputs": [
    {
     "data": {
      "text/html": [
       "<style>#sk-container-id-5 {color: black;background-color: white;}#sk-container-id-5 pre{padding: 0;}#sk-container-id-5 div.sk-toggleable {background-color: white;}#sk-container-id-5 label.sk-toggleable__label {cursor: pointer;display: block;width: 100%;margin-bottom: 0;padding: 0.3em;box-sizing: border-box;text-align: center;}#sk-container-id-5 label.sk-toggleable__label-arrow:before {content: \"▸\";float: left;margin-right: 0.25em;color: #696969;}#sk-container-id-5 label.sk-toggleable__label-arrow:hover:before {color: black;}#sk-container-id-5 div.sk-estimator:hover label.sk-toggleable__label-arrow:before {color: black;}#sk-container-id-5 div.sk-toggleable__content {max-height: 0;max-width: 0;overflow: hidden;text-align: left;background-color: #f0f8ff;}#sk-container-id-5 div.sk-toggleable__content pre {margin: 0.2em;color: black;border-radius: 0.25em;background-color: #f0f8ff;}#sk-container-id-5 input.sk-toggleable__control:checked~div.sk-toggleable__content {max-height: 200px;max-width: 100%;overflow: auto;}#sk-container-id-5 input.sk-toggleable__control:checked~label.sk-toggleable__label-arrow:before {content: \"▾\";}#sk-container-id-5 div.sk-estimator input.sk-toggleable__control:checked~label.sk-toggleable__label {background-color: #d4ebff;}#sk-container-id-5 div.sk-label input.sk-toggleable__control:checked~label.sk-toggleable__label {background-color: #d4ebff;}#sk-container-id-5 input.sk-hidden--visually {border: 0;clip: rect(1px 1px 1px 1px);clip: rect(1px, 1px, 1px, 1px);height: 1px;margin: -1px;overflow: hidden;padding: 0;position: absolute;width: 1px;}#sk-container-id-5 div.sk-estimator {font-family: monospace;background-color: #f0f8ff;border: 1px dotted black;border-radius: 0.25em;box-sizing: border-box;margin-bottom: 0.5em;}#sk-container-id-5 div.sk-estimator:hover {background-color: #d4ebff;}#sk-container-id-5 div.sk-parallel-item::after {content: \"\";width: 100%;border-bottom: 1px solid gray;flex-grow: 1;}#sk-container-id-5 div.sk-label:hover label.sk-toggleable__label {background-color: #d4ebff;}#sk-container-id-5 div.sk-serial::before {content: \"\";position: absolute;border-left: 1px solid gray;box-sizing: border-box;top: 0;bottom: 0;left: 50%;z-index: 0;}#sk-container-id-5 div.sk-serial {display: flex;flex-direction: column;align-items: center;background-color: white;padding-right: 0.2em;padding-left: 0.2em;position: relative;}#sk-container-id-5 div.sk-item {position: relative;z-index: 1;}#sk-container-id-5 div.sk-parallel {display: flex;align-items: stretch;justify-content: center;background-color: white;position: relative;}#sk-container-id-5 div.sk-item::before, #sk-container-id-5 div.sk-parallel-item::before {content: \"\";position: absolute;border-left: 1px solid gray;box-sizing: border-box;top: 0;bottom: 0;left: 50%;z-index: -1;}#sk-container-id-5 div.sk-parallel-item {display: flex;flex-direction: column;z-index: 1;position: relative;background-color: white;}#sk-container-id-5 div.sk-parallel-item:first-child::after {align-self: flex-end;width: 50%;}#sk-container-id-5 div.sk-parallel-item:last-child::after {align-self: flex-start;width: 50%;}#sk-container-id-5 div.sk-parallel-item:only-child::after {width: 0;}#sk-container-id-5 div.sk-dashed-wrapped {border: 1px dashed gray;margin: 0 0.4em 0.5em 0.4em;box-sizing: border-box;padding-bottom: 0.4em;background-color: white;}#sk-container-id-5 div.sk-label label {font-family: monospace;font-weight: bold;display: inline-block;line-height: 1.2em;}#sk-container-id-5 div.sk-label-container {text-align: center;}#sk-container-id-5 div.sk-container {/* jupyter's `normalize.less` sets `[hidden] { display: none; }` but bootstrap.min.css set `[hidden] { display: none !important; }` so we also need the `!important` here to be able to override the default hidden behavior on the sphinx rendered scikit-learn.org. See: https://github.com/scikit-learn/scikit-learn/issues/21755 */display: inline-block !important;position: relative;}#sk-container-id-5 div.sk-text-repr-fallback {display: none;}</style><div id=\"sk-container-id-5\" class=\"sk-top-container\"><div class=\"sk-text-repr-fallback\"><pre>XGBClassifier(base_score=None, booster=None, callbacks=None,\n",
       "              colsample_bylevel=None, colsample_bynode=None,\n",
       "              colsample_bytree=None, early_stopping_rounds=None,\n",
       "              enable_categorical=False, eval_metric=None, feature_types=None,\n",
       "              gamma=None, gpu_id=None, grow_policy=None, importance_type=None,\n",
       "              interaction_constraints=None, learning_rate=None, max_bin=None,\n",
       "              max_cat_threshold=None, max_cat_to_onehot=None,\n",
       "              max_delta_step=None, max_depth=None, max_leaves=None,\n",
       "              min_child_weight=None, missing=nan, monotone_constraints=None,\n",
       "              n_estimators=3, n_jobs=None, num_parallel_tree=None,\n",
       "              predictor=None, random_state=42, ...)</pre><b>In a Jupyter environment, please rerun this cell to show the HTML representation or trust the notebook. <br />On GitHub, the HTML representation is unable to render, please try loading this page with nbviewer.org.</b></div><div class=\"sk-container\" hidden><div class=\"sk-item\"><div class=\"sk-estimator sk-toggleable\"><input class=\"sk-toggleable__control sk-hidden--visually\" id=\"sk-estimator-id-5\" type=\"checkbox\" checked><label for=\"sk-estimator-id-5\" class=\"sk-toggleable__label sk-toggleable__label-arrow\">XGBClassifier</label><div class=\"sk-toggleable__content\"><pre>XGBClassifier(base_score=None, booster=None, callbacks=None,\n",
       "              colsample_bylevel=None, colsample_bynode=None,\n",
       "              colsample_bytree=None, early_stopping_rounds=None,\n",
       "              enable_categorical=False, eval_metric=None, feature_types=None,\n",
       "              gamma=None, gpu_id=None, grow_policy=None, importance_type=None,\n",
       "              interaction_constraints=None, learning_rate=None, max_bin=None,\n",
       "              max_cat_threshold=None, max_cat_to_onehot=None,\n",
       "              max_delta_step=None, max_depth=None, max_leaves=None,\n",
       "              min_child_weight=None, missing=nan, monotone_constraints=None,\n",
       "              n_estimators=3, n_jobs=None, num_parallel_tree=None,\n",
       "              predictor=None, random_state=42, ...)</pre></div></div></div></div></div>"
      ],
      "text/plain": [
       "XGBClassifier(base_score=None, booster=None, callbacks=None,\n",
       "              colsample_bylevel=None, colsample_bynode=None,\n",
       "              colsample_bytree=None, early_stopping_rounds=None,\n",
       "              enable_categorical=False, eval_metric=None, feature_types=None,\n",
       "              gamma=None, gpu_id=None, grow_policy=None, importance_type=None,\n",
       "              interaction_constraints=None, learning_rate=None, max_bin=None,\n",
       "              max_cat_threshold=None, max_cat_to_onehot=None,\n",
       "              max_delta_step=None, max_depth=None, max_leaves=None,\n",
       "              min_child_weight=None, missing=nan, monotone_constraints=None,\n",
       "              n_estimators=3, n_jobs=None, num_parallel_tree=None,\n",
       "              predictor=None, random_state=42, ...)"
      ]
     },
     "execution_count": 50,
     "metadata": {},
     "output_type": "execute_result"
    }
   ],
   "source": [
    "xgb = XGBClassifier(n_estimators=3, random_state=42)  # 10초 소요\n",
    "xgb.fit(X_train, y_train)"
   ]
  },
  {
   "cell_type": "code",
   "execution_count": 51,
   "id": "55457bfb",
   "metadata": {},
   "outputs": [],
   "source": [
    "xgb_pred = xgb.predict(X_test)"
   ]
  },
  {
   "cell_type": "code",
   "execution_count": 52,
   "id": "8e8e9eff",
   "metadata": {},
   "outputs": [
    {
     "name": "stdout",
     "output_type": "stream",
     "text": [
      "                   model   accuracy\n",
      "0                XGBoost  97.825160\n",
      "1  RandomForest Ensemble  97.611940\n",
      "2           DecisionTree  97.313433\n",
      "3     K-Nearest Neighbor  94.712154\n",
      "4     LogisticRegression  92.963753\n"
     ]
    },
    {
     "data": {
      "text/plain": [
       "<Figure size 1200x900 with 0 Axes>"
      ]
     },
     "metadata": {},
     "output_type": "display_data"
    },
    {
     "data": {
      "image/png": "[encoded data removed]",
      "text/plain": [
       "<Figure size 1000x500 with 1 Axes>"
      ]
     },
     "metadata": {},
     "output_type": "display_data"
    }
   ],
   "source": [
    "accuracy_eval('XGBoost', xgb_pred, y_test)"
   ]
  },
  {
   "cell_type": "code",
   "execution_count": null,
   "id": "b6e93316",
   "metadata": {},
   "outputs": [],
   "source": [
    "6) Light GBM\n",
    "XGBoost와 함께 주목받는 DecisionTree 알고리즘 기반의 Boosting 앙상블 기법\n",
    "XGBoost에 비해 학습시간이 짧은 편이다.\n",
    "주요 특징\n",
    "\n",
    "scikit-learn 패키지가 아닙니다.\n",
    "성능이 우수함\n",
    "속도도 매우 빠릅니다.\n",
    "주요 Hyperparameter\n",
    "\n",
    "random_state: 랜덤 시드 고정 값. 고정해두고 튜닝할 것!\n",
    "n_jobs: CPU 사용 갯수\n",
    "learning_rate: 학습율. 너무 큰 학습율은 성능을 떨어뜨리고, 너무 작은 학습율은 학습이 느리다. 적절한 값을 찾아야함. n_estimators와 같이 튜닝. default=0.1\n",
    "n_estimators: 부스팅 스테이지 수. (랜덤포레스트 트리의 갯수 설정과 비슷한 개념). default=100\n",
    "max_depth: 트리의 깊이. 과대적합 방지용. default=3.\n",
    "colsample_bytree: 샘플 사용 비율 (max_features와 비슷한 개념). 과대적합 방지용. default=1.0"
   ]
  },
  {
   "cell_type": "code",
   "execution_count": 53,
   "id": "3e79befe",
   "metadata": {},
   "outputs": [
    {
     "name": "stdout",
     "output_type": "stream",
     "text": [
      "Collecting lightgbm\n",
      "  Downloading lightgbm-4.0.0-py3-none-win_amd64.whl (1.3 MB)\n",
      "     ---------------------------------------- 1.3/1.3 MB 4.9 MB/s eta 0:00:00\n",
      "Requirement already satisfied: scipy in c:\\users\\gkdms\\anaconda3\\lib\\site-packages (from lightgbm) (1.10.0)\n",
      "Requirement already satisfied: numpy in c:\\users\\gkdms\\anaconda3\\lib\\site-packages (from lightgbm) (1.23.5)\n",
      "Installing collected packages: lightgbm\n",
      "Successfully installed lightgbm-4.0.0\n"
     ]
    }
   ],
   "source": [
    "!pip install lightgbm"
   ]
  },
  {
   "cell_type": "code",
   "execution_count": 54,
   "id": "0aee75ee",
   "metadata": {},
   "outputs": [],
   "source": [
    "from lightgbm import LGBMClassifier"
   ]
  },
  {
   "cell_type": "code",
   "execution_count": 55,
   "id": "1e2c3892",
   "metadata": {},
   "outputs": [
    {
     "name": "stdout",
     "output_type": "stream",
     "text": [
      "[LightGBM] [Info] Number of positive: 549, number of negative: 4920\n",
      "[LightGBM] [Warning] Auto-choosing row-wise multi-threading, the overhead of testing was 0.000265 seconds.\n",
      "You can set `force_row_wise=true` to remove the overhead.\n",
      "And if memory is not enough, you can set `force_col_wise=true`.\n",
      "[LightGBM] [Info] Total Bins 912\n",
      "[LightGBM] [Info] Number of data points in the train set: 5469, number of used features: 18\n",
      "[LightGBM] [Info] [binary:BoostFromScore]: pavg=0.100384 -> initscore=-2.192965\n",
      "[LightGBM] [Info] Start training from score -2.192965\n"
     ]
    },
    {
     "data": {
      "text/html": [
       "<style>#sk-container-id-6 {color: black;background-color: white;}#sk-container-id-6 pre{padding: 0;}#sk-container-id-6 div.sk-toggleable {background-color: white;}#sk-container-id-6 label.sk-toggleable__label {cursor: pointer;display: block;width: 100%;margin-bottom: 0;padding: 0.3em;box-sizing: border-box;text-align: center;}#sk-container-id-6 label.sk-toggleable__label-arrow:before {content: \"▸\";float: left;margin-right: 0.25em;color: #696969;}#sk-container-id-6 label.sk-toggleable__label-arrow:hover:before {color: black;}#sk-container-id-6 div.sk-estimator:hover label.sk-toggleable__label-arrow:before {color: black;}#sk-container-id-6 div.sk-toggleable__content {max-height: 0;max-width: 0;overflow: hidden;text-align: left;background-color: #f0f8ff;}#sk-container-id-6 div.sk-toggleable__content pre {margin: 0.2em;color: black;border-radius: 0.25em;background-color: #f0f8ff;}#sk-container-id-6 input.sk-toggleable__control:checked~div.sk-toggleable__content {max-height: 200px;max-width: 100%;overflow: auto;}#sk-container-id-6 input.sk-toggleable__control:checked~label.sk-toggleable__label-arrow:before {content: \"▾\";}#sk-container-id-6 div.sk-estimator input.sk-toggleable__control:checked~label.sk-toggleable__label {background-color: #d4ebff;}#sk-container-id-6 div.sk-label input.sk-toggleable__control:checked~label.sk-toggleable__label {background-color: #d4ebff;}#sk-container-id-6 input.sk-hidden--visually {border: 0;clip: rect(1px 1px 1px 1px);clip: rect(1px, 1px, 1px, 1px);height: 1px;margin: -1px;overflow: hidden;padding: 0;position: absolute;width: 1px;}#sk-container-id-6 div.sk-estimator {font-family: monospace;background-color: #f0f8ff;border: 1px dotted black;border-radius: 0.25em;box-sizing: border-box;margin-bottom: 0.5em;}#sk-container-id-6 div.sk-estimator:hover {background-color: #d4ebff;}#sk-container-id-6 div.sk-parallel-item::after {content: \"\";width: 100%;border-bottom: 1px solid gray;flex-grow: 1;}#sk-container-id-6 div.sk-label:hover label.sk-toggleable__label {background-color: #d4ebff;}#sk-container-id-6 div.sk-serial::before {content: \"\";position: absolute;border-left: 1px solid gray;box-sizing: border-box;top: 0;bottom: 0;left: 50%;z-index: 0;}#sk-container-id-6 div.sk-serial {display: flex;flex-direction: column;align-items: center;background-color: white;padding-right: 0.2em;padding-left: 0.2em;position: relative;}#sk-container-id-6 div.sk-item {position: relative;z-index: 1;}#sk-container-id-6 div.sk-parallel {display: flex;align-items: stretch;justify-content: center;background-color: white;position: relative;}#sk-container-id-6 div.sk-item::before, #sk-container-id-6 div.sk-parallel-item::before {content: \"\";position: absolute;border-left: 1px solid gray;box-sizing: border-box;top: 0;bottom: 0;left: 50%;z-index: -1;}#sk-container-id-6 div.sk-parallel-item {display: flex;flex-direction: column;z-index: 1;position: relative;background-color: white;}#sk-container-id-6 div.sk-parallel-item:first-child::after {align-self: flex-end;width: 50%;}#sk-container-id-6 div.sk-parallel-item:last-child::after {align-self: flex-start;width: 50%;}#sk-container-id-6 div.sk-parallel-item:only-child::after {width: 0;}#sk-container-id-6 div.sk-dashed-wrapped {border: 1px dashed gray;margin: 0 0.4em 0.5em 0.4em;box-sizing: border-box;padding-bottom: 0.4em;background-color: white;}#sk-container-id-6 div.sk-label label {font-family: monospace;font-weight: bold;display: inline-block;line-height: 1.2em;}#sk-container-id-6 div.sk-label-container {text-align: center;}#sk-container-id-6 div.sk-container {/* jupyter's `normalize.less` sets `[hidden] { display: none; }` but bootstrap.min.css set `[hidden] { display: none !important; }` so we also need the `!important` here to be able to override the default hidden behavior on the sphinx rendered scikit-learn.org. See: https://github.com/scikit-learn/scikit-learn/issues/21755 */display: inline-block !important;position: relative;}#sk-container-id-6 div.sk-text-repr-fallback {display: none;}</style><div id=\"sk-container-id-6\" class=\"sk-top-container\"><div class=\"sk-text-repr-fallback\"><pre>LGBMClassifier(n_estimators=3, random_state=42)</pre><b>In a Jupyter environment, please rerun this cell to show the HTML representation or trust the notebook. <br />On GitHub, the HTML representation is unable to render, please try loading this page with nbviewer.org.</b></div><div class=\"sk-container\" hidden><div class=\"sk-item\"><div class=\"sk-estimator sk-toggleable\"><input class=\"sk-toggleable__control sk-hidden--visually\" id=\"sk-estimator-id-6\" type=\"checkbox\" checked><label for=\"sk-estimator-id-6\" class=\"sk-toggleable__label sk-toggleable__label-arrow\">LGBMClassifier</label><div class=\"sk-toggleable__content\"><pre>LGBMClassifier(n_estimators=3, random_state=42)</pre></div></div></div></div></div>"
      ],
      "text/plain": [
       "LGBMClassifier(n_estimators=3, random_state=42)"
      ]
     },
     "execution_count": 55,
     "metadata": {},
     "output_type": "execute_result"
    }
   ],
   "source": [
    "lgbm = LGBMClassifier(n_estimators=3, random_state=42)   # 생각보다 성능이 안 나옴. 성능을 높이기 위해 에스티메이터 높여주기 오래 걸림\n",
    "lgbm.fit(X_train, y_train)"
   ]
  },
  {
   "cell_type": "code",
   "execution_count": 56,
   "id": "4d5a7672",
   "metadata": {},
   "outputs": [],
   "source": [
    "lgbm_pred = lgbm.predict(X_test)"
   ]
  },
  {
   "cell_type": "code",
   "execution_count": 57,
   "id": "e5073e87",
   "metadata": {},
   "outputs": [
    {
     "name": "stdout",
     "output_type": "stream",
     "text": [
      "                   model   accuracy\n",
      "0                XGBoost  97.825160\n",
      "1  RandomForest Ensemble  97.611940\n",
      "2           DecisionTree  97.313433\n",
      "3     K-Nearest Neighbor  94.712154\n",
      "4     LogisticRegression  92.963753\n",
      "5                   LGBM  89.936034\n"
     ]
    },
    {
     "data": {
      "text/plain": [
       "<Figure size 1200x900 with 0 Axes>"
      ]
     },
     "metadata": {},
     "output_type": "display_data"
    },
    {
     "data": {
      "image/png": "[encoded data removed]",
      "text/plain": [
       "<Figure size 1000x600 with 1 Axes>"
      ]
     },
     "metadata": {},
     "output_type": "display_data"
    }
   ],
   "source": [
    "accuracy_eval('LGBM', lgbm_pred, y_test)"
   ]
  },
  {
   "cell_type": "code",
   "execution_count": null,
   "id": "5168c725",
   "metadata": {},
   "outputs": [],
   "source": [
    "7) Stacking\n",
    "개별 모델이 예측한 데이터를 기반으로 final_estimator 종합하여 예측을 수행합니다.\n",
    "\n",
    "성능을 극으로 끌어올릴 때 활용하기도 합니다.\n",
    "과대적합을 유발할 수 있습니다. (특히, 데이터셋이 적은 경우)"
   ]
  },
  {
   "cell_type": "code",
   "execution_count": 58,
   "id": "17d3aeaa",
   "metadata": {},
   "outputs": [],
   "source": [
    "from sklearn.ensemble import StackingRegressor, StackingClassifier"
   ]
  },
  {
   "cell_type": "code",
   "execution_count": 59,
   "id": "ac220c2e",
   "metadata": {},
   "outputs": [],
   "source": [
    "stack_models = [\n",
    "    ('LogisticRegression', lg), \n",
    "    ('KNN', knn), \n",
    "    ('DecisionTree', dt),\n",
    "]"
   ]
  },
  {
   "cell_type": "code",
   "execution_count": 60,
   "id": "2406ed7a",
   "metadata": {},
   "outputs": [],
   "source": [
    "# stack_models로 선언된 모델(LogisticRegression,KNN,DecisionTree)의 예측결과를 최종 meta_model(final_estimator)을 RandomForest(rfc) 사용하여 분류 예측 \n",
    "stacking = StackingClassifier(stack_models, final_estimator=rfc, n_jobs=-1)"
   ]
  },
  {
   "cell_type": "code",
   "execution_count": 61,
   "id": "60237c51",
   "metadata": {},
   "outputs": [
    {
     "data": {
      "text/html": [
       "<style>#sk-container-id-7 {color: black;background-color: white;}#sk-container-id-7 pre{padding: 0;}#sk-container-id-7 div.sk-toggleable {background-color: white;}#sk-container-id-7 label.sk-toggleable__label {cursor: pointer;display: block;width: 100%;margin-bottom: 0;padding: 0.3em;box-sizing: border-box;text-align: center;}#sk-container-id-7 label.sk-toggleable__label-arrow:before {content: \"▸\";float: left;margin-right: 0.25em;color: #696969;}#sk-container-id-7 label.sk-toggleable__label-arrow:hover:before {color: black;}#sk-container-id-7 div.sk-estimator:hover label.sk-toggleable__label-arrow:before {color: black;}#sk-container-id-7 div.sk-toggleable__content {max-height: 0;max-width: 0;overflow: hidden;text-align: left;background-color: #f0f8ff;}#sk-container-id-7 div.sk-toggleable__content pre {margin: 0.2em;color: black;border-radius: 0.25em;background-color: #f0f8ff;}#sk-container-id-7 input.sk-toggleable__control:checked~div.sk-toggleable__content {max-height: 200px;max-width: 100%;overflow: auto;}#sk-container-id-7 input.sk-toggleable__control:checked~label.sk-toggleable__label-arrow:before {content: \"▾\";}#sk-container-id-7 div.sk-estimator input.sk-toggleable__control:checked~label.sk-toggleable__label {background-color: #d4ebff;}#sk-container-id-7 div.sk-label input.sk-toggleable__control:checked~label.sk-toggleable__label {background-color: #d4ebff;}#sk-container-id-7 input.sk-hidden--visually {border: 0;clip: rect(1px 1px 1px 1px);clip: rect(1px, 1px, 1px, 1px);height: 1px;margin: -1px;overflow: hidden;padding: 0;position: absolute;width: 1px;}#sk-container-id-7 div.sk-estimator {font-family: monospace;background-color: #f0f8ff;border: 1px dotted black;border-radius: 0.25em;box-sizing: border-box;margin-bottom: 0.5em;}#sk-container-id-7 div.sk-estimator:hover {background-color: #d4ebff;}#sk-container-id-7 div.sk-parallel-item::after {content: \"\";width: 100%;border-bottom: 1px solid gray;flex-grow: 1;}#sk-container-id-7 div.sk-label:hover label.sk-toggleable__label {background-color: #d4ebff;}#sk-container-id-7 div.sk-serial::before {content: \"\";position: absolute;border-left: 1px solid gray;box-sizing: border-box;top: 0;bottom: 0;left: 50%;z-index: 0;}#sk-container-id-7 div.sk-serial {display: flex;flex-direction: column;align-items: center;background-color: white;padding-right: 0.2em;padding-left: 0.2em;position: relative;}#sk-container-id-7 div.sk-item {position: relative;z-index: 1;}#sk-container-id-7 div.sk-parallel {display: flex;align-items: stretch;justify-content: center;background-color: white;position: relative;}#sk-container-id-7 div.sk-item::before, #sk-container-id-7 div.sk-parallel-item::before {content: \"\";position: absolute;border-left: 1px solid gray;box-sizing: border-box;top: 0;bottom: 0;left: 50%;z-index: -1;}#sk-container-id-7 div.sk-parallel-item {display: flex;flex-direction: column;z-index: 1;position: relative;background-color: white;}#sk-container-id-7 div.sk-parallel-item:first-child::after {align-self: flex-end;width: 50%;}#sk-container-id-7 div.sk-parallel-item:last-child::after {align-self: flex-start;width: 50%;}#sk-container-id-7 div.sk-parallel-item:only-child::after {width: 0;}#sk-container-id-7 div.sk-dashed-wrapped {border: 1px dashed gray;margin: 0 0.4em 0.5em 0.4em;box-sizing: border-box;padding-bottom: 0.4em;background-color: white;}#sk-container-id-7 div.sk-label label {font-family: monospace;font-weight: bold;display: inline-block;line-height: 1.2em;}#sk-container-id-7 div.sk-label-container {text-align: center;}#sk-container-id-7 div.sk-container {/* jupyter's `normalize.less` sets `[hidden] { display: none; }` but bootstrap.min.css set `[hidden] { display: none !important; }` so we also need the `!important` here to be able to override the default hidden behavior on the sphinx rendered scikit-learn.org. See: https://github.com/scikit-learn/scikit-learn/issues/21755 */display: inline-block !important;position: relative;}#sk-container-id-7 div.sk-text-repr-fallback {display: none;}</style><div id=\"sk-container-id-7\" class=\"sk-top-container\"><div class=\"sk-text-repr-fallback\"><pre>StackingClassifier(estimators=[(&#x27;LogisticRegression&#x27;,\n",
       "                                LogisticRegression(max_iter=2000)),\n",
       "                               (&#x27;KNN&#x27;, KNeighborsClassifier()),\n",
       "                               (&#x27;DecisionTree&#x27;,\n",
       "                                DecisionTreeClassifier(max_depth=10,\n",
       "                                                       random_state=42))],\n",
       "                   final_estimator=RandomForestClassifier(n_estimators=3,\n",
       "                                                          random_state=42),\n",
       "                   n_jobs=-1)</pre><b>In a Jupyter environment, please rerun this cell to show the HTML representation or trust the notebook. <br />On GitHub, the HTML representation is unable to render, please try loading this page with nbviewer.org.</b></div><div class=\"sk-container\" hidden><div class=\"sk-item sk-dashed-wrapped\"><div class=\"sk-label-container\"><div class=\"sk-label sk-toggleable\"><input class=\"sk-toggleable__control sk-hidden--visually\" id=\"sk-estimator-id-7\" type=\"checkbox\" ><label for=\"sk-estimator-id-7\" class=\"sk-toggleable__label sk-toggleable__label-arrow\">StackingClassifier</label><div class=\"sk-toggleable__content\"><pre>StackingClassifier(estimators=[(&#x27;LogisticRegression&#x27;,\n",
       "                                LogisticRegression(max_iter=2000)),\n",
       "                               (&#x27;KNN&#x27;, KNeighborsClassifier()),\n",
       "                               (&#x27;DecisionTree&#x27;,\n",
       "                                DecisionTreeClassifier(max_depth=10,\n",
       "                                                       random_state=42))],\n",
       "                   final_estimator=RandomForestClassifier(n_estimators=3,\n",
       "                                                          random_state=42),\n",
       "                   n_jobs=-1)</pre></div></div></div><div class=\"sk-serial\"><div class=\"sk-item\"><div class=\"sk-parallel\"><div class=\"sk-parallel-item\"><div class=\"sk-item\"><div class=\"sk-label-container\"><div class=\"sk-label sk-toggleable\"><label>LogisticRegression</label></div></div><div class=\"sk-serial\"><div class=\"sk-item\"><div class=\"sk-estimator sk-toggleable\"><input class=\"sk-toggleable__control sk-hidden--visually\" id=\"sk-estimator-id-8\" type=\"checkbox\" ><label for=\"sk-estimator-id-8\" class=\"sk-toggleable__label sk-toggleable__label-arrow\">LogisticRegression</label><div class=\"sk-toggleable__content\"><pre>LogisticRegression(max_iter=2000)</pre></div></div></div></div></div></div><div class=\"sk-parallel-item\"><div class=\"sk-item\"><div class=\"sk-label-container\"><div class=\"sk-label sk-toggleable\"><label>KNN</label></div></div><div class=\"sk-serial\"><div class=\"sk-item\"><div class=\"sk-estimator sk-toggleable\"><input class=\"sk-toggleable__control sk-hidden--visually\" id=\"sk-estimator-id-9\" type=\"checkbox\" ><label for=\"sk-estimator-id-9\" class=\"sk-toggleable__label sk-toggleable__label-arrow\">KNeighborsClassifier</label><div class=\"sk-toggleable__content\"><pre>KNeighborsClassifier()</pre></div></div></div></div></div></div><div class=\"sk-parallel-item\"><div class=\"sk-item\"><div class=\"sk-label-container\"><div class=\"sk-label sk-toggleable\"><label>DecisionTree</label></div></div><div class=\"sk-serial\"><div class=\"sk-item\"><div class=\"sk-estimator sk-toggleable\"><input class=\"sk-toggleable__control sk-hidden--visually\" id=\"sk-estimator-id-10\" type=\"checkbox\" ><label for=\"sk-estimator-id-10\" class=\"sk-toggleable__label sk-toggleable__label-arrow\">DecisionTreeClassifier</label><div class=\"sk-toggleable__content\"><pre>DecisionTreeClassifier(max_depth=10, random_state=42)</pre></div></div></div></div></div></div></div></div><div class=\"sk-item\"><div class=\"sk-parallel\"><div class=\"sk-parallel-item\"><div class=\"sk-item\"><div class=\"sk-label-container\"><div class=\"sk-label sk-toggleable\"><label>final_estimator</label></div></div><div class=\"sk-serial\"><div class=\"sk-item\"><div class=\"sk-estimator sk-toggleable\"><input class=\"sk-toggleable__control sk-hidden--visually\" id=\"sk-estimator-id-11\" type=\"checkbox\" ><label for=\"sk-estimator-id-11\" class=\"sk-toggleable__label sk-toggleable__label-arrow\">RandomForestClassifier</label><div class=\"sk-toggleable__content\"><pre>RandomForestClassifier(n_estimators=3, random_state=42)</pre></div></div></div></div></div></div></div></div></div></div></div></div>"
      ],
      "text/plain": [
       "StackingClassifier(estimators=[('LogisticRegression',\n",
       "                                LogisticRegression(max_iter=2000)),\n",
       "                               ('KNN', KNeighborsClassifier()),\n",
       "                               ('DecisionTree',\n",
       "                                DecisionTreeClassifier(max_depth=10,\n",
       "                                                       random_state=42))],\n",
       "                   final_estimator=RandomForestClassifier(n_estimators=3,\n",
       "                                                          random_state=42),\n",
       "                   n_jobs=-1)"
      ]
     },
     "execution_count": 61,
     "metadata": {},
     "output_type": "execute_result"
    }
   ],
   "source": [
    "stacking.fit(X_train, y_train)   # 1분 20초 소요"
   ]
  },
  {
   "cell_type": "code",
   "execution_count": 62,
   "id": "92490c90",
   "metadata": {},
   "outputs": [],
   "source": [
    "stacking_pred = stacking.predict(X_test)"
   ]
  },
  {
   "cell_type": "code",
   "execution_count": 63,
   "id": "779a460f",
   "metadata": {},
   "outputs": [
    {
     "name": "stdout",
     "output_type": "stream",
     "text": [
      "                   model   accuracy\n",
      "0                XGBoost  97.825160\n",
      "1  RandomForest Ensemble  97.611940\n",
      "2           DecisionTree  97.313433\n",
      "3      Stacking Ensemble  96.247335\n",
      "4     K-Nearest Neighbor  94.712154\n",
      "5     LogisticRegression  92.963753\n",
      "6                   LGBM  89.936034\n"
     ]
    },
    {
     "data": {
      "text/plain": [
       "<Figure size 1200x900 with 0 Axes>"
      ]
     },
     "metadata": {},
     "output_type": "display_data"
    },
    {
     "data": {
      "image/png": "[encoded data removed]",
      "text/plain": [
       "<Figure size 1000x700 with 1 Axes>"
      ]
     },
     "metadata": {},
     "output_type": "display_data"
    }
   ],
   "source": [
    "accuracy_eval('Stacking Ensemble', stacking_pred, y_test)"
   ]
  },
  {
   "cell_type": "code",
   "execution_count": null,
   "id": "de0b48d7",
   "metadata": {},
   "outputs": [],
   "source": [
    "8) Weighted Blending¶\n",
    "각 모델의 예측값에 대하여 weight를 곱하여 최종 output 계산\n",
    "\n",
    "모델에 대한 가중치를 조절하여, 최종 output을 산출합니다.\n",
    "가중치의 합은 1.0이 되도록 합니다."
   ]
  },
  {
   "cell_type": "code",
   "execution_count": 64,
   "id": "d0006671",
   "metadata": {},
   "outputs": [],
   "source": [
    "final_outputs = {\n",
    "    'DecisionTree': dt_pred, \n",
    "    'randomforest': rfc_pred, \n",
    "    'xgb': xgb_pred, \n",
    "    'lgbm': lgbm_pred,\n",
    "    'stacking': stacking_pred,\n",
    "}"
   ]
  },
  {
   "cell_type": "code",
   "execution_count": 69,
   "id": "1fb3e588",
   "metadata": {},
   "outputs": [],
   "source": [
    "final_prediction=final_outputs['DecisionTree'] * 0.1+final_outputs['randomforest'] * 0.2+final_outputs['xgb'] * 0.25+final_outputs['lgbm'] * 0.15+final_outputs['stacking'] * 0.3"
   ]
  },
  {
   "cell_type": "code",
   "execution_count": 70,
   "id": "05d63438",
   "metadata": {},
   "outputs": [],
   "source": [
    "# 가중치 계산값이 0.5 초과하면 1, 그렇지 않으면 0\n",
    "final_prediction = np.where(final_prediction > 0.5, 1, 0)"
   ]
  },
  {
   "cell_type": "code",
   "execution_count": 71,
   "id": "04af4ee2",
   "metadata": {},
   "outputs": [
    {
     "name": "stdout",
     "output_type": "stream",
     "text": [
      "                   model   accuracy\n",
      "0                XGBoost  97.825160\n",
      "1      Weighted Blending  97.697228\n",
      "2  RandomForest Ensemble  97.611940\n",
      "3           DecisionTree  97.313433\n",
      "4      Stacking Ensemble  96.247335\n",
      "5     K-Nearest Neighbor  94.712154\n",
      "6     LogisticRegression  92.963753\n",
      "7                   LGBM  89.936034\n"
     ]
    },
    {
     "data": {
      "text/plain": [
       "<Figure size 1200x900 with 0 Axes>"
      ]
     },
     "metadata": {},
     "output_type": "display_data"
    },
    {
     "data": {
      "image/png": "[encoded data removed]",
      "text/plain": [
       "<Figure size 1000x800 with 1 Axes>"
      ]
     },
     "metadata": {},
     "output_type": "display_data"
    }
   ],
   "source": [
    "accuracy_eval('Weighted Blending', final_prediction, y_test)"
   ]
  },
  {
   "cell_type": "code",
   "execution_count": null,
   "id": "4de94be4",
   "metadata": {},
   "outputs": [],
   "source": [
    "배운 내용 정리\n",
    "머신러닝 모델 프로세스\n",
    "① 라이브러리 임포트(import)\n",
    "② 데이터 가져오기(Loading the data)\n",
    "③ 탐색적 데이터 분석(Exploratory Data Analysis)\n",
    "④ 데이터 전처리(Data PreProcessing) : 데이터타입 변환, Null 데이터 처리, 누락데이터 처리, 더미특성 생성, 특성 추출 (feature engineering) 등\n",
    "⑤ Train, Test 데이터셋 분할\n",
    "⑥ 데이터 정규화(Normalizing the Data)\n",
    "⑦ 모델 개발(Creating the Model)\n",
    "⑧ 모델 성능 평가\n",
    "평가 지표 활용 : 모델별 성능 확인을 위한 함수 (가져다 쓰면 된다)\n",
    "단일 회귀예측 모델 : LogisticRegression, KNN, DecisionTree\n",
    "앙상블 (Ensemble) : RandomForest, XGBoost, LGBM, Stacking, Weighted Blending"
   ]
  }
 ],
 "metadata": {
  "kernelspec": {
   "display_name": "Python 3 (ipykernel)",
   "language": "python",
   "name": "python3"
  },
  "language_info": {
   "codemirror_mode": {
    "name": "ipython",
    "version": 3
   },
   "file_extension": ".py",
   "mimetype": "text/x-python",
   "name": "python",
   "nbconvert_exporter": "python",
   "pygments_lexer": "ipython3",
   "version": "3.10.9"
  }
 },
 "nbformat": 4,
 "nbformat_minor": 5
}
