{
 "cells": [
  {
   "cell_type": "code",
   "execution_count": null,
   "id": "6c4c248e",
   "metadata": {},
   "outputs": [],
   "source": [
    "\n",
    "데이터 불러오기부터\n",
    "가. 라이브러리 Import\n"
   ]
  },
  {
   "cell_type": "code",
   "execution_count": null,
   "id": "7e71b95a",
   "metadata": {},
   "outputs": [],
   "source": [
    "import pandas as pd\n",
    "import numpy as np"
   ]
  },
  {
   "cell_type": "code",
   "execution_count": null,
   "id": "c34edf0d",
   "metadata": {},
   "outputs": [],
   "source": [
    "\n",
    "나. 데이터 불러오기\n",
    "만약에 Train/Evaluation 데이터를 따로 전처리 한다면?\n",
    "전처리 기준(특히 정규화 작업 시)이 달라져서 모델의 성능에 악영향을 줄 수 있음"
   ]
  },
  {
   "cell_type": "code",
   "execution_count": null,
   "id": "4804528d",
   "metadata": {},
   "outputs": [],
   "source": [
    "df = pd.read_csv(\"onenavi_train.csv\",sep=\"|\")\n",
    "df_eval = pd.read_csv(\"onenavi_evaluation.csv\",sep=\"|\")\n",
    "df # 데이터 프레임 확인하기"
   ]
  },
  {
   "cell_type": "code",
   "execution_count": null,
   "id": "eae95c57",
   "metadata": {},
   "outputs": [],
   "source": [
    "# 학습/평가 데이터의 전처리 기준을 통일하기위해 데이터 합본\n",
    "df_total=pd.concat([df,df_eval],ignore_index=True)"
   ]
  },
  {
   "cell_type": "code",
   "execution_count": null,
   "id": "19a0875b",
   "metadata": {},
   "outputs": [],
   "source": [
    "\n",
    "1. 이상치/결측치 처리\n",
    "Trash를 판별하는 능력은 좋은 AI모델을 만드는 데 있어 핵심입니다.\n",
    "KeyPoint : 데이터의 형태를 살펴보고 불필요한 데이터를 정제할 수 있다.\n",
    "[참고] 공식 Document\n",
    "\n",
    "fillna(https://pandas.pydata.org/pandas-docs/stable/reference/api/pandas.DataFrame.fillna.html)\n",
    "dropna(https://pandas.pydata.org/pandas-docs/stable/reference/api/pandas.DataFrame.dropna.html)\n",
    "가. 결측치 처리"
   ]
  },
  {
   "cell_type": "code",
   "execution_count": null,
   "id": "23b82317",
   "metadata": {},
   "outputs": [],
   "source": [
    "# 결측치 수 확인하기\n",
    "df_total.isnull().sum()\n",
    "# 우리의 학습 데이터에는 결측치가 없습니다. 원활한 실습을 위해 샘플데이터를 만들어보겠습니다."
   ]
  },
  {
   "cell_type": "code",
   "execution_count": null,
   "id": "796a9c4e",
   "metadata": {},
   "outputs": [],
   "source": [
    "# 샘플테이블 생성\n",
    "sample = pd.DataFrame(\n",
    "        {\n",
    "            'column1':[50,70,np.nan,55],\n",
    "            'column2':[22,50,66,np.nan]\n",
    "        })\n",
    "sample"
   ]
  },
  {
   "cell_type": "code",
   "execution_count": null,
   "id": "e4617a42",
   "metadata": {},
   "outputs": [],
   "source": [
    "# dropna : 제거하기\n",
    "sample.dropna()"
   ]
  },
  {
   "cell_type": "code",
   "execution_count": null,
   "id": "22df105c",
   "metadata": {},
   "outputs": [],
   "source": [
    "# fillna(number) : number로 채우기 \n",
    "sample.fillna(0)"
   ]
  },
  {
   "cell_type": "code",
   "execution_count": null,
   "id": "b6bfec51",
   "metadata": {},
   "outputs": [],
   "source": [
    "# fillna(method) : 다양한 방법으로 채우기 \n",
    "# 'backfill'/'bfill': 바로 뒤에 값으로 채우기, 'pad'/'ffill': 바로 앞의 값으로 채우기\n",
    "sample.fillna(method='pad')"
   ]
  },
  {
   "cell_type": "code",
   "execution_count": null,
   "id": "f7c214f8",
   "metadata": {},
   "outputs": [],
   "source": [
    "\n",
    "나. 이상치 처리\n",
    "이상치(Outlier)는 전적으로 연구자 혹은 개발자가 판단을 해야한다. 자세히 살펴보지않으면 놓치기 쉽상이다.\n",
    "\"자세히 보아야 드러난다. 오래 보아야 도움이 된다. Outlier가 그렇다.\""
   ]
  },
  {
   "cell_type": "code",
   "execution_count": null,
   "id": "07139d21",
   "metadata": {},
   "outputs": [],
   "source": [
    "import seaborn as sns\n",
    "import matplotlib.pyplot as plt\n",
    "\n",
    "sns.pairplot(df_total)\n",
    "plt.show()"
   ]
  },
  {
   "cell_type": "code",
   "execution_count": null,
   "id": "fcfb1900",
   "metadata": {},
   "outputs": [],
   "source": [
    "# ET의 분포에서 특이한 점이 있습니다. 약 2만 이상에서 몇개 안보이는 특이치가 있는데요.\n",
    "#1.5만 이상으로 숫자을 확인해보겠습니다.(1.5만초면 250분)\n",
    "df_total[df_total['ET']>15000] # 2개"
   ]
  },
  {
   "cell_type": "code",
   "execution_count": null,
   "id": "7239720e",
   "metadata": {},
   "outputs": [],
   "source": [
    "# Outlier 제거 후 데이터만 남기기\n",
    "df_total=df_total[df_total['ET']<=15000]\n",
    "df_total"
   ]
  },
  {
   "cell_type": "code",
   "execution_count": null,
   "id": "3ad61da5",
   "metadata": {},
   "outputs": [],
   "source": [
    "# 다시 한 번 확인해 보겠습니다.\n",
    "\n",
    "sns.pairplot(df_total)\n",
    "plt.show()"
   ]
  },
  {
   "cell_type": "code",
   "execution_count": null,
   "id": "f1de1017",
   "metadata": {},
   "outputs": [],
   "source": [
    "\n",
    "여기서 Tip!\n",
    "눈에 보이는 것만 가지고 판단하실껀가요?\n",
    "숨겨진 변수가 있지 않을까요?\n",
    "평균 시속을 기준으로 분포를 보도록 하겠습니다."
   ]
  },
  {
   "cell_type": "code",
   "execution_count": null,
   "id": "02d5ac1b",
   "metadata": {},
   "outputs": [],
   "source": [
    "# 평균시속 변수 만들기 : 속도는 거리 나누기 시간\n",
    "df_total['PerHour']=(df_total['A_DISTANCE']/1000)/(df_total['ET']/3600)"
   ]
  },
  {
   "cell_type": "code",
   "execution_count": null,
   "id": "2c912fb3",
   "metadata": {},
   "outputs": [],
   "source": [
    "# 데이터 분포 확인하기\n",
    "df_total.describe()"
   ]
  },
  {
   "cell_type": "code",
   "execution_count": null,
   "id": "c8cc7c59",
   "metadata": {},
   "outputs": [],
   "source": [
    "\n",
    "# 시속이 3500키로?! 이상합니다.\n",
    "# 시속 130이상 데이터 수 확인하기 : 몇 개 되지 않으면 제거하자!\n",
    "len(df_total[df_total['PerHour']>130])"
   ]
  },
  {
   "cell_type": "code",
   "execution_count": null,
   "id": "7056bd6f",
   "metadata": {},
   "outputs": [],
   "source": [
    "# Outlier 제거 후 데이터만 남기기\n",
    "df_total=df_total[df_total['PerHour']<=130]\n",
    "df_total"
   ]
  },
  {
   "cell_type": "code",
   "execution_count": null,
   "id": "ec0baf9d",
   "metadata": {},
   "outputs": [],
   "source": [
    "# 다시 한 번 확인해 보겠습니다.\n",
    "\n",
    "sns.pairplot(df_total)\n",
    "plt.show()"
   ]
  },
  {
   "cell_type": "code",
   "execution_count": null,
   "id": "cbaa4d9f",
   "metadata": {},
   "outputs": [],
   "source": [
    "\n",
    "추가데이터를 합치고 확인해보겠습니다."
   ]
  },
  {
   "cell_type": "code",
   "execution_count": null,
   "id": "5f020f38",
   "metadata": {},
   "outputs": [],
   "source": [
    "df_pnu = pd.read_csv(\"onenavi_pnu.csv\",sep=\"|\") # 주소(시도/시군구 정보)\n",
    "df_signal = pd.read_csv(\"onenavi_signal.csv\",sep=\"|\") # 경로의 신호등 갯수"
   ]
  },
  {
   "cell_type": "code",
   "execution_count": null,
   "id": "2c71822f",
   "metadata": {},
   "outputs": [],
   "source": [
    "df_total=pd.merge(df_total,df_pnu , on=\"RID\")\n",
    "df_total=pd.merge(df_total,df_signal , on=\"RID\")\n",
    "df_total"
   ]
  },
  {
   "cell_type": "code",
   "execution_count": null,
   "id": "08f5f13a",
   "metadata": {},
   "outputs": [],
   "source": [
    "# 다시 한 번 확인해 보겠습니다.\n",
    "\n",
    "sns.pairplot(df_total)\n",
    "plt.show()"
   ]
  },
  {
   "cell_type": "code",
   "execution_count": null,
   "id": "bc3af107",
   "metadata": {},
   "outputs": [],
   "source": [
    "# 다시 한 번 확인해 보겠습니다.\n",
    "\n",
    "# sns.pairplot(df_total)\n",
    "# plt.show()"
   ]
  },
  {
   "cell_type": "code",
   "execution_count": null,
   "id": "8dc0b03f",
   "metadata": {},
   "outputs": [],
   "source": [
    "자, 결측치, 이상치 처리에 있어 우리는 한가지 놓친 것이 있습니다. 데이터 셋 정의를 확인해볼까요?\n",
    "우리 데이터는 수도권으로 한정되어있다고 정의했었죠?"
   ]
  },
  {
   "cell_type": "code",
   "execution_count": null,
   "id": "5f4b45b1",
   "metadata": {},
   "outputs": [],
   "source": [
    "df_total['level1_pnu'].unique()"
   ]
  },
  {
   "cell_type": "code",
   "execution_count": null,
   "id": "cdd11d9d",
   "metadata": {},
   "outputs": [],
   "source": [
    "# 서울/경기/인천으로 데이터 정제\n",
    "df_total=df_total[(df_total['level1_pnu']=='서울특별시')|(df_total['level1_pnu']=='경기도')|(df_total['level1_pnu']=='인천광역시')]\n",
    "df_total=df_total.reset_index(drop=True)\n",
    "df_total"
   ]
  },
  {
   "cell_type": "code",
   "execution_count": null,
   "id": "015bc4b8",
   "metadata": {},
   "outputs": [],
   "source": [
    "\n",
    "3. 더미변수 생성\n",
    "범주형 데이터도 모델링에 활용할 수 있어야 합니다. 이를 위해 더미변수로 변환해주어야 합니다.\n",
    "KeyPoint : 범주형 변수를 더미변수로 변환할 수 있다.\n",
    "범주형 변수 중에 어떤 변수를 더미로 변환해볼까요?\n",
    "요일, 시간, 시도 변수를 더미화 하면 좋을 것 같습니다."
   ]
  },
  {
   "cell_type": "code",
   "execution_count": null,
   "id": "44c6feb2",
   "metadata": {},
   "outputs": [],
   "source": [
    "# 진행상황을 체크할 수 있는 라이브러리\n",
    "!pip install tqdm"
   ]
  },
  {
   "cell_type": "code",
   "execution_count": null,
   "id": "80918507",
   "metadata": {},
   "outputs": [],
   "source": [
    "# 요일, 시간 변수 추가\n",
    "import datetime\n",
    "from dateutil.parser import parse\n",
    "from tqdm import tqdm\n",
    "\n",
    "weekday_list=[]\n",
    "hour_list=[]\n",
    "day_list=[]\n",
    "\n",
    "for w in tqdm(df_total['TIME_DEPARTUREDATE']):\n",
    "    parse_data_w=parse(w)\n",
    "    weekday_list.append(parse_data_w.weekday())\n",
    "    hour_list.append(parse_data_w.hour)\n",
    "    day_list.append(parse_data_w.day)\n",
    "    \n",
    "df_total['WEEKDAY'] = weekday_list\n",
    "df_total['HOUR'] = hour_list\n",
    "df_total['DAY'] = day_list"
   ]
  },
  {
   "cell_type": "code",
   "execution_count": null,
   "id": "9e3b7026",
   "metadata": {},
   "outputs": [],
   "source": [
    "# 평가데이터 별도 저장 : 원본 기준(나중에 활용)\n",
    "new_df_eval=df_total[df_total['DAY']>=27]\n",
    "new_df_eval.to_csv(\"onenavi_evaluation_new.csv\",sep=\"|\",index=False)"
   ]
  },
  {
   "cell_type": "code",
   "execution_count": null,
   "id": "702c881a",
   "metadata": {},
   "outputs": [],
   "source": [
    "dummy_fields = ['WEEKDAY','HOUR','level1_pnu','level2_pnu']\n",
    "\n",
    "for dummy in dummy_fields:\n",
    "    dummies = pd.get_dummies(df_total[dummy], prefix=dummy, drop_first=False)\n",
    "    df_total = pd.concat([df_total, dummies], axis=1)\n",
    "    \n",
    "df_total = df_total.drop(dummy_fields,axis=1)"
   ]
  },
  {
   "cell_type": "code",
   "execution_count": null,
   "id": "e8bf726c",
   "metadata": {},
   "outputs": [],
   "source": [
    "\n",
    "4. 데이터 스케일링\n",
    "Feature들의 크기, 범주를 정규화하는 과정을 통해 특정변수의 영향도를 조정해줄 수 있습니다.\n",
    "KeyPoint : 데이터 스케일링을 통해 AI모델 학습에 도움을 줄 수 있다."
   ]
  },
  {
   "cell_type": "code",
   "execution_count": null,
   "id": "c26ca6a4",
   "metadata": {},
   "outputs": [],
   "source": [
    "# 기준일자 저장 : why? 날짜가 스케일링이 되면 안됩니다.\n",
    "data_day=df_total['DAY']"
   ]
  },
  {
   "cell_type": "code",
   "execution_count": null,
   "id": "7885336e",
   "metadata": {},
   "outputs": [],
   "source": [
    "train_data=df_total.drop(['RID','TIME_DEPARTUREDATE','TIME_ARRIVEDATE','ET','ETAA','PerHour','DAY'],axis=1)\n",
    "columnNames=train_data.columns\n",
    "train_data"
   ]
  },
  {
   "cell_type": "code",
   "execution_count": null,
   "id": "c4990dfe",
   "metadata": {},
   "outputs": [],
   "source": [
    "# 스케일링\n",
    "from sklearn.preprocessing import MinMaxScaler\n",
    "\n",
    "scaler = MinMaxScaler(feature_range=(0, 1))\n",
    "feature = pd.DataFrame(scaler.fit_transform(train_data))\n",
    "feature.columns=columnNames\n",
    "feature"
   ]
  },
  {
   "cell_type": "code",
   "execution_count": null,
   "id": "dc4106c8",
   "metadata": {},
   "outputs": [],
   "source": [
    "# 다시 날짜를 합칠께요 : Train/Evaluation 분리를 위해 \n",
    "feature['DAY']=data_day\n",
    "# traindata 지정\n",
    "train_feature=feature[feature['DAY']<=24]\n",
    "train_feature=train_feature.drop(['DAY'],axis=1)\n",
    "eval_feature=feature[feature['DAY']>=27]\n",
    "eval_feature=eval_feature.drop(['DAY'],axis=1)"
   ]
  },
  {
   "cell_type": "code",
   "execution_count": null,
   "id": "44d6a156",
   "metadata": {},
   "outputs": [],
   "source": [
    "len(feature),len(train_feature),len(eval_feature)"
   ]
  },
  {
   "cell_type": "code",
   "execution_count": null,
   "id": "e83c3a56",
   "metadata": {},
   "outputs": [],
   "source": [
    "# target 저장\n",
    "train_target = df_total[df_total['DAY']<=24]['ET']\n",
    "train_target"
   ]
  },
  {
   "cell_type": "code",
   "execution_count": null,
   "id": "db72ef85",
   "metadata": {},
   "outputs": [],
   "source": [
    "# CSV로 저장\n",
    "train_feature.to_csv('onenavi_train_feature.csv',index = False,sep='|')\n",
    "train_target.to_csv('onenavi_train_target.csv',index = False,sep='|')\n",
    "eval_feature.to_csv('onenavi_eval_feature.csv',index = False,sep='|')"
   ]
  }
 ],
 "metadata": {
  "kernelspec": {
   "display_name": "Python 3 (ipykernel)",
   "language": "python",
   "name": "python3"
  },
  "language_info": {
   "codemirror_mode": {
    "name": "ipython",
    "version": 3
   },
   "file_extension": ".py",
   "mimetype": "text/x-python",
   "name": "python",
   "nbconvert_exporter": "python",
   "pygments_lexer": "ipython3",
   "version": "3.10.9"
  }
 },
 "nbformat": 4,
 "nbformat_minor": 5
}
