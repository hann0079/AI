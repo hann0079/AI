{
 "cells": [
  {
   "cell_type": "code",
   "execution_count": null,
   "id": "b5287dc5",
   "metadata": {},
   "outputs": [],
   "source": [
    "\n",
    "데이터 불러오기부터\n",
    "가. 라이브러리 Import"
   ]
  },
  {
   "cell_type": "code",
   "execution_count": null,
   "id": "224720ac",
   "metadata": {},
   "outputs": [],
   "source": [
    "import pandas as pd\n",
    "import numpy as np"
   ]
  },
  {
   "cell_type": "code",
   "execution_count": null,
   "id": "f18837f3",
   "metadata": {},
   "outputs": [],
   "source": [
    "# 나. 데이터 불러오기\n",
    "df_evaluation = pd.read_csv(\"onenavi_evaluation_new.csv\",sep=\"|\")\n",
    "df_evaluation_feature = pd.read_csv(\"onenavi_eval_feature.csv\",sep=\"|\")"
   ]
  },
  {
   "cell_type": "code",
   "execution_count": null,
   "id": "0c9df0a5",
   "metadata": {},
   "outputs": [],
   "source": [
    "df_evaluation_feature"
   ]
  },
  {
   "cell_type": "code",
   "execution_count": null,
   "id": "127aefc5",
   "metadata": {},
   "outputs": [],
   "source": [
    "\n",
    "1. 저장된 모델 불러오기\n",
    "가. 라이브러리 Import"
   ]
  },
  {
   "cell_type": "code",
   "execution_count": null,
   "id": "5158fb18",
   "metadata": {},
   "outputs": [],
   "source": [
    "import matplotlib.pyplot as plt\n",
    "import seaborn as sns\n",
    "\n",
    "from sklearn.linear_model import LinearRegression as lr\n",
    "from sklearn.ensemble import RandomForestRegressor as rfr\n",
    "from sklearn.ensemble import GradientBoostingRegressor as grb\n",
    "from xgboost import XGBRegressor as xgb\n",
    "from sklearn.metrics import roc_auc_score, accuracy_score, mean_squared_error, r2_score\n",
    "\n",
    "import pickle\n",
    "import joblib\n",
    "\n",
    "import tensorflow as tf\n",
    "from tensorflow import keras\n",
    "from tensorflow.keras import layers\n",
    "from keras.callbacks import ModelCheckpoint, EarlyStopping"
   ]
  },
  {
   "cell_type": "code",
   "execution_count": null,
   "id": "79e3c507",
   "metadata": {},
   "outputs": [],
   "source": [
    "나. 평가데이터 준비하기"
   ]
  },
  {
   "cell_type": "code",
   "execution_count": null,
   "id": "9fcc4282",
   "metadata": {},
   "outputs": [],
   "source": [
    "len(df_evaluation_feature)"
   ]
  },
  {
   "cell_type": "code",
   "execution_count": null,
   "id": "8f8063b7",
   "metadata": {},
   "outputs": [],
   "source": [
    "df_evaluation_feature"
   ]
  },
  {
   "cell_type": "code",
   "execution_count": null,
   "id": "815e7014",
   "metadata": {},
   "outputs": [],
   "source": [
    "다. 모델 불러오기"
   ]
  },
  {
   "cell_type": "code",
   "execution_count": null,
   "id": "5ebe9619",
   "metadata": {},
   "outputs": [],
   "source": [
    "# 모델을 담을 빈 리스트 생성\n",
    "model_rslt = []\n",
    "\n",
    "# 앞서 저장한 머신러닝 모델 불러오기 및 저장\n",
    "for i in range(4):\n",
    "    model_rslt.append(joblib.load(\"{}_model.pkl\".format(i)))\n",
    "# 앞서 저장한 딥러닝 모델 불러오기 및 저장\n",
    "model_rslt.append(keras.models.load_model(\"DeeplearningModel.h5\"))"
   ]
  },
  {
   "cell_type": "code",
   "execution_count": null,
   "id": "cae6dc2d",
   "metadata": {},
   "outputs": [],
   "source": [
    "# 저장된 모델 확인\n",
    "model_rslt"
   ]
  },
  {
   "cell_type": "code",
   "execution_count": null,
   "id": "a17a671d",
   "metadata": {},
   "outputs": [],
   "source": [
    "라. 모델 결과 표 만들기"
   ]
  },
  {
   "cell_type": "code",
   "execution_count": null,
   "id": "f3d45f3d",
   "metadata": {},
   "outputs": [],
   "source": [
    "e1_list = ['ETA1', 'ETA2', 'ETA3', 'ETA4', 'ETA5']\n",
    "e2_list = ['ETAA1', 'ETAA2', 'ETAA3', 'ETAA4', 'ETAA5']\n",
    "\n",
    "for e1, e2, model in zip(e1_list, e2_list, model_rslt):\n",
    "    df_evaluation[e1] = model.predict(df_evaluation_feature)\n",
    "    df_evaluation.loc[(df_evaluation[e1] < 0), e1] = 0\n",
    "    etaa = (1-(abs(df_evaluation['ET']-df_evaluation[e1])/df_evaluation['ET']))*100.0\n",
    "    df_evaluation[e2] = etaa\n",
    "    df_evaluation.loc[(df_evaluation[e2] < 0), e2] = 0\n",
    "\n",
    "# mean, min, max, std\n",
    "etaa = ['ETAA', 'ETAA1', 'ETAA2', 'ETAA3', 'ETAA4', 'ETAA5']\n",
    "alg = ['DATA', 'ML-LG', 'ML-RFR', 'ML-GBR', 'XBR', 'Deep']\n",
    "\n",
    "print('+-------------------------------------------------------+')\n",
    "print('|   ALG    | Mean(%) |    STD    |  MIN(%)  |  MAX(%)   |')\n",
    "print('+----------+---------+-----------+----------+-----------+')\n",
    "for i, e in zip(range(len(alg)), etaa):\n",
    "    eMean = df_evaluation[e].mean()\n",
    "    eStd = df_evaluation[e].std()\n",
    "    eMin = df_evaluation[e].min()\n",
    "    eMax = df_evaluation[e].max()\n",
    "    print('|  {:6s}  |   {:3.1f}  |   {:05.1f}   |   {:4.1f}   |  {:7.1f}  | '.format(alg[i], eMean, eStd, eMin, eMax))\n",
    "print('+----------+---------+-----------+----------+-----------+\\n\\n')"
   ]
  },
  {
   "cell_type": "code",
   "execution_count": null,
   "id": "7aa9c8ff",
   "metadata": {},
   "outputs": [],
   "source": [
    "좀 더 상세한 분석을 위해 거리 구간별로 결과를 확인해 보겠습니다."
   ]
  },
  {
   "cell_type": "code",
   "execution_count": null,
   "id": "2846de0a",
   "metadata": {},
   "outputs": [],
   "source": [
    "etaa = ['ETAA', 'ETAA1', 'ETAA2', 'ETAA3', 'ETAA4', 'ETAA5']\n",
    "alg = ['DATA', 'ML-LG', 'ML-RFR', 'ML-GBR', 'XBR', 'Deep']\n",
    "\n",
    "for length in range(4):\n",
    "    if length == 0:\n",
    "        print(' 1,000 <= A_DISTANCE < 5,000m')\n",
    "    elif length == 1:\n",
    "        print(' 5,000 <= A_DISTANCE < 10,000m')\n",
    "    elif length == 2:\n",
    "        print(' 10,000 <= A_DISTANCE < 15,000m')\n",
    "    else:\n",
    "         print('All A_DISTANCE')\n",
    "    print('+-------------------------------------------------------+')\n",
    "    print('|   ALG    | Mean(%) |    STD    |  MIN(%)  |  MAX(%)   |')\n",
    "    print('+----------+---------+-----------+----------+-----------+')\n",
    "    for i, e in zip(range(len(alg)), etaa):\n",
    "        if length == 0:\n",
    "            eMean = df_evaluation.loc[(df_evaluation['A_DISTANCE']>=1000) & (df_evaluation['A_DISTANCE']<5000), e].mean()\n",
    "            eStd = df_evaluation.loc[(df_evaluation['A_DISTANCE']>=1000) & (df_evaluation['A_DISTANCE']<5000), e].std()\n",
    "            eMin = df_evaluation.loc[(df_evaluation['A_DISTANCE']>=1000) & (df_evaluation['A_DISTANCE']<5000), e].min()\n",
    "            eMax = df_evaluation.loc[(df_evaluation['A_DISTANCE']>=1000) & (df_evaluation['A_DISTANCE']<5000), e].max()\n",
    "        elif length == 1:\n",
    "            eMean = df_evaluation.loc[(df_evaluation['A_DISTANCE']>=5000) & (df_evaluation['A_DISTANCE']<10000), e].mean()\n",
    "            eStd = df_evaluation.loc[(df_evaluation['A_DISTANCE']>=5000) & (df_evaluation['A_DISTANCE']<10000), e].std()\n",
    "            eMin = df_evaluation.loc[(df_evaluation['A_DISTANCE']>=5000) & (df_evaluation['A_DISTANCE']<10000), e].min()\n",
    "            eMax = df_evaluation.loc[(df_evaluation['A_DISTANCE']>=5000) & (df_evaluation['A_DISTANCE']<10000), e].max()\n",
    "        elif length == 2:\n",
    "            eMean = df_evaluation.loc[(df_evaluation['A_DISTANCE']>=10000) & (df_evaluation['A_DISTANCE']<15000), e].mean()\n",
    "            eStd = df_evaluation.loc[(df_evaluation['A_DISTANCE']>=10000) & (df_evaluation['A_DISTANCE']<15000), e].std()\n",
    "            eMin = df_evaluation.loc[(df_evaluation['A_DISTANCE']>=10000) & (df_evaluation['A_DISTANCE']<15000), e].min()\n",
    "            eMax = df_evaluation.loc[(df_evaluation['A_DISTANCE']>=10000) & (df_evaluation['A_DISTANCE']<15000), e].max()\n",
    "        else:\n",
    "            eMean = df_evaluation[e].mean()\n",
    "            eStd = df_evaluation[e].std()\n",
    "            eMin = df_evaluation[e].min()\n",
    "            eMax = df_evaluation[e].max()\n",
    "        print('|  {:6s}  |   {:3.1f}  |   {:05.1f}   |   {:4.1f}   |  {:7.1f}  |'.format(alg[i], eMean, eStd, eMin, eMax))\n",
    "    print('+----------+---------+-----------+----------+-----------+\\n\\n')"
   ]
  },
  {
   "cell_type": "code",
   "execution_count": null,
   "id": "eabbe735",
   "metadata": {},
   "outputs": [],
   "source": [
    "\n",
    "100개의 샘플로 결과를 시각화를 시도하겠습니다."
   ]
  },
  {
   "cell_type": "code",
   "execution_count": null,
   "id": "fbe19f4e",
   "metadata": {},
   "outputs": [],
   "source": [
    "plt.figure(figsize=(100, 10))\n",
    "idx = np.arange(0, 100)\n",
    "plt.plot(idx, df_evaluation.ET[0:100], 'b', marker='s')\n",
    "plt.plot(idx, df_evaluation.ETA1[0:100], 'g', marker='s')\n",
    "plt.plot(idx, df_evaluation.ETA2[0:100], 'r', marker='+')\n",
    "plt.plot(idx, df_evaluation.ETA3[0:100], 'y', marker='*')\n",
    "plt.plot(idx, df_evaluation.ETA4[0:100], 'b', marker='o')\n",
    "plt.plot(idx, df_evaluation.ETA5[0:100], 'b', marker='^')\n",
    "plt.plot()\n",
    "plt.xlabel('Index')\n",
    "plt.ylabel('ET(sec)')\n",
    "plt.legend(['Real', 'ML-LG', 'ML-RFR', 'ML-GBR', 'XBR', 'Deep'])\n",
    "plt.show()"
   ]
  }
 ],
 "metadata": {
  "kernelspec": {
   "display_name": "Python 3 (ipykernel)",
   "language": "python",
   "name": "python3"
  },
  "language_info": {
   "codemirror_mode": {
    "name": "ipython",
    "version": 3
   },
   "file_extension": ".py",
   "mimetype": "text/x-python",
   "name": "python",
   "nbconvert_exporter": "python",
   "pygments_lexer": "ipython3",
   "version": "3.10.9"
  }
 },
 "nbformat": 4,
 "nbformat_minor": 5
}
