{
 "cells": [
  {
   "cell_type": "code",
   "execution_count": null,
   "id": "a53db9d5",
   "metadata": {},
   "outputs": [],
   "source": [
    "\n",
    "데이터 불러오기부터\n",
    "가. 라이브러리 Import"
   ]
  },
  {
   "cell_type": "code",
   "execution_count": null,
   "id": "438fa249",
   "metadata": {},
   "outputs": [],
   "source": [
    "import pandas as pd\n",
    "import numpy as np"
   ]
  },
  {
   "cell_type": "code",
   "execution_count": null,
   "id": "ec89e01b",
   "metadata": {},
   "outputs": [],
   "source": [
    "\n",
    "# 나. 데이터 불러오기\n",
    "df_feature = pd.read_csv(\"onenavi_train_feature.csv\",sep=\"|\")\n",
    "df_target = pd.read_csv(\"onenavi_train_target.csv\",sep=\"|\")"
   ]
  },
  {
   "cell_type": "code",
   "execution_count": null,
   "id": "31dbb229",
   "metadata": {},
   "outputs": [],
   "source": [
    "# 나. Train/Test Data Split\n",
    "from sklearn.model_selection import train_test_split\n",
    "\n",
    "# train_test_split\n",
    "train_x, test_x, train_y, test_y = train_test_split(df_feature, df_target, test_size=0.20, random_state=42)"
   ]
  },
  {
   "cell_type": "code",
   "execution_count": null,
   "id": "bdb6c3d6",
   "metadata": {},
   "outputs": [],
   "source": [
    "\n",
    "1. 회귀문제에 딥러닝 모델 적용하기\n",
    "딥러닝은 머신 러닝의 특정한 한 분야로서 연속된 층layer에서 점진적으로 의미 있는 표현을 배우는 데 강점이 있으며, 데이터로부터 표현을 학습하는 새로운 방식입니다.\n",
    "즉 계층적 표현 학습이라고도 할 수 있습니다.\n",
    "[공식 Document 및 참고자료]\n",
    "\n",
    "텐서 플로우 '자동차 연비 예측하기: 회귀'(https://www.tensorflow.org/tutorials/keras/regression?hl=ko)\n",
    "텐서 플로우 블로그(https://tensorflow.blog/)\n",
    "가. 라이브러리 Import"
   ]
  },
  {
   "cell_type": "code",
   "execution_count": null,
   "id": "003bda66",
   "metadata": {},
   "outputs": [],
   "source": [
    "import matplotlib.pyplot as plt\n",
    "import pandas as pd\n",
    "import seaborn as sns\n",
    "\n",
    "import tensorflow as tf\n",
    "from tensorflow import keras\n",
    "from tensorflow.keras import layers\n",
    "from keras.callbacks import ModelCheckpoint, EarlyStopping"
   ]
  },
  {
   "cell_type": "code",
   "execution_count": null,
   "id": "f50f7547",
   "metadata": {},
   "outputs": [],
   "source": [
    "\n",
    "나. 모델링\n",
    "[모델링에서 눈여겨 볼 것들!]\n",
    "\n",
    "activation : output이 다음 레이어로 전해지는 과정 중 역할을 수행하는 수학적인 게이트(gate) image-2.png\n",
    "optimizer : 손실함수를 최소화하도록 도와주는 알고리즘 image.png"
   ]
  },
  {
   "cell_type": "code",
   "execution_count": null,
   "id": "8d146d8c",
   "metadata": {},
   "outputs": [],
   "source": [
    "# train 데이터 셋을 확인해보겠습니다.\n",
    "train_x"
   ]
  },
  {
   "cell_type": "code",
   "execution_count": null,
   "id": "985f635b",
   "metadata": {},
   "outputs": [],
   "source": [
    "# 모델 만들기 : 아주 간단한 모델\n",
    "\n",
    "def build_model():\n",
    "  model = keras.Sequential([\n",
    "    layers.Dense(64, activation='relu', input_shape=[len(train_x.keys())]),\n",
    "    layers.Dense(64, activation='relu'),\n",
    "    layers.Dense(1)\n",
    "  ])\n",
    "\n",
    "  model.compile(loss='mse',\n",
    "                optimizer='adam',\n",
    "                metrics=['mae', 'mse'])\n",
    "  return model"
   ]
  },
  {
   "cell_type": "code",
   "execution_count": null,
   "id": "6f1d1ea6",
   "metadata": {},
   "outputs": [],
   "source": [
    "\n",
    "만약에 분류문제를 해결해야 한다면!(아래 내용은 일반적으로 선호되는 내용이지 절대적이라고 하지는 않습니다.)\n",
    "activation설정\n",
    "마지막 출력층에 Label의 열이 하나고 두 개의 값으로 이루어진 이진분류라면 sigmoid\n",
    "Label의 열이 두개 이상이라면 softmax\n",
    "loss설정\n",
    "출력층 activation이 sigmoid 인 경우: binary_crossentropy\n",
    "출력층 activation이 softmax 인 경우:\n",
    "원핫인코딩(O): categorical_crossentropy\n",
    "원핫인코딩(X): sparse_categorical_crossentropy\n",
    "metrics를 'acc' 혹은 'accuracy'로 지정하면, 학습시 정확도를 모니터링 할 수 있습니다.\n",
    "원핫인코딩 여부 체크방법"
   ]
  },
  {
   "cell_type": "code",
   "execution_count": null,
   "id": "82eea4a7",
   "metadata": {},
   "outputs": [],
   "source": [
    "# Case1 : 원핫인코딩이 안된 데이터\n",
    "temp_y=[9,5,6,7,1,2,5,4,6,0]\n",
    "temp_y[0]"
   ]
  },
  {
   "cell_type": "code",
   "execution_count": null,
   "id": "b5ff3156",
   "metadata": {},
   "outputs": [],
   "source": [
    "# Case2 : 원핫인코딩 적용\n",
    "print(tf.one_hot(temp_y[0], 10))\n",
    "print(tf.one_hot(temp_y, 10))"
   ]
  },
  {
   "cell_type": "code",
   "execution_count": null,
   "id": "5457e737",
   "metadata": {},
   "outputs": [],
   "source": [
    "\n",
    "# 다시 본론으로 들어가 실습을 진행하겠습니다.\n",
    "model = build_model()"
   ]
  },
  {
   "cell_type": "code",
   "execution_count": null,
   "id": "3e3b306c",
   "metadata": {},
   "outputs": [],
   "source": [
    "model.summary()"
   ]
  },
  {
   "cell_type": "code",
   "execution_count": null,
   "id": "1bc37637",
   "metadata": {},
   "outputs": [],
   "source": [
    "tf.keras.utils.plot_model(model, show_shapes=True)"
   ]
  },
  {
   "cell_type": "code",
   "execution_count": null,
   "id": "c4687065",
   "metadata": {},
   "outputs": [],
   "source": [
    "# 모델 학습\n",
    "early_stopping = EarlyStopping(monitor='val_loss', patience=10) # 조기종료 콜백함수 정의\n",
    "\n",
    "checkpoint_path = 'tmp_checkpoint.ckpt'\n",
    "cb_checkpoint = ModelCheckpoint(checkpoint_path, save_weights_only=True, monitor='val_loss',\n",
    "                               verbose=1, save_best_only=True) # 체크포인트 저장\n",
    "\n",
    "history = model.fit(train_x, train_y, epochs=30,  \n",
    "                   validation_data = (test_x,test_y),\n",
    "                    callbacks=[cb_checkpoint, early_stopping]\n",
    "                    )"
   ]
  },
  {
   "cell_type": "code",
   "execution_count": null,
   "id": "3b3c7632",
   "metadata": {},
   "outputs": [],
   "source": [
    "plt.style.use(\"ggplot\")\n",
    "plt.figure()\n",
    "plt.plot(np.arange(0, 30), history.history[\"loss\"], label=\"train_loss\")\n",
    "plt.plot(np.arange(0, 30), history.history[\"val_loss\"], label=\"val_loss\")\n",
    "plt.title(\"Training Loss\")\n",
    "plt.xlabel(\"Epoch #\")\n",
    "plt.ylabel(\"Loss\")\n",
    "plt.legend()\n",
    "plt.show()"
   ]
  },
  {
   "cell_type": "code",
   "execution_count": null,
   "id": "5c09b725",
   "metadata": {},
   "outputs": [],
   "source": [
    "plt.style.use(\"ggplot\")\n",
    "plt.figure()\n",
    "plt.plot(np.arange(0, 30), history.history[\"mae\"], label=\"train_mae\")\n",
    "plt.plot(np.arange(0, 30), history.history[\"val_mae\"], label=\"val_mae\")\n",
    "plt.title(\"Training mae\")\n",
    "plt.xlabel(\"Epoch #\")\n",
    "plt.ylabel(\"mae\")\n",
    "plt.legend()\n",
    "plt.show()"
   ]
  },
  {
   "cell_type": "code",
   "execution_count": null,
   "id": "5a24823d",
   "metadata": {},
   "outputs": [],
   "source": [
    "# 최적 모델 불러오기 및 저장\n",
    "model.load_weights(checkpoint_path)\n",
    "model.save(\"DeeplearningModel.h5\")"
   ]
  },
  {
   "cell_type": "code",
   "execution_count": null,
   "id": "40b4707d",
   "metadata": {},
   "outputs": [],
   "source": [
    "\n",
    "모델을 이해해봅시다\n",
    "weights를 확인해서 가중치와 편향을 알 수 있습니다.\n",
    "image.png [참고] 모두의 딥러닝"
   ]
  },
  {
   "cell_type": "code",
   "execution_count": null,
   "id": "349c9f2e",
   "metadata": {},
   "outputs": [],
   "source": [
    "# Input_layer 가중치\n",
    "model.layers[0].get_weights()[0]"
   ]
  },
  {
   "cell_type": "code",
   "execution_count": null,
   "id": "f11242b6",
   "metadata": {},
   "outputs": [],
   "source": [
    "# Input_layer 편향\n",
    "model.layers[0].get_weights()[1]"
   ]
  },
  {
   "cell_type": "code",
   "execution_count": null,
   "id": "4f0acb05",
   "metadata": {},
   "outputs": [],
   "source": [
    "# Dense 가중치\n",
    "model.layers[1].get_weights()[0]"
   ]
  },
  {
   "cell_type": "code",
   "execution_count": null,
   "id": "c3a40279",
   "metadata": {},
   "outputs": [],
   "source": [
    "# Dense 편향\n",
    "model.layers[1].get_weights()[1]"
   ]
  },
  {
   "cell_type": "code",
   "execution_count": null,
   "id": "f8f478ce",
   "metadata": {},
   "outputs": [],
   "source": [
    "# output 가중치\n",
    "model.layers[2].get_weights()[0]"
   ]
  },
  {
   "cell_type": "code",
   "execution_count": null,
   "id": "0bb777aa",
   "metadata": {},
   "outputs": [],
   "source": [
    "# output 편향\n",
    "model.layers[2].get_weights()[1]"
   ]
  }
 ],
 "metadata": {
  "kernelspec": {
   "display_name": "Python 3 (ipykernel)",
   "language": "python",
   "name": "python3"
  },
  "language_info": {
   "codemirror_mode": {
    "name": "ipython",
    "version": 3
   },
   "file_extension": ".py",
   "mimetype": "text/x-python",
   "name": "python",
   "nbconvert_exporter": "python",
   "pygments_lexer": "ipython3",
   "version": "3.10.9"
  }
 },
 "nbformat": 4,
 "nbformat_minor": 5
}
