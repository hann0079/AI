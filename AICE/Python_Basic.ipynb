{
 "cells": [
  {
   "cell_type": "markdown",
   "id": "9ef80c8a",
   "metadata": {},
   "source": [
    "메소드 이름에 커서 두고 \"Shift + Tab\"하면 설명 뜸!"
   ]
  },
  {
   "cell_type": "markdown",
   "id": "5a0c705a",
   "metadata": {},
   "source": [
    "<h4>인덱싱, 슬라이싱"
   ]
  },
  {
   "cell_type": "code",
   "execution_count": 1,
   "id": "ca011774",
   "metadata": {},
   "outputs": [],
   "source": [
    "x = \"Rome is not built in a day!\""
   ]
  },
  {
   "cell_type": "code",
   "execution_count": 2,
   "id": "b41eb9f9",
   "metadata": {},
   "outputs": [
    {
     "data": {
      "text/plain": [
       "'R'"
      ]
     },
     "execution_count": 2,
     "metadata": {},
     "output_type": "execute_result"
    }
   ],
   "source": [
    "x[0]"
   ]
  },
  {
   "cell_type": "code",
   "execution_count": 3,
   "id": "acd08ca0",
   "metadata": {},
   "outputs": [
    {
     "data": {
      "text/plain": [
       "'!'"
      ]
     },
     "execution_count": 3,
     "metadata": {},
     "output_type": "execute_result"
    }
   ],
   "source": [
    "x[-1]"
   ]
  },
  {
   "cell_type": "code",
   "execution_count": 4,
   "id": "669d2583",
   "metadata": {},
   "outputs": [
    {
     "data": {
      "text/plain": [
       "'a'"
      ]
     },
     "execution_count": 4,
     "metadata": {},
     "output_type": "execute_result"
    }
   ],
   "source": [
    "x[-6]"
   ]
  },
  {
   "cell_type": "code",
   "execution_count": 5,
   "id": "1d48a5d6",
   "metadata": {},
   "outputs": [
    {
     "data": {
      "text/plain": [
       "'l'"
      ]
     },
     "execution_count": 5,
     "metadata": {},
     "output_type": "execute_result"
    }
   ],
   "source": [
    "x[-12]"
   ]
  },
  {
   "cell_type": "code",
   "execution_count": 6,
   "id": "6a7e5f1e",
   "metadata": {},
   "outputs": [
    {
     "data": {
      "text/plain": [
       "'Rome'"
      ]
     },
     "execution_count": 6,
     "metadata": {},
     "output_type": "execute_result"
    }
   ],
   "source": [
    "x[0:4]"
   ]
  },
  {
   "cell_type": "code",
   "execution_count": 7,
   "id": "09beeb42",
   "metadata": {},
   "outputs": [
    {
     "data": {
      "text/plain": [
       "'built in a day!'"
      ]
     },
     "execution_count": 7,
     "metadata": {},
     "output_type": "execute_result"
    }
   ],
   "source": [
    "x[12:]"
   ]
  },
  {
   "cell_type": "code",
   "execution_count": 8,
   "id": "c5fb2ed0",
   "metadata": {},
   "outputs": [
    {
     "data": {
      "text/plain": [
       "'Rome is'"
      ]
     },
     "execution_count": 8,
     "metadata": {},
     "output_type": "execute_result"
    }
   ],
   "source": [
    "x[:7]"
   ]
  },
  {
   "cell_type": "code",
   "execution_count": 9,
   "id": "24ec1ee9",
   "metadata": {},
   "outputs": [
    {
     "data": {
      "text/plain": [
       "'Rome is not built in a day!'"
      ]
     },
     "execution_count": 9,
     "metadata": {},
     "output_type": "execute_result"
    }
   ],
   "source": [
    "x[:]"
   ]
  },
  {
   "cell_type": "code",
   "execution_count": 10,
   "id": "e182631d",
   "metadata": {},
   "outputs": [
    {
     "data": {
      "text/plain": [
       "'built in'"
      ]
     },
     "execution_count": 10,
     "metadata": {},
     "output_type": "execute_result"
    }
   ],
   "source": [
    "x[12:-7] # 12번부터 -8번의 값까지 가져옴"
   ]
  },
  {
   "cell_type": "markdown",
   "id": "08d0acc9",
   "metadata": {},
   "source": [
    "<h4>리스트, 튜플, 딕셔너리"
   ]
  },
  {
   "cell_type": "code",
   "execution_count": 11,
   "id": "563cb0f8",
   "metadata": {},
   "outputs": [
    {
     "data": {
      "text/plain": [
       "[1, 2, 3]"
      ]
     },
     "execution_count": 11,
     "metadata": {},
     "output_type": "execute_result"
    }
   ],
   "source": [
    "a=[1,2,3]\n",
    "a"
   ]
  },
  {
   "cell_type": "code",
   "execution_count": 12,
   "id": "b4428a90",
   "metadata": {},
   "outputs": [
    {
     "data": {
      "text/plain": [
       "[1, 3, 5, 7, 9]"
      ]
     },
     "execution_count": 12,
     "metadata": {},
     "output_type": "execute_result"
    }
   ],
   "source": [
    "b=list(range(1,10,2))\n",
    "b"
   ]
  },
  {
   "cell_type": "markdown",
   "id": "f2421096",
   "metadata": {},
   "source": [
    "- 리스트.append(요소) : 리스트의 끝에 요소 추가\n",
    "- 리스트.insert(인덱스, 요소) : 리스트의 특정 인덱스에 요소 추가\n",
    "- 리스트1.extend(리스트2) : 리스트1에 리스트2를 연결해 확장\n",
    "- 리스트1 + 리스트2 : 리스트1과 리스트2를 서로 병합\n",
    "- 리스트.remove(요소) : 리스트의 특정 값의 요소를 삭제\n",
    "- 리스트.count('요소') : 리스트 중 특정 값을 가진 요소의 개수를 카운트\n",
    "- 리스트.sort() : 리스트 내 요소를 오름차순으로 정렬\n",
    "- 리스트.pop(인덱스) : 리스트 중 특정 인덱스의 요소를 삭제"
   ]
  },
  {
   "cell_type": "code",
   "execution_count": 20,
   "id": "4196356b",
   "metadata": {},
   "outputs": [
    {
     "data": {
      "text/plain": [
       "['red', 'green', 'blue', 'yellow']"
      ]
     },
     "execution_count": 20,
     "metadata": {},
     "output_type": "execute_result"
    }
   ],
   "source": [
    "a = ['red', 'green', 'blue']\n",
    "a.append('yellow')\n",
    "a"
   ]
  },
  {
   "cell_type": "code",
   "execution_count": 21,
   "id": "e29ac076",
   "metadata": {},
   "outputs": [
    {
     "data": {
      "text/plain": [
       "['red', 'black', 'green', 'blue', 'yellow']"
      ]
     },
     "execution_count": 21,
     "metadata": {},
     "output_type": "execute_result"
    }
   ],
   "source": [
    "a.insert(1, 'black') # 1번 인덱스에 추가 후 나머지는 뒤로 하나씩 밀림\n",
    "a"
   ]
  },
  {
   "cell_type": "code",
   "execution_count": 22,
   "id": "0d48f5dd",
   "metadata": {},
   "outputs": [
    {
     "data": {
      "text/plain": [
       "['red', 'black', 'green', 'blue', 'yellow', 'purple', 'white']"
      ]
     },
     "execution_count": 22,
     "metadata": {},
     "output_type": "execute_result"
    }
   ],
   "source": [
    "b = ['purple', 'white']\n",
    "a.extend(b) # extend는 a에 변화를 줌 a에 값을 추가\n",
    "a"
   ]
  },
  {
   "cell_type": "code",
   "execution_count": 23,
   "id": "43bd6cd7",
   "metadata": {},
   "outputs": [
    {
     "name": "stdout",
     "output_type": "stream",
     "text": [
      "['red', 'black', 'green', 'blue', 'yellow', 'purple', 'white', 'purple', 'white']\n"
     ]
    }
   ],
   "source": [
    "c = a + b # 병합 +는 새로운 리스트 생성\n",
    "print(c) "
   ]
  },
  {
   "cell_type": "code",
   "execution_count": 24,
   "id": "b1db1f35",
   "metadata": {},
   "outputs": [
    {
     "data": {
      "text/plain": [
       "[10, 20, 30, 40, 50, 60, 70, 80, 100]"
      ]
     },
     "execution_count": 24,
     "metadata": {},
     "output_type": "execute_result"
    }
   ],
   "source": [
    "d = [10, 20, 30, 40, 50, 60, 70, 80, 90, 100]\n",
    "d.remove(90) # 90이라는 요소를 삭제\n",
    "d"
   ]
  },
  {
   "cell_type": "code",
   "execution_count": 25,
   "id": "508bf4bf",
   "metadata": {},
   "outputs": [
    {
     "data": {
      "text/plain": [
       "3"
      ]
     },
     "execution_count": 25,
     "metadata": {},
     "output_type": "execute_result"
    }
   ],
   "source": [
    "list1 = ['a', 'bb', 'c', 'd','aaa', 'c', 'ddd', 'aaa',  'b', 'cc', 'd', 'aaa', ]\n",
    "list1.count('aaa') # 요소의 개수"
   ]
  },
  {
   "cell_type": "code",
   "execution_count": 26,
   "id": "d59a93f2",
   "metadata": {},
   "outputs": [
    {
     "data": {
      "text/plain": [
       "[-7, 1, 3, 5, 8, 9, 11, 13]"
      ]
     },
     "execution_count": 26,
     "metadata": {},
     "output_type": "execute_result"
    }
   ],
   "source": [
    "list2 = [1, -7, 5, 8, 3, 9, 11, 13]\n",
    "list2.sort() # 기본 오름차순\n",
    "list2"
   ]
  },
  {
   "cell_type": "code",
   "execution_count": 27,
   "id": "4fcd1955",
   "metadata": {},
   "outputs": [
    {
     "data": {
      "text/plain": [
       "[13, 11, 9, 8, 5, 3, 1, -7]"
      ]
     },
     "execution_count": 27,
     "metadata": {},
     "output_type": "execute_result"
    }
   ],
   "source": [
    "list2.sort(reverse=True) # 내림차순\n",
    "list2"
   ]
  },
  {
   "cell_type": "code",
   "execution_count": 30,
   "id": "134e3e8b",
   "metadata": {},
   "outputs": [
    {
     "data": {
      "text/plain": [
       "[20, 30, 40, 50, 60, 70, 80, 90, 100]"
      ]
     },
     "execution_count": 30,
     "metadata": {},
     "output_type": "execute_result"
    }
   ],
   "source": [
    "d = [10, 20, 30, 40, 50, 60, 70, 80, 90, 100]\n",
    "d.pop(0) # 해당 인덱스의 값 삭제, 그냥 pop()하면 마지막 값 삭제됨\n",
    "d"
   ]
  },
  {
   "cell_type": "markdown",
   "id": "5f5c206d",
   "metadata": {},
   "source": [
    "<hr>"
   ]
  },
  {
   "cell_type": "code",
   "execution_count": 31,
   "id": "f0e50b8d",
   "metadata": {},
   "outputs": [
    {
     "data": {
      "text/plain": [
       "('banana', ' apple', 'kiwi')"
      ]
     },
     "execution_count": 31,
     "metadata": {},
     "output_type": "execute_result"
    }
   ],
   "source": [
    "t1 = ('banana', ' apple', 'kiwi')\n",
    "t1"
   ]
  },
  {
   "cell_type": "code",
   "execution_count": 32,
   "id": "9ddcaccd",
   "metadata": {},
   "outputs": [
    {
     "data": {
      "text/plain": [
       "('banana', 'apple', 'kiwi')"
      ]
     },
     "execution_count": 32,
     "metadata": {},
     "output_type": "execute_result"
    }
   ],
   "source": [
    "t2 = 'banana', 'apple', 'kiwi'\n",
    "t2"
   ]
  },
  {
   "cell_type": "code",
   "execution_count": 33,
   "id": "db4bc5f1",
   "metadata": {},
   "outputs": [
    {
     "ename": "TypeError",
     "evalue": "'tuple' object does not support item assignment",
     "output_type": "error",
     "traceback": [
      "\u001b[1;31m---------------------------------------------------------------------------\u001b[0m",
      "\u001b[1;31mTypeError\u001b[0m                                 Traceback (most recent call last)",
      "Cell \u001b[1;32mIn[33], line 2\u001b[0m\n\u001b[0;32m      1\u001b[0m \u001b[38;5;66;03m# 튜플은 변환이 불가능 하기 때문에 에러 발생\u001b[39;00m\n\u001b[1;32m----> 2\u001b[0m t2[\u001b[38;5;241m0\u001b[39m] \u001b[38;5;241m=\u001b[39m \u001b[38;5;124m'\u001b[39m\u001b[38;5;124mwatermelon\u001b[39m\u001b[38;5;124m'\u001b[39m\n",
      "\u001b[1;31mTypeError\u001b[0m: 'tuple' object does not support item assignment"
     ]
    }
   ],
   "source": [
    "# 튜플은 변환이 불가능 하기 때문에 에러 발생\n",
    "t2[0] = 'watermelon'"
   ]
  },
  {
   "cell_type": "markdown",
   "id": "c135ee62",
   "metadata": {},
   "source": [
    "<hr>"
   ]
  },
  {
   "cell_type": "code",
   "execution_count": 40,
   "id": "26ab1051",
   "metadata": {},
   "outputs": [
    {
     "data": {
      "text/plain": [
       "{'name': '안지영', 'age': 30, 'email': 'jiyoung@korea.com'}"
      ]
     },
     "execution_count": 40,
     "metadata": {},
     "output_type": "execute_result"
    }
   ],
   "source": [
    "members = {'name':'안지영', 'age':30, 'email':'jiyoung@korea.com'}\n",
    "members"
   ]
  },
  {
   "cell_type": "markdown",
   "id": "ccd842ad",
   "metadata": {},
   "source": [
    "  - keys : 딕셔너리에 key만 모아서 반환\n",
    "  - vlaues : 딕셔너리에 value만 모아서 반환\n",
    "  - items : key, value쌍을 튜플로 묶은 값을 반환\n",
    "  - clear : key,vallue 모두 지우기\n",
    "  - get(키) : key(키)로 value 얻기\n",
    "  - in : 해당 key가 딕셔너리 안에 있는지 조사하고자 하는 경우 사용"
   ]
  },
  {
   "cell_type": "code",
   "execution_count": 36,
   "id": "680d4ac9",
   "metadata": {},
   "outputs": [
    {
     "data": {
      "text/plain": [
       "dict_keys(['name', 'age', 'email'])"
      ]
     },
     "execution_count": 36,
     "metadata": {},
     "output_type": "execute_result"
    }
   ],
   "source": [
    "members.keys()"
   ]
  },
  {
   "cell_type": "code",
   "execution_count": 37,
   "id": "0509ba7f",
   "metadata": {},
   "outputs": [
    {
     "data": {
      "text/plain": [
       "dict_values(['안지영', 30, 'jiyoung@korea.com'])"
      ]
     },
     "execution_count": 37,
     "metadata": {},
     "output_type": "execute_result"
    }
   ],
   "source": [
    "members.values()"
   ]
  },
  {
   "cell_type": "code",
   "execution_count": 38,
   "id": "d397ed63",
   "metadata": {},
   "outputs": [
    {
     "data": {
      "text/plain": [
       "dict_items([('name', '안지영'), ('age', 30), ('email', 'jiyoung@korea.com')])"
      ]
     },
     "execution_count": 38,
     "metadata": {},
     "output_type": "execute_result"
    }
   ],
   "source": [
    "members.items()"
   ]
  },
  {
   "cell_type": "code",
   "execution_count": 42,
   "id": "8f0957a4",
   "metadata": {},
   "outputs": [
    {
     "data": {
      "text/plain": [
       "'안지영'"
      ]
     },
     "execution_count": 42,
     "metadata": {},
     "output_type": "execute_result"
    }
   ],
   "source": [
    "members.get('name')"
   ]
  },
  {
   "cell_type": "code",
   "execution_count": 43,
   "id": "d97e78b5",
   "metadata": {},
   "outputs": [
    {
     "data": {
      "text/plain": [
       "True"
      ]
     },
     "execution_count": 43,
     "metadata": {},
     "output_type": "execute_result"
    }
   ],
   "source": [
    "'name' in members # 이런 키가 있는지 없는지 "
   ]
  },
  {
   "cell_type": "code",
   "execution_count": 45,
   "id": "91a288d0",
   "metadata": {},
   "outputs": [
    {
     "data": {
      "text/plain": [
       "False"
      ]
     },
     "execution_count": 45,
     "metadata": {},
     "output_type": "execute_result"
    }
   ],
   "source": [
    "'birth' in members"
   ]
  },
  {
   "cell_type": "code",
   "execution_count": 46,
   "id": "b63ba528",
   "metadata": {},
   "outputs": [
    {
     "data": {
      "text/plain": [
       "{}"
      ]
     },
     "execution_count": 46,
     "metadata": {},
     "output_type": "execute_result"
    }
   ],
   "source": [
    "members.clear()\n",
    "members"
   ]
  }
 ],
 "metadata": {
  "kernelspec": {
   "display_name": "Python 3 (ipykernel)",
   "language": "python",
   "name": "python3"
  },
  "language_info": {
   "codemirror_mode": {
    "name": "ipython",
    "version": 3
   },
   "file_extension": ".py",
   "mimetype": "text/x-python",
   "name": "python",
   "nbconvert_exporter": "python",
   "pygments_lexer": "ipython3",
   "version": "3.10.9"
  }
 },
 "nbformat": 4,
 "nbformat_minor": 5
}
