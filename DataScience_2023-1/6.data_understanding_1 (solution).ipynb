{
 "cells": [
  {
   "cell_type": "markdown",
   "metadata": {
    "id": "Ad3KH2GnL1UA"
   },
   "source": [
    "# 데이터사이언스 (0010085001)\n",
    "\n",
    "## Exercise 6: Data Understanding (1)\n",
    "\n",
    "In this excercise, we will cover the exercise on the data understanding. We will learn how to adjust and handle missing values or strange values in the data."
   ]
  },
  {
   "cell_type": "code",
   "execution_count": null,
   "metadata": {
    "id": "ZyaEDLhNWhBs"
   },
   "outputs": [],
   "source": [
    "import numpy as np\n",
    "import pandas as pd\n",
    "import matplotlib.pyplot as plt\n",
    "\n",
    "# import requests\n",
    "\n",
    "%matplotlib inline"
   ]
  },
  {
   "cell_type": "markdown",
   "metadata": {
    "id": "6RwqgjuWX2O4"
   },
   "source": [
    "### 1. 날짜 자료형\n",
    "\n",
    "#### 예제: html 에서 테이블 데이터 가져오기\n",
    "\n",
    "https://pandas.pydata.org/docs/reference/api/pandas.read_html.html"
   ]
  },
  {
   "cell_type": "code",
   "execution_count": null,
   "metadata": {
    "id": "av5DOfPt42ou"
   },
   "outputs": [],
   "source": [
    "# Step 1: 파일 읽어오기\n",
    "url = 'https://www.fdic.gov/resources/resolutions/bank-failures/failed-bank-list/'\n",
    "\n",
    "# html에서 표 가져오기\n",
    "dfs = pd.read_html(url)"
   ]
  },
  {
   "cell_type": "code",
   "execution_count": null,
   "metadata": {
    "id": "65ydbIx86ez_"
   },
   "outputs": [],
   "source": [
    "# 데이터 프레임 길이 출력\n",
    "len(dfs)"
   ]
  },
  {
   "cell_type": "code",
   "execution_count": null,
   "metadata": {
    "id": "cafuixC_6bHS"
   },
   "outputs": [],
   "source": [
    "# 리스트 내의 첫 번째 원소를 다른 변수에 할당\n",
    "# 첫 번째 데이터만 가져오면 데이터프레임\n",
    "dfs = dfs[0]"
   ]
  },
  {
   "cell_type": "code",
   "execution_count": null,
   "metadata": {
    "id": "ofzXwVs06bFH"
   },
   "outputs": [],
   "source": [
    "# 데이터프레임의 첫 5줄 출력\n",
    "dfs.head()"
   ]
  },
  {
   "cell_type": "code",
   "execution_count": null,
   "metadata": {
    "id": "MThfA6Kr6jII"
   },
   "outputs": [],
   "source": [
    "# 데이터프레임 크기 확인\n",
    "dfs.shape"
   ]
  },
  {
   "cell_type": "code",
   "execution_count": null,
   "metadata": {
    "id": "WCw9pCQd6jGJ"
   },
   "outputs": [],
   "source": [
    "# 각 column 의 정보를 출력\n",
    "# 데이터프레임의 구성 정보 확인\n",
    "dfs.info() "
   ]
  },
  {
   "cell_type": "code",
   "execution_count": null,
   "metadata": {
    "id": "fTPSwRzX6jD1"
   },
   "outputs": [],
   "source": [
    "# Step 2: 날짜 변경\n",
    "# 문자열을 날짜형으로 변경\n",
    "dfs['Closing Date'] = pd.to_datetime(dfs['Closing DateClosing']) "
   ]
  },
  {
   "cell_type": "code",
   "execution_count": null,
   "metadata": {
    "id": "rDEi8QuS6i_P"
   },
   "outputs": [],
   "source": [
    "# 데이터프레임의 첫 5줄 출력\n",
    "dfs.head()"
   ]
  },
  {
   "cell_type": "code",
   "execution_count": null,
   "metadata": {
    "id": "PQmXOzEp6i86"
   },
   "outputs": [],
   "source": [
    "# 자료형 확인\n",
    "dfs.dtypes"
   ]
  },
  {
   "cell_type": "code",
   "execution_count": null,
   "metadata": {
    "id": "8bU7595P6i6u"
   },
   "outputs": [],
   "source": [
    "# Step 3: 날짜의 연도만 추출\n",
    "# 날짜 형을 변경하거나 조작할 경우 dt 연산자 사용\n",
    "dfs['Closing Date'].dt"
   ]
  },
  {
   "cell_type": "code",
   "execution_count": null,
   "metadata": {
    "id": "yhsk65Ce6i4h"
   },
   "outputs": [],
   "source": [
    "# 날짜에서 year, month, day 를 새로운 column 으로 생성\n",
    "dfs['Year'] = dfs['Closing Date'].dt.strftime('%Y')\n",
    "dfs['Month'] = dfs['Closing Date'].dt.strftime('%m')\n",
    "dfs['Day'] = dfs['Closing Date'].dt.strftime('%d')"
   ]
  },
  {
   "cell_type": "code",
   "execution_count": null,
   "metadata": {
    "id": "kIY-EEtT6i2S"
   },
   "outputs": [],
   "source": [
    "# 데이터프레임의 첫 5줄 출력\n",
    "dfs.head()"
   ]
  },
  {
   "cell_type": "code",
   "execution_count": null,
   "metadata": {
    "id": "-SabXGX16i0Z"
   },
   "outputs": [],
   "source": [
    "# Step 4: 파일로 저장하기\n",
    "dfs.to_csv('failed_bank_list.csv')"
   ]
  },
  {
   "cell_type": "code",
   "execution_count": null,
   "metadata": {
    "id": "Hux_wyqq6iyH"
   },
   "outputs": [],
   "source": [
    "# Step 5: 파일에서 다시 읽기\n",
    "# 문자 열을 처음부터 날짜로 변환\n",
    "dfs_ = pd.read_csv('failed_bank_list.csv', \n",
    "                   parse_dates=['Closing DateClosing']) "
   ]
  },
  {
   "cell_type": "code",
   "execution_count": null,
   "metadata": {
    "id": "cB6Yl5_26ivy"
   },
   "outputs": [],
   "source": [
    "# 각 row 의 정보를 출력\n",
    "dfs_.info()"
   ]
  },
  {
   "cell_type": "code",
   "execution_count": null,
   "metadata": {
    "id": "GwoxdH9O6itp"
   },
   "outputs": [],
   "source": [
    "# 데이터프레임의 첫 5줄 출력\n",
    "dfs_.head()"
   ]
  },
  {
   "cell_type": "code",
   "execution_count": null,
   "metadata": {
    "id": "rECCjhzl6ire"
   },
   "outputs": [],
   "source": [
    "# 불필요한 column 제거\n",
    "dfs_ = dfs_.drop('Unnamed: 0', axis=1) \n",
    "dfs_.head()"
   ]
  },
  {
   "cell_type": "code",
   "execution_count": null,
   "metadata": {
    "id": "CJKr0zyA6ipK"
   },
   "outputs": [],
   "source": [
    "# 년도 열을 기준으로 히스토그램 그래프 생성\n",
    "dfs_.plot(y='Year', kind='hist')"
   ]
  },
  {
   "cell_type": "markdown",
   "metadata": {
    "id": "_sEh9zf4-9J8"
   },
   "source": [
    "### 2. 결측치 및 이상치 값 정리\n",
    "\n",
    "#### 예제: 구글스토어 자료로 자료형 변경\n",
    "\n",
    "https://pandas.pydata.org/docs/reference/api/pandas.read_csv.html"
   ]
  },
  {
   "cell_type": "code",
   "execution_count": null,
   "metadata": {
    "id": "12cbxCfJ6im9"
   },
   "outputs": [],
   "source": [
    "# Step 1: 캐글에서 데이터 받기\n",
    "# url = 'https://kaggle.com/lava18/google-play-store-apps'"
   ]
  },
  {
   "cell_type": "code",
   "execution_count": null,
   "metadata": {
    "id": "bHg0Mts66ik1"
   },
   "outputs": [],
   "source": [
    "# Step 2: 파일을 읽어 데이터프레임으로 변환\n",
    "gstore = pd.read_csv('googleplaystore.csv')"
   ]
  },
  {
   "cell_type": "code",
   "execution_count": null,
   "metadata": {
    "id": "lg953thZlhFu"
   },
   "outputs": [],
   "source": [
    "# 데이터프레임 크기 확인\n",
    "gstore.shape"
   ]
  },
  {
   "cell_type": "code",
   "execution_count": null,
   "metadata": {
    "id": "IsdXyC5g_b0k"
   },
   "outputs": [],
   "source": [
    "# 데이터프레임의 첫 5줄 출력\n",
    "gstore.head()"
   ]
  },
  {
   "cell_type": "code",
   "execution_count": null,
   "metadata": {
    "id": "KNbC_LBN_bwL"
   },
   "outputs": [],
   "source": [
    "# Step 3: 열의 결측값 확인\n",
    "gstore.isna().sum()"
   ]
  },
  {
   "cell_type": "code",
   "execution_count": null,
   "metadata": {
    "id": "zhkrzeue_buH"
   },
   "outputs": [],
   "source": [
    "# 모든 결측값을 0으로 처리\n",
    "gstore = gstore.fillna(0)"
   ]
  },
  {
   "cell_type": "code",
   "execution_count": null,
   "metadata": {
    "id": "Px9LEUV6_br9"
   },
   "outputs": [],
   "source": [
    "# 다시 결측값을 확인\n",
    "gstore.isna().sum().sum()\n",
    "# gstore.isna().sum()"
   ]
  },
  {
   "cell_type": "code",
   "execution_count": null,
   "metadata": {
    "id": "oKFTm0O7_bpx"
   },
   "outputs": [],
   "source": [
    "# Step 4: 열 자료형 확인\n",
    "# 모든 자료형의 개수 확인\n",
    "gstore.dtypes.value_counts() \n"
   ]
  },
  {
   "cell_type": "code",
   "execution_count": null,
   "metadata": {
    "id": "1qcuOCDj_bns"
   },
   "outputs": [],
   "source": [
    "# Step 5: 날짜 자료형으로 변경\n",
    "try:\n",
    "  gstore['Last Updated'] = pd.to_datetime(gstore['Last Updated'])\n",
    "except Exception as e:\n",
    "  print(e)"
   ]
  },
  {
   "cell_type": "code",
   "execution_count": null,
   "metadata": {
    "id": "QkNlTpHI_bln"
   },
   "outputs": [],
   "source": [
    "# coerce 매개변수 이용 강제로 변경\n",
    "# 발생한 에러를 N/A로 변경\n",
    "gstore['Last Updated'] = pd.to_datetime(gstore['Last Updated'], errors='coerce')"
   ]
  },
  {
   "cell_type": "code",
   "execution_count": null,
   "metadata": {
    "id": "HyN4Q7WQaM2Y"
   },
   "outputs": [],
   "source": [
    "# column 확인\n",
    "gstore['Installs']"
   ]
  },
  {
   "cell_type": "code",
   "execution_count": null,
   "metadata": {
    "id": "KPKJWv4__bjd"
   },
   "outputs": [],
   "source": [
    "# Step 5: 숫자 자료형으로 변경\n",
    "gstore['Installs'].str"
   ]
  },
  {
   "cell_type": "code",
   "execution_count": null,
   "metadata": {
    "id": "YqLXDI0W_bhT"
   },
   "outputs": [],
   "source": [
    "# 숫자들 사이의 + 기호를 빈 문자열로 변환\n",
    "gstore['Installs'] = gstore['Installs'].str.replace('+', '')\n",
    "gstore['Installs']"
   ]
  },
  {
   "cell_type": "code",
   "execution_count": null,
   "metadata": {
    "id": "y5gkQk8O_bfo"
   },
   "outputs": [],
   "source": [
    "# 숫자들 사이의 쉼표를 기호를 빈 문자열로 변환\n",
    "gstore['Installs'] = gstore['Installs'].str.replace(',', '')\n",
    "gstore['Installs']"
   ]
  },
  {
   "cell_type": "code",
   "execution_count": null,
   "metadata": {
    "id": "4HKskVS6d0UW"
   },
   "outputs": [],
   "source": [
    "# 각 column 값의 발생 횟수 계산\n",
    "gstore['Installs'].value_counts()"
   ]
  },
  {
   "cell_type": "code",
   "execution_count": null,
   "metadata": {
    "id": "jPOoBoL0_bdk"
   },
   "outputs": [],
   "source": [
    "# 무료라는 의미의 Free 로 작성된 것을 0 으로 변경\n",
    "gstore['Installs'] = gstore['Installs'].str.replace('Free', '0')\n",
    "gstore['Installs'].value_counts()"
   ]
  },
  {
   "cell_type": "code",
   "execution_count": null,
   "metadata": {
    "id": "NAwtk2np_bbQ"
   },
   "outputs": [],
   "source": [
    "# 변환 후 자료형 변경\n",
    "gstore['Installs'] = gstore['Installs'].astype(str).astype(int)\n",
    "gstore['Installs']"
   ]
  },
  {
   "cell_type": "markdown",
   "metadata": {
    "id": "LoKNp1K8jmsa"
   },
   "source": [
    "### 3. 다양한 값의 정규화와 변환\n",
    "\n",
    "#### 예제: 내부 값 크기 변환\n",
    "\n",
    "https://scikit-learn.org/stable/modules/classes.html#module-sklearn.preprocessing"
   ]
  },
  {
   "cell_type": "code",
   "execution_count": 1,
   "metadata": {
    "executionInfo": {
     "elapsed": 3007,
     "status": "ok",
     "timestamp": 1679907822405,
     "user": {
      "displayName": "Jangho Lee",
      "userId": "10043463892603952252"
     },
     "user_tz": -540
    },
    "id": "BTpDO11NhC2i"
   },
   "outputs": [],
   "source": [
    "import numpy as np\n",
    "import pandas as pd\n",
    "from sklearn import preprocessing"
   ]
  },
  {
   "cell_type": "code",
   "execution_count": 2,
   "metadata": {
    "colab": {
     "base_uri": "https://localhost:8080/"
    },
    "executionInfo": {
     "elapsed": 7,
     "status": "ok",
     "timestamp": 1679907937904,
     "user": {
      "displayName": "Jangho Lee",
      "userId": "10043463892603952252"
     },
     "user_tz": -540
    },
    "id": "iUwyr3UkBMGb",
    "outputId": "33fa8710-ba51-4ddc-f463-8c36a52eba6d"
   },
   "outputs": [
    {
     "data": {
      "text/plain": [
       "array([[1, 2, 3],\n",
       "       [4, 5, 6],\n",
       "       [7, 8, 9]])"
      ]
     },
     "execution_count": 2,
     "metadata": {},
     "output_type": "execute_result"
    }
   ],
   "source": [
    "# Step 1: 이진화\n",
    "input_data = np.arange(1, 10).reshape(3, 3)\n",
    "input_data"
   ]
  },
  {
   "cell_type": "code",
   "execution_count": 3,
   "metadata": {
    "colab": {
     "base_uri": "https://localhost:8080/"
    },
    "executionInfo": {
     "elapsed": 397,
     "status": "ok",
     "timestamp": 1679907968898,
     "user": {
      "displayName": "Jangho Lee",
      "userId": "10043463892603952252"
     },
     "user_tz": -540
    },
    "id": "kU4W2oolBMEO",
    "outputId": "854c4624-5fc8-480a-99b6-2cf4384c9c97"
   },
   "outputs": [
    {
     "data": {
      "text/plain": [
       "type"
      ]
     },
     "execution_count": 3,
     "metadata": {},
     "output_type": "execute_result"
    }
   ],
   "source": [
    "# 전처리 모듈 중 바이너리로 변환하는 클래스 확인\n",
    "type(preprocessing.Binarizer)"
   ]
  },
  {
   "cell_type": "code",
   "execution_count": 4,
   "metadata": {
    "colab": {
     "base_uri": "https://localhost:8080/"
    },
    "executionInfo": {
     "elapsed": 320,
     "status": "ok",
     "timestamp": 1679908075855,
     "user": {
      "displayName": "Jangho Lee",
      "userId": "10043463892603952252"
     },
     "user_tz": -540
    },
    "id": "09cfT1WPBMCR",
    "outputId": "5d938201-448b-4be0-9fd9-8973214f60ac"
   },
   "outputs": [
    {
     "data": {
      "text/plain": [
       "array([[0, 0, 1],\n",
       "       [1, 1, 1],\n",
       "       [1, 1, 1]])"
      ]
     },
     "execution_count": 4,
     "metadata": {},
     "output_type": "execute_result"
    }
   ],
   "source": [
    "# threshold 2.1 에 대해 binarization 수행\n",
    "data_bin = preprocessing.Binarizer(threshold=2.1).transform(input_data)\n",
    "data_bin"
   ]
  },
  {
   "cell_type": "code",
   "execution_count": 5,
   "metadata": {
    "colab": {
     "base_uri": "https://localhost:8080/"
    },
    "executionInfo": {
     "elapsed": 332,
     "status": "ok",
     "timestamp": 1679908096825,
     "user": {
      "displayName": "Jangho Lee",
      "userId": "10043463892603952252"
     },
     "user_tz": -540
    },
    "id": "wOtYlxztk9jt",
    "outputId": "3b19bbe2-ee5f-4896-b8ce-440b9e3cd84e"
   },
   "outputs": [
    {
     "data": {
      "text/plain": [
       "array([[0, 0, 0],\n",
       "       [0, 0, 1],\n",
       "       [1, 1, 1]])"
      ]
     },
     "execution_count": 5,
     "metadata": {},
     "output_type": "execute_result"
    }
   ],
   "source": [
    "# threshold 5.1 에 대해 binarization 수행\n",
    "data_bin = preprocessing.Binarizer(threshold=5.1).transform(input_data)\n",
    "data_bin"
   ]
  },
  {
   "cell_type": "code",
   "execution_count": 6,
   "metadata": {
    "colab": {
     "base_uri": "https://localhost:8080/"
    },
    "executionInfo": {
     "elapsed": 931,
     "status": "ok",
     "timestamp": 1679908161974,
     "user": {
      "displayName": "Jangho Lee",
      "userId": "10043463892603952252"
     },
     "user_tz": -540
    },
    "id": "S-ttYZ8SmZVw",
    "outputId": "558023f6-783f-4cc4-8774-4e1c3c2f38c1"
   },
   "outputs": [
    {
     "data": {
      "text/plain": [
       "5.0"
      ]
     },
     "execution_count": 6,
     "metadata": {},
     "output_type": "execute_result"
    }
   ],
   "source": [
    "# Step 2: 스케일링 처리\n",
    "# 앞에서 정의한 배열의 평균\n",
    "input_data.mean()"
   ]
  },
  {
   "cell_type": "code",
   "execution_count": 7,
   "metadata": {
    "colab": {
     "base_uri": "https://localhost:8080/"
    },
    "executionInfo": {
     "elapsed": 333,
     "status": "ok",
     "timestamp": 1679908213276,
     "user": {
      "displayName": "Jangho Lee",
      "userId": "10043463892603952252"
     },
     "user_tz": -540
    },
    "id": "8zpj3R8_mZTt",
    "outputId": "0ea583b5-0bb8-4983-ab99-d4c92ab442f2"
   },
   "outputs": [
    {
     "data": {
      "text/plain": [
       "array([4., 5., 6.])"
      ]
     },
     "execution_count": 7,
     "metadata": {},
     "output_type": "execute_result"
    }
   ],
   "source": [
    "# 앞에서 정의한 열에 대한 평균\n",
    "input_data.mean(axis=0)"
   ]
  },
  {
   "cell_type": "code",
   "execution_count": 8,
   "metadata": {
    "colab": {
     "base_uri": "https://localhost:8080/"
    },
    "executionInfo": {
     "elapsed": 4,
     "status": "ok",
     "timestamp": 1679908238296,
     "user": {
      "displayName": "Jangho Lee",
      "userId": "10043463892603952252"
     },
     "user_tz": -540
    },
    "id": "lkkInEtvmZRf",
    "outputId": "358a0e4a-d410-482b-a01c-c378a0a6c02f"
   },
   "outputs": [
    {
     "data": {
      "text/plain": [
       "array([2.44948974, 2.44948974, 2.44948974])"
      ]
     },
     "execution_count": 8,
     "metadata": {},
     "output_type": "execute_result"
    }
   ],
   "source": [
    "# 앞에서 정의한 열에 대한 표준편차\n",
    "input_data.std(axis=0)"
   ]
  },
  {
   "cell_type": "code",
   "execution_count": 9,
   "metadata": {
    "colab": {
     "base_uri": "https://localhost:8080/"
    },
    "executionInfo": {
     "elapsed": 313,
     "status": "ok",
     "timestamp": 1679908265458,
     "user": {
      "displayName": "Jangho Lee",
      "userId": "10043463892603952252"
     },
     "user_tz": -540
    },
    "id": "7WnBNzjzmZPU",
    "outputId": "90c63b70-fe8c-4860-aaa5-39186b7240f2"
   },
   "outputs": [
    {
     "data": {
      "text/plain": [
       "function"
      ]
     },
     "execution_count": 9,
     "metadata": {},
     "output_type": "execute_result"
    }
   ],
   "source": [
    "# 전처리 수행할 scale 함수 확인\n",
    "type(preprocessing.scale)"
   ]
  },
  {
   "cell_type": "code",
   "execution_count": 10,
   "metadata": {
    "colab": {
     "base_uri": "https://localhost:8080/"
    },
    "executionInfo": {
     "elapsed": 791,
     "status": "ok",
     "timestamp": 1679908303738,
     "user": {
      "displayName": "Jangho Lee",
      "userId": "10043463892603952252"
     },
     "user_tz": -540
    },
    "id": "E41E7FF8mZNJ",
    "outputId": "4a332b2a-daa5-4626-f4a8-b33a4e163bc9"
   },
   "outputs": [
    {
     "data": {
      "text/plain": [
       "array([[-1.22474487, -1.22474487, -1.22474487],\n",
       "       [ 0.        ,  0.        ,  0.        ],\n",
       "       [ 1.22474487,  1.22474487,  1.22474487]])"
      ]
     },
     "execution_count": 10,
     "metadata": {},
     "output_type": "execute_result"
    }
   ],
   "source": [
    "# 데이터를 스케일링 (z = (x-mu) / sigma)\n",
    "data = preprocessing.scale(input_data)\n",
    "data"
   ]
  },
  {
   "cell_type": "code",
   "execution_count": 11,
   "metadata": {
    "colab": {
     "base_uri": "https://localhost:8080/"
    },
    "executionInfo": {
     "elapsed": 563,
     "status": "ok",
     "timestamp": 1679908330641,
     "user": {
      "displayName": "Jangho Lee",
      "userId": "10043463892603952252"
     },
     "user_tz": -540
    },
    "id": "fRUv6P8FmZLF",
    "outputId": "e2b9ae98-3357-4562-bcf3-33a9112e4b92"
   },
   "outputs": [
    {
     "data": {
      "text/plain": [
       "array([0., 0., 0.])"
      ]
     },
     "execution_count": 11,
     "metadata": {},
     "output_type": "execute_result"
    }
   ],
   "source": [
    "# axis=0 에 대해 평균 계산\n",
    "data.mean(axis=0)"
   ]
  },
  {
   "cell_type": "code",
   "execution_count": 12,
   "metadata": {
    "colab": {
     "base_uri": "https://localhost:8080/"
    },
    "executionInfo": {
     "elapsed": 3,
     "status": "ok",
     "timestamp": 1679908338146,
     "user": {
      "displayName": "Jangho Lee",
      "userId": "10043463892603952252"
     },
     "user_tz": -540
    },
    "id": "MtZk8D-MmZJJ",
    "outputId": "e10b9769-ca51-4795-b453-cb8c6e7c33d9"
   },
   "outputs": [
    {
     "data": {
      "text/plain": [
       "array([1., 1., 1.])"
      ]
     },
     "execution_count": 12,
     "metadata": {},
     "output_type": "execute_result"
    }
   ],
   "source": [
    "# axis=0 에 대해 표준편차 계산\n",
    "data.std(axis=0)"
   ]
  },
  {
   "cell_type": "code",
   "execution_count": 15,
   "metadata": {
    "colab": {
     "base_uri": "https://localhost:8080/"
    },
    "executionInfo": {
     "elapsed": 5,
     "status": "ok",
     "timestamp": 1679908679302,
     "user": {
      "displayName": "Jangho Lee",
      "userId": "10043463892603952252"
     },
     "user_tz": -540
    },
    "id": "GHOLld-LmZHL",
    "outputId": "5f701e42-8459-4981-9cfb-efd1cdc5b3cc"
   },
   "outputs": [
    {
     "data": {
      "text/plain": [
       "array([[0.   , 0.125, 0.25 ],\n",
       "       [0.375, 0.5  , 0.625],\n",
       "       [0.75 , 0.875, 1.   ]])"
      ]
     },
     "execution_count": 15,
     "metadata": {},
     "output_type": "execute_result"
    }
   ],
   "source": [
    "# Step 3: 최솟값과 최댓값 조정 ~ normalize\n",
    "# x_i^' = (x_i - min(x)) / (max(x) - min(x))\n",
    "\n",
    "# 8bit -> 0~255\n",
    "min = np.min(input_data)\n",
    "max = np.max(input_data)\n",
    "input_data2 = (input_data - min) / (max - min) # [0, 1]\n",
    "input_data2"
   ]
  },
  {
   "cell_type": "code",
   "execution_count": 13,
   "metadata": {
    "colab": {
     "base_uri": "https://localhost:8080/"
    },
    "executionInfo": {
     "elapsed": 546,
     "status": "ok",
     "timestamp": 1679908448150,
     "user": {
      "displayName": "Jangho Lee",
      "userId": "10043463892603952252"
     },
     "user_tz": -540
    },
    "id": "fM8NnJVsmZE_",
    "outputId": "36211d54-754f-42a0-cfe3-de7bff6888e0"
   },
   "outputs": [
    {
     "data": {
      "text/plain": [
       "array([[0. , 0. , 0. ],\n",
       "       [0.5, 0.5, 0.5],\n",
       "       [1. , 1. , 1. ]])"
      ]
     },
     "execution_count": 13,
     "metadata": {},
     "output_type": "execute_result"
    }
   ],
   "source": [
    "# 주어진 범위 (0, 1)로 스케일링\n",
    "data_minmax = preprocessing.MinMaxScaler(feature_range=(0, 1)).fit_transform(input_data)\n",
    "data_minmax"
   ]
  },
  {
   "cell_type": "code",
   "execution_count": 14,
   "metadata": {
    "colab": {
     "base_uri": "https://localhost:8080/"
    },
    "executionInfo": {
     "elapsed": 438,
     "status": "ok",
     "timestamp": 1679908530367,
     "user": {
      "displayName": "Jangho Lee",
      "userId": "10043463892603952252"
     },
     "user_tz": -540
    },
    "id": "VMkF9KxEndYH",
    "outputId": "2bc1f197-7f62-49b4-8ca8-790ceeb6cd57"
   },
   "outputs": [
    {
     "data": {
      "text/plain": [
       "array([[0. , 0. , 0. ],\n",
       "       [1.5, 1.5, 1.5],\n",
       "       [3. , 3. , 3. ]])"
      ]
     },
     "execution_count": 14,
     "metadata": {},
     "output_type": "execute_result"
    }
   ],
   "source": [
    "# 주어진 범위 (0, 3)로 스케일링\n",
    "data_minmax = preprocessing.MinMaxScaler(feature_range=(0, 3)).fit_transform(input_data)\n",
    "data_minmax"
   ]
  },
  {
   "cell_type": "code",
   "execution_count": null,
   "metadata": {
    "id": "ZXJFc1GMnqN2"
   },
   "outputs": [],
   "source": [
    "# Step 4: 표준화처리"
   ]
  },
  {
   "cell_type": "code",
   "execution_count": 16,
   "metadata": {
    "colab": {
     "base_uri": "https://localhost:8080/"
    },
    "executionInfo": {
     "elapsed": 4,
     "status": "ok",
     "timestamp": 1679908761260,
     "user": {
      "displayName": "Jangho Lee",
      "userId": "10043463892603952252"
     },
     "user_tz": -540
    },
    "id": "Z1OoF4s9nq9e",
    "outputId": "fda0be56-468b-4db1-9f5d-f71465fad11b"
   },
   "outputs": [
    {
     "data": {
      "text/plain": [
       "array([[-1.22474487, -1.22474487, -1.22474487],\n",
       "       [ 0.        ,  0.        ,  0.        ],\n",
       "       [ 1.22474487,  1.22474487,  1.22474487]])"
      ]
     },
     "execution_count": 16,
     "metadata": {},
     "output_type": "execute_result"
    }
   ],
   "source": [
    "# 정규화 (z = x - u / s)\n",
    "# 평균 0, 분산 1을 갖도록 스케일 조정\n",
    "data_standard_ = preprocessing.StandardScaler().fit_transform(input_data) \n",
    "data_standard_"
   ]
  },
  {
   "cell_type": "code",
   "execution_count": 17,
   "metadata": {
    "colab": {
     "base_uri": "https://localhost:8080/"
    },
    "executionInfo": {
     "elapsed": 836,
     "status": "ok",
     "timestamp": 1679908769791,
     "user": {
      "displayName": "Jangho Lee",
      "userId": "10043463892603952252"
     },
     "user_tz": -540
    },
    "id": "ZH6n-R6ynq7X",
    "outputId": "01623805-6793-4e2f-96bb-84d5720f6155"
   },
   "outputs": [
    {
     "data": {
      "text/plain": [
       "2.4671622769447922e-17"
      ]
     },
     "execution_count": 17,
     "metadata": {},
     "output_type": "execute_result"
    }
   ],
   "source": [
    "# 정규화된 데이터의 평균 계산\n",
    "data_standard_.mean() # "
   ]
  },
  {
   "cell_type": "code",
   "execution_count": 18,
   "metadata": {
    "colab": {
     "base_uri": "https://localhost:8080/"
    },
    "executionInfo": {
     "elapsed": 936,
     "status": "ok",
     "timestamp": 1679908789299,
     "user": {
      "displayName": "Jangho Lee",
      "userId": "10043463892603952252"
     },
     "user_tz": -540
    },
    "id": "3V10I_monq5Z",
    "outputId": "58e0c0b7-3824-4ef5-aac8-13c2d0b774e2"
   },
   "outputs": [
    {
     "data": {
      "text/plain": [
       "1.0"
      ]
     },
     "execution_count": 18,
     "metadata": {},
     "output_type": "execute_result"
    }
   ],
   "source": [
    "# 정규화된 데이터의 표준편차 계산\n",
    "data_standard_.std()"
   ]
  },
  {
   "cell_type": "code",
   "execution_count": 19,
   "metadata": {
    "colab": {
     "base_uri": "https://localhost:8080/"
    },
    "executionInfo": {
     "elapsed": 377,
     "status": "ok",
     "timestamp": 1679908952681,
     "user": {
      "displayName": "Jangho Lee",
      "userId": "10043463892603952252"
     },
     "user_tz": -540
    },
    "id": "7uIupnGYnq3W",
    "outputId": "5f067fd2-eed2-4696-e041-8e5a5bb24ecc"
   },
   "outputs": [
    {
     "data": {
      "text/plain": [
       "array([[0.16666667, 0.33333333, 0.5       ],\n",
       "       [0.26666667, 0.33333333, 0.4       ],\n",
       "       [0.29166667, 0.33333333, 0.375     ]])"
      ]
     },
     "execution_count": 19,
     "metadata": {},
     "output_type": "execute_result"
    }
   ],
   "source": [
    "# Step 4: 정규화 처리 \n",
    "# 주어진 norm  (L1)으로 정규화\n",
    "data_normal_l1 = preprocessing.normalize(input_data, norm='l1')\n",
    "data_normal_l1\n"
   ]
  },
  {
   "cell_type": "code",
   "execution_count": 20,
   "metadata": {
    "colab": {
     "base_uri": "https://localhost:8080/"
    },
    "executionInfo": {
     "elapsed": 2,
     "status": "ok",
     "timestamp": 1679909002642,
     "user": {
      "displayName": "Jangho Lee",
      "userId": "10043463892603952252"
     },
     "user_tz": -540
    },
    "id": "2b1sXiK8nq1R",
    "outputId": "4fb5ad78-788d-4a04-f652-57f6ec995386"
   },
   "outputs": [
    {
     "data": {
      "text/plain": [
       "array([[0.26726124, 0.53452248, 0.80178373],\n",
       "       [0.45584231, 0.56980288, 0.68376346],\n",
       "       [0.50257071, 0.57436653, 0.64616234]])"
      ]
     },
     "execution_count": 20,
     "metadata": {},
     "output_type": "execute_result"
    }
   ],
   "source": [
    "# 주어진 norm  (L2)으로 정규화\n",
    "data_normal_l2 = preprocessing.normalize(input_data, norm='l2')\n",
    "data_normal_l2"
   ]
  },
  {
   "cell_type": "code",
   "execution_count": null,
   "metadata": {
    "id": "PoyONV8PYRa1"
   },
   "outputs": [],
   "source": []
  }
 ],
 "metadata": {
  "colab": {
   "authorship_tag": "ABX9TyNlzSigivUJFAHpxEAc/KfB",
   "provenance": []
  },
  "kernelspec": {
   "display_name": "Python 3",
   "name": "python3"
  },
  "language_info": {
   "name": "python"
  }
 },
 "nbformat": 4,
 "nbformat_minor": 0
}
