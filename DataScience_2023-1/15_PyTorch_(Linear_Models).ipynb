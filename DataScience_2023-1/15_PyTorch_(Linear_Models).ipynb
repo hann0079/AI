{
 "cells": [
  {
   "cell_type": "markdown",
   "metadata": {
    "id": "kj4JGvVDuuz1"
   },
   "source": [
    "# 데이터사이언스 (0010085001)\n",
    "\n",
    "## Exercise 15: PyTorch (Linear Models)\n",
    "\n",
    "* source from : https://github.com/L1aoXingyu/pytorch-beginner"
   ]
  },
  {
   "cell_type": "markdown",
   "metadata": {
    "id": "irMJ2c-qmIYS"
   },
   "source": [
    "### 1. Linear Regression"
   ]
  },
  {
   "cell_type": "code",
   "execution_count": 1,
   "metadata": {
    "id": "aySLEhZZQ9Te"
   },
   "outputs": [],
   "source": [
    "import matplotlib.pyplot as plt\n",
    "import numpy as np\n",
    "import torch\n",
    "from torch import nn\n",
    "from torch.autograd import Variable"
   ]
  },
  {
   "cell_type": "code",
   "execution_count": 2,
   "metadata": {
    "id": "tEnBNC8WSgTb"
   },
   "outputs": [],
   "source": [
    "# 데이터 생성\n",
    "x_train = np.array([[3.3], [4.4], [5.5], [6.71], [6.93], [4.168],\n",
    "                    [9.779], [6.182], [7.59], [2.167], [7.042],\n",
    "                    [10.791], [5.313], [7.997], [3.1]], dtype=np.float32)\n",
    "\n",
    "y_train = np.array([[1.7], [2.76], [2.09], [3.19], [1.694], [1.573],\n",
    "                    [3.366], [2.596], [2.53], [1.221], [2.827],\n",
    "                    [3.465], [1.65], [2.904], [1.3]], dtype=np.float32)\n",
    "\n",
    "# numpy.array -> torch.tensor\n",
    "x_train = torch.from_numpy(x_train)\n",
    "y_train = torch.from_numpy(y_train)"
   ]
  },
  {
   "cell_type": "code",
   "execution_count": 3,
   "metadata": {
    "id": "Bk1Qyon5SgPb"
   },
   "outputs": [],
   "source": [
    "# Linear regression 모델 생성\n",
    "\n",
    "### torch.nn.Module\n",
    "# https://pytorch.org/docs/stable/generated/torch.nn.Module.html#module\n",
    "\n",
    "class linearRegression(nn.Module):\n",
    "    def __init__(self):\n",
    "        super(linearRegression, self).__init__()\n",
    "        self.linear = nn.Linear(1, 1)  # input and output is 1 dimension\n",
    "\n",
    "    def forward(self, x):\n",
    "        out = self.linear(x)\n",
    "        return out\n",
    "\n",
    "model = linearRegression()"
   ]
  },
  {
   "cell_type": "code",
   "execution_count": 4,
   "metadata": {
    "id": "jDW4m9aBjOkU"
   },
   "outputs": [],
   "source": [
    "# Loss (cost) function 설정\n",
    "\n",
    "### torch.nn.MSELoss\n",
    "# https://pytorch.org/docs/stable/nn.html#loss-functions\n",
    "\n",
    "criterion = nn.MSELoss()"
   ]
  },
  {
   "cell_type": "code",
   "execution_count": 5,
   "metadata": {
    "id": "9oTR-bafjOiM"
   },
   "outputs": [],
   "source": [
    "# Optimizer 설정\n",
    "\n",
    "### torch.optim.SGD (Stochastic gradient descent)\n",
    "# https://pytorch.org/docs/stable/optim.html\n",
    "\n",
    "optimizer = torch.optim.SGD(model.parameters(), lr=1e-4)"
   ]
  },
  {
   "cell_type": "code",
   "execution_count": 6,
   "metadata": {
    "id": "tlhRZ3wgjOgC"
   },
   "outputs": [
    {
     "name": "stdout",
     "output_type": "stream",
     "text": [
      "Epoch[20/1000], loss: 40.957615\n",
      "Epoch[40/1000], loss: 29.027912\n",
      "Epoch[60/1000], loss: 20.596622\n",
      "Epoch[80/1000], loss: 14.637820\n",
      "Epoch[100/1000], loss: 10.426437\n",
      "Epoch[120/1000], loss: 7.450032\n",
      "Epoch[140/1000], loss: 5.346441\n",
      "Epoch[160/1000], loss: 3.859706\n",
      "Epoch[180/1000], loss: 2.808932\n",
      "Epoch[200/1000], loss: 2.066270\n",
      "Epoch[220/1000], loss: 1.541366\n",
      "Epoch[240/1000], loss: 1.170360\n",
      "Epoch[260/1000], loss: 0.908121\n",
      "Epoch[280/1000], loss: 0.722753\n",
      "Epoch[300/1000], loss: 0.591713\n",
      "Epoch[320/1000], loss: 0.499069\n",
      "Epoch[340/1000], loss: 0.433561\n",
      "Epoch[360/1000], loss: 0.387231\n",
      "Epoch[380/1000], loss: 0.354456\n",
      "Epoch[400/1000], loss: 0.331260\n",
      "Epoch[420/1000], loss: 0.314835\n",
      "Epoch[440/1000], loss: 0.303194\n",
      "Epoch[460/1000], loss: 0.294935\n",
      "Epoch[480/1000], loss: 0.289066\n",
      "Epoch[500/1000], loss: 0.284886\n",
      "Epoch[520/1000], loss: 0.281900\n",
      "Epoch[540/1000], loss: 0.279758\n",
      "Epoch[560/1000], loss: 0.278212\n",
      "Epoch[580/1000], loss: 0.277088\n",
      "Epoch[600/1000], loss: 0.276262\n",
      "Epoch[620/1000], loss: 0.275646\n",
      "Epoch[640/1000], loss: 0.275179\n",
      "Epoch[660/1000], loss: 0.274818\n",
      "Epoch[680/1000], loss: 0.274530\n",
      "Epoch[700/1000], loss: 0.274296\n",
      "Epoch[720/1000], loss: 0.274099\n",
      "Epoch[740/1000], loss: 0.273928\n",
      "Epoch[760/1000], loss: 0.273775\n",
      "Epoch[780/1000], loss: 0.273636\n",
      "Epoch[800/1000], loss: 0.273506\n",
      "Epoch[820/1000], loss: 0.273383\n",
      "Epoch[840/1000], loss: 0.273265\n",
      "Epoch[860/1000], loss: 0.273150\n",
      "Epoch[880/1000], loss: 0.273037\n",
      "Epoch[900/1000], loss: 0.272927\n",
      "Epoch[920/1000], loss: 0.272817\n",
      "Epoch[940/1000], loss: 0.272708\n",
      "Epoch[960/1000], loss: 0.272600\n",
      "Epoch[980/1000], loss: 0.272493\n",
      "Epoch[1000/1000], loss: 0.272386\n"
     ]
    }
   ],
   "source": [
    "# 모델 학습\n",
    "\n",
    "num_epochs = 1000\n",
    "\n",
    "for epoch in range(num_epochs):\n",
    "    inputs = x_train\n",
    "    target = y_train\n",
    "\n",
    "    # forward\n",
    "    out = model(inputs)\n",
    "    loss = criterion(out, target)\n",
    "\n",
    "    # backward\n",
    "    optimizer.zero_grad()\n",
    "    loss.backward()\n",
    "    optimizer.step()\n",
    "\n",
    "    if (epoch+1) % 20 == 0:\n",
    "        print(f'Epoch[{epoch+1}/{num_epochs}], loss: {loss.item():.6f}')\n",
    "\n",
    "### torch.nn.Module.eval()\n",
    "# https://pytorch.org/docs/stable/generated/torch.nn.Module.html#torch.nn.Module.eval\n",
    "model.eval()\n",
    "\n",
    "### torch.no_grad()\n",
    "# https://pytorch.org/docs/stable/generated/torch.no_grad.html#torch.no_grad\n",
    "with torch.no_grad():\n",
    "    predict = model(x_train)\n",
    "\n",
    "predict = predict.data.numpy()"
   ]
  },
  {
   "cell_type": "code",
   "execution_count": 7,
   "metadata": {
    "id": "w9yTrkN4jOeG"
   },
   "outputs": [
    {
     "data": {
      "image/png": "[encoded data removed]",
      "text/plain": [
       "<Figure size 1000x500 with 1 Axes>"
      ]
     },
     "metadata": {},
     "output_type": "display_data"
    }
   ],
   "source": [
    "# 학습 결과 시각화\n",
    "\n",
    "fig = plt.figure(figsize=(10, 5))\n",
    "plt.plot(x_train.numpy(), y_train.numpy(), 'ro', label='Original data')\n",
    "plt.plot(x_train.numpy(), predict, label='Fitting Line')\n",
    "\n",
    "plt.legend() \n",
    "plt.show()"
   ]
  },
  {
   "cell_type": "code",
   "execution_count": 8,
   "metadata": {
    "id": "m2UYTiyFjOb4"
   },
   "outputs": [],
   "source": [
    "# 모델 저장 (즉, 학습으로 얻은 weights 를 저장)\n",
    "\n",
    "torch.save(model.state_dict(), './linear.pth')"
   ]
  },
  {
   "cell_type": "markdown",
   "metadata": {
    "id": "AEwgWwNSmMZX"
   },
   "source": [
    "### 2. Logistic Regression"
   ]
  },
  {
   "cell_type": "code",
   "execution_count": 10,
   "metadata": {},
   "outputs": [
    {
     "name": "stdout",
     "output_type": "stream",
     "text": [
      "Collecting package metadata (current_repodata.json): ...working... done\n",
      "Solving environment: ...working... done\n",
      "\n",
      "## Package Plan ##\n",
      "\n",
      "  environment location: C:\\Users\\gkdms\\anaconda3\n",
      "\n",
      "  added / updated specs:\n",
      "    - torchvision\n",
      "\n",
      "\n",
      "The following packages will be downloaded:\n",
      "\n",
      "    package                    |            build\n",
      "    ---------------------------|-----------------\n",
      "    ca-certificates-2023.05.30 |       haa95532_0         120 KB\n",
      "    certifi-2023.5.7           |  py310haa95532_0         153 KB\n",
      "    torchvision-0.13.1         |cpu_py310h378ed51_0         6.1 MB\n",
      "    ------------------------------------------------------------\n",
      "                                           Total:         6.4 MB\n",
      "\n",
      "The following NEW packages will be INSTALLED:\n",
      "\n",
      "  torchvision        pkgs/main/win-64::torchvision-0.13.1-cpu_py310h378ed51_0 \n",
      "\n",
      "The following packages will be UPDATED:\n",
      "\n",
      "  ca-certificates                     2023.01.10-haa95532_0 --> 2023.05.30-haa95532_0 \n",
      "  certifi                         2022.12.7-py310haa95532_0 --> 2023.5.7-py310haa95532_0 \n",
      "\n",
      "\n",
      "\n",
      "Downloading and Extracting Packages\n",
      "\n",
      "torchvision-0.13.1   | 6.1 MB    |            |   0% \n",
      "\n",
      "ca-certificates-2023 | 120 KB    |            |   0% \u001b[A\n",
      "\n",
      "\n",
      "certifi-2023.5.7     | 153 KB    |            |   0% \u001b[A\u001b[A\n",
      "\n",
      "\n",
      "certifi-2023.5.7     | 153 KB    | #          |  10% \u001b[A\u001b[A\n",
      "\n",
      "ca-certificates-2023 | 120 KB    | #3         |  13% \u001b[A\n",
      "torchvision-0.13.1   | 6.1 MB    |            |   0% \n",
      "\n",
      "\n",
      "certifi-2023.5.7     | 153 KB    | ###1       |  31% \u001b[A\u001b[A\n",
      "\n",
      "ca-certificates-2023 | 120 KB    | ###9       |  40% \u001b[A\n",
      "torchvision-0.13.1   | 6.1 MB    |            |   1% \n",
      "\n",
      "ca-certificates-2023 | 120 KB    | ########## | 100% \u001b[A\n",
      "\n",
      "\n",
      "certifi-2023.5.7     | 153 KB    | ########3  |  84% \u001b[A\u001b[A\n",
      "\n",
      "ca-certificates-2023 | 120 KB    | ########## | 100% \u001b[A\n",
      "torchvision-0.13.1   | 6.1 MB    | 2          |   2% \n",
      "\n",
      "\n",
      "certifi-2023.5.7     | 153 KB    | ########## | 100% \u001b[A\u001b[A\n",
      "torchvision-0.13.1   | 6.1 MB    | 3          |   4% \n",
      "torchvision-0.13.1   | 6.1 MB    | 6          |   6% \n",
      "torchvision-0.13.1   | 6.1 MB    | 8          |   8% \n",
      "torchvision-0.13.1   | 6.1 MB    | #2         |  13% \n",
      "torchvision-0.13.1   | 6.1 MB    | ##         |  20% \n",
      "torchvision-0.13.1   | 6.1 MB    | ##4        |  24% \n",
      "torchvision-0.13.1   | 6.1 MB    | ###9       |  40% \n",
      "torchvision-0.13.1   | 6.1 MB    | ####5      |  45% \n",
      "torchvision-0.13.1   | 6.1 MB    | ####9      |  49% \n",
      "torchvision-0.13.1   | 6.1 MB    | #####6     |  56% \n",
      "torchvision-0.13.1   | 6.1 MB    | ######3    |  63% \n",
      "torchvision-0.13.1   | 6.1 MB    | ######8    |  69% \n",
      "torchvision-0.13.1   | 6.1 MB    | #######3   |  74% \n",
      "torchvision-0.13.1   | 6.1 MB    | ########3  |  84% \n",
      "torchvision-0.13.1   | 6.1 MB    | #########8 |  99% \n",
      "torchvision-0.13.1   | 6.1 MB    | ########## | 100% \n",
      "                                                     \n",
      "\n",
      "\n",
      "                                                     \u001b[A\n",
      "\n",
      "\n",
      "                                                     \u001b[A\u001b[A\n",
      "\n",
      "Preparing transaction: ...working... done\n",
      "Verifying transaction: ...working... done\n",
      "Executing transaction: ...working... done\n",
      "\n",
      "Note: you may need to restart the kernel to use updated packages.\n"
     ]
    },
    {
     "name": "stderr",
     "output_type": "stream",
     "text": [
      "\n",
      "\n",
      "==> WARNING: A newer version of conda exists. <==\n",
      "  current version: 23.1.0\n",
      "  latest version: 23.5.0\n",
      "\n",
      "Please update conda by running\n",
      "\n",
      "    $ conda update -n base -c defaults conda\n",
      "\n",
      "Or to minimize the number of packages updated during conda update use\n",
      "\n",
      "     conda install conda=23.5.0\n",
      "\n",
      "\n"
     ]
    }
   ],
   "source": [
    "conda install torchvision -c pytorch"
   ]
  },
  {
   "cell_type": "code",
   "execution_count": 11,
   "metadata": {
    "id": "mZW2X1a-jOZ0"
   },
   "outputs": [],
   "source": [
    "import time\n",
    "\n",
    "import torch\n",
    "import torch.nn.functional as F\n",
    "from torch import nn\n",
    "from torch.utils.data import DataLoader\n",
    "from torchvision import datasets, transforms\n"
   ]
  },
  {
   "cell_type": "code",
   "execution_count": 12,
   "metadata": {
    "id": "u4NXQTrVnpn5"
   },
   "outputs": [],
   "source": [
    "# 학습 파라미터 설정\n",
    "\n",
    "batch_size = 64\n",
    "learning_rate = 1e-3\n",
    "num_epochs = 10"
   ]
  },
  {
   "cell_type": "code",
   "execution_count": 13,
   "metadata": {
    "id": "wyH64ehxnplu"
   },
   "outputs": [
    {
     "name": "stdout",
     "output_type": "stream",
     "text": [
      "Downloading http://fashion-mnist.s3-website.eu-central-1.amazonaws.com/train-images-idx3-ubyte.gz\n",
      "Downloading http://fashion-mnist.s3-website.eu-central-1.amazonaws.com/train-images-idx3-ubyte.gz to ./data\\FashionMNIST\\raw\\train-images-idx3-ubyte.gz\n"
     ]
    },
    {
     "data": {
      "application/vnd.jupyter.widget-view+json": {
       "model_id": "922d87d2a5f24f8d854877b286a9534e",
       "version_major": 2,
       "version_minor": 0
      },
      "text/plain": [
       "  0%|          | 0/26421880 [00:00<?, ?it/s]"
      ]
     },
     "metadata": {},
     "output_type": "display_data"
    },
    {
     "name": "stdout",
     "output_type": "stream",
     "text": [
      "Extracting ./data\\FashionMNIST\\raw\\train-images-idx3-ubyte.gz to ./data\\FashionMNIST\\raw\n",
      "\n",
      "Downloading http://fashion-mnist.s3-website.eu-central-1.amazonaws.com/train-labels-idx1-ubyte.gz\n",
      "Downloading http://fashion-mnist.s3-website.eu-central-1.amazonaws.com/train-labels-idx1-ubyte.gz to ./data\\FashionMNIST\\raw\\train-labels-idx1-ubyte.gz\n"
     ]
    },
    {
     "data": {
      "application/vnd.jupyter.widget-view+json": {
       "model_id": "330835ce2cec456ab4ff0833aa1241f5",
       "version_major": 2,
       "version_minor": 0
      },
      "text/plain": [
       "  0%|          | 0/29515 [00:00<?, ?it/s]"
      ]
     },
     "metadata": {},
     "output_type": "display_data"
    },
    {
     "name": "stdout",
     "output_type": "stream",
     "text": [
      "Extracting ./data\\FashionMNIST\\raw\\train-labels-idx1-ubyte.gz to ./data\\FashionMNIST\\raw\n",
      "\n",
      "Downloading http://fashion-mnist.s3-website.eu-central-1.amazonaws.com/t10k-images-idx3-ubyte.gz\n",
      "Downloading http://fashion-mnist.s3-website.eu-central-1.amazonaws.com/t10k-images-idx3-ubyte.gz to ./data\\FashionMNIST\\raw\\t10k-images-idx3-ubyte.gz\n"
     ]
    },
    {
     "data": {
      "application/vnd.jupyter.widget-view+json": {
       "model_id": "ceaa098d36bb4e9cb3bb6bbb0a1b7ff4",
       "version_major": 2,
       "version_minor": 0
      },
      "text/plain": [
       "  0%|          | 0/4422102 [00:00<?, ?it/s]"
      ]
     },
     "metadata": {},
     "output_type": "display_data"
    },
    {
     "name": "stdout",
     "output_type": "stream",
     "text": [
      "Extracting ./data\\FashionMNIST\\raw\\t10k-images-idx3-ubyte.gz to ./data\\FashionMNIST\\raw\n",
      "\n",
      "Downloading http://fashion-mnist.s3-website.eu-central-1.amazonaws.com/t10k-labels-idx1-ubyte.gz\n",
      "Downloading http://fashion-mnist.s3-website.eu-central-1.amazonaws.com/t10k-labels-idx1-ubyte.gz to ./data\\FashionMNIST\\raw\\t10k-labels-idx1-ubyte.gz\n"
     ]
    },
    {
     "data": {
      "application/vnd.jupyter.widget-view+json": {
       "model_id": "c1915f742d6145cd868bfd1f1305ffbe",
       "version_major": 2,
       "version_minor": 0
      },
      "text/plain": [
       "  0%|          | 0/5148 [00:00<?, ?it/s]"
      ]
     },
     "metadata": {},
     "output_type": "display_data"
    },
    {
     "name": "stdout",
     "output_type": "stream",
     "text": [
      "Extracting ./data\\FashionMNIST\\raw\\t10k-labels-idx1-ubyte.gz to ./data\\FashionMNIST\\raw\n",
      "\n"
     ]
    }
   ],
   "source": [
    "# 데이터셋 설정\n",
    "\n",
    "### torchvision.datasets.FashionMNIST\n",
    "# https://pytorch.org/vision/stable/generated/torchvision.datasets.FashionMNIST.html#torchvision.datasets.FashionMNIST\n",
    "\n",
    "train_dataset = datasets.FashionMNIST(root='./data', \n",
    "                                      train=True, download=True,\n",
    "                                      transform=transforms.ToTensor())\n",
    "\n",
    "test_dataset = datasets.FashionMNIST(root='./data', train=False, \n",
    "                                     transform=transforms.ToTensor())"
   ]
  },
  {
   "cell_type": "code",
   "execution_count": 14,
   "metadata": {
    "id": "z4CxmNZknpjq"
   },
   "outputs": [],
   "source": [
    "# 데이터 로더 설정\n",
    "\n",
    "train_loader = DataLoader(train_dataset, batch_size=batch_size, shuffle=True)\n",
    "test_loader = DataLoader(test_dataset, batch_size=batch_size, shuffle=False)"
   ]
  },
  {
   "cell_type": "code",
   "execution_count": 15,
   "metadata": {
    "id": "2jqnhqfdnphg"
   },
   "outputs": [],
   "source": [
    "# Logistic regression 모델 생성\n",
    "\n",
    "class Logistic_Regression(nn.Module):\n",
    "    def __init__(self, in_dim, n_class):\n",
    "        super(Logistic_Regression, self).__init__()\n",
    "        self.logistic = nn.Linear(in_dim, n_class)\n",
    "\n",
    "    def forward(self, x):\n",
    "        out = self.logistic(x)\n",
    "        return out\n",
    "\n",
    "model = Logistic_Regression(28 * 28, 10)\n",
    "\n",
    "use_gpu = torch.cuda.is_available()\n",
    "if use_gpu:\n",
    "    model = model.cuda()"
   ]
  },
  {
   "cell_type": "code",
   "execution_count": 16,
   "metadata": {
    "id": "ak-n8E6enpfU"
   },
   "outputs": [],
   "source": [
    "# Loss (cost) function 설정\n",
    "\n",
    "criterion = nn.CrossEntropyLoss()"
   ]
  },
  {
   "cell_type": "code",
   "execution_count": 17,
   "metadata": {
    "id": "PC_teO8Znpde"
   },
   "outputs": [],
   "source": [
    "# Optimizer 설정\n",
    "\n",
    "optimizer = torch.optim.SGD(model.parameters(), lr=learning_rate)"
   ]
  },
  {
   "cell_type": "code",
   "execution_count": 18,
   "metadata": {
    "id": "NmhNSMbMnpbS"
   },
   "outputs": [
    {
     "name": "stdout",
     "output_type": "stream",
     "text": [
      "**********\n",
      "epoch 1\n",
      "[1/10] Loss: 2.078689, Acc: 0.358281\n",
      "[1/10] Loss: 1.884166, Acc: 0.494167\n",
      "[1/10] Loss: 1.742514, Acc: 0.548750\n",
      "Finish 1 epoch, Loss: 1.727816, Acc: 0.553172\n",
      "Test Loss: 1.369702, Acc: 0.654160\n",
      "Time:8.8 s\n",
      "**********\n",
      "epoch 2\n",
      "[2/10] Loss: 1.300922, Acc: 0.668490\n",
      "[2/10] Loss: 1.252645, Acc: 0.672630\n",
      "[2/10] Loss: 1.212086, Acc: 0.675868\n",
      "Finish 2 epoch, Loss: 1.207075, Acc: 0.676522\n",
      "Test Loss: 1.105009, Acc: 0.677249\n",
      "Time:9.8 s\n",
      "**********\n",
      "epoch 3\n",
      "[3/10] Loss: 1.062188, Acc: 0.693594\n",
      "[3/10] Loss: 1.048448, Acc: 0.691953\n",
      "[3/10] Loss: 1.029136, Acc: 0.696042\n",
      "Finish 3 epoch, Loss: 1.026897, Acc: 0.696045\n",
      "Test Loss: 0.983838, Acc: 0.693571\n",
      "Time:11.4 s\n",
      "**********\n",
      "epoch 4\n",
      "[4/10] Loss: 0.961246, Acc: 0.708438\n",
      "[4/10] Loss: 0.947826, Acc: 0.710964\n",
      "[4/10] Loss: 0.934997, Acc: 0.713698\n",
      "Finish 4 epoch, Loss: 0.932836, Acc: 0.714702\n",
      "Test Loss: 0.911852, Acc: 0.711186\n",
      "Time:13.2 s\n",
      "**********\n",
      "epoch 5\n",
      "[5/10] Loss: 0.896676, Acc: 0.721198\n",
      "[5/10] Loss: 0.883452, Acc: 0.726641\n",
      "[5/10] Loss: 0.873931, Acc: 0.729913\n",
      "Finish 5 epoch, Loss: 0.872536, Acc: 0.730610\n",
      "Test Loss: 0.862624, Acc: 0.724622\n",
      "Time:11.1 s\n",
      "**********\n",
      "epoch 6\n",
      "[6/10] Loss: 0.840356, Acc: 0.743906\n",
      "[6/10] Loss: 0.835135, Acc: 0.743021\n",
      "[6/10] Loss: 0.831503, Acc: 0.742847\n",
      "Finish 6 epoch, Loss: 0.829660, Acc: 0.743553\n",
      "Test Loss: 0.826324, Acc: 0.734275\n",
      "Time:10.2 s\n",
      "**********\n",
      "epoch 7\n",
      "[7/10] Loss: 0.811727, Acc: 0.746146\n",
      "[7/10] Loss: 0.801243, Acc: 0.753542\n",
      "[7/10] Loss: 0.798370, Acc: 0.753142\n",
      "Finish 7 epoch, Loss: 0.796934, Acc: 0.753631\n",
      "Test Loss: 0.798291, Acc: 0.742635\n",
      "Time:10.5 s\n",
      "**********\n",
      "epoch 8\n",
      "[8/10] Loss: 0.791702, Acc: 0.753750\n",
      "[8/10] Loss: 0.776464, Acc: 0.760208\n",
      "[8/10] Loss: 0.771560, Acc: 0.760590\n",
      "Finish 8 epoch, Loss: 0.770719, Acc: 0.760528\n",
      "Test Loss: 0.774648, Acc: 0.749602\n",
      "Time:10.1 s\n",
      "**********\n",
      "epoch 9\n",
      "[9/10] Loss: 0.757475, Acc: 0.762552\n",
      "[9/10] Loss: 0.753659, Acc: 0.765026\n",
      "[9/10] Loss: 0.749676, Acc: 0.766337\n",
      "Finish 9 epoch, Loss: 0.749030, Acc: 0.766991\n",
      "Test Loss: 0.754963, Acc: 0.753981\n",
      "Time:11.7 s\n",
      "**********\n",
      "epoch 10\n",
      "[10/10] Loss: 0.736711, Acc: 0.770573\n",
      "[10/10] Loss: 0.732820, Acc: 0.771484\n",
      "[10/10] Loss: 0.730795, Acc: 0.772014\n",
      "Finish 10 epoch, Loss: 0.730709, Acc: 0.771972\n",
      "Test Loss: 0.738289, Acc: 0.760748\n",
      "Time:29.3 s\n"
     ]
    }
   ],
   "source": [
    "# 모델 학습\n",
    "\n",
    "for epoch in range(num_epochs):\n",
    "    print('*' * 10)\n",
    "    print(f'epoch {epoch+1}')\n",
    "    \n",
    "    since = time.time()\n",
    "    running_loss = 0.0\n",
    "    running_acc = 0.0\n",
    "    \n",
    "    model.train()\n",
    "    for i, data in enumerate(train_loader, 1):\n",
    "        img, label = data\n",
    "        img = img.view(img.size(0), -1)  # 将图片展开成 28x28\n",
    "    \n",
    "        if use_gpu:\n",
    "            img = img.cuda()\n",
    "            label = label.cuda()\n",
    "    \n",
    "        # forward\n",
    "        out = model(img)\n",
    "    \n",
    "        # calculate error\n",
    "        loss = criterion(out, label)\n",
    "    \n",
    "        running_loss += loss.item()\n",
    "\n",
    "\n",
    "        _, pred = torch.max(out, 1)\n",
    "        running_acc += (pred==label).float().mean()\n",
    "    \n",
    "        # backprop\n",
    "        optimizer.zero_grad()\n",
    "        loss.backward()\n",
    "        optimizer.step()\n",
    "\n",
    "        if i % 300 == 0:\n",
    "            print(f'[{epoch+1}/{num_epochs}] Loss: {running_loss/i:.6f}, Acc: {running_acc/i:.6f}')\n",
    "    \n",
    "    print(f'Finish {epoch+1} epoch, Loss: {running_loss/i:.6f}, Acc: {running_acc/i:.6f}')\n",
    "\n",
    "    # 모델 평가 (test)    \n",
    "    model.eval()\n",
    "\n",
    "    eval_loss = 0.\n",
    "    eval_acc = 0.\n",
    "\n",
    "    for data in test_loader:\n",
    "        img, label = data\n",
    "        img = img.view(img.size(0), -1)\n",
    "\n",
    "        if use_gpu:\n",
    "            img = img.cuda()\n",
    "            label = label.cuda()\n",
    "        \n",
    "        with torch.no_grad():\n",
    "            out = model(img)\n",
    "            loss = criterion(out, label)\n",
    "        \n",
    "        eval_loss += loss.item()\n",
    "        _, pred = torch.max(out, 1)\n",
    "        eval_acc += (pred == label).float().mean()\n",
    "\n",
    "    print(f'Test Loss: {eval_loss/len(test_loader):.6f}, Acc: {eval_acc/len(test_loader):.6f}')\n",
    "    print(f'Time:{(time.time()-since):.1f} s')"
   ]
  },
  {
   "cell_type": "code",
   "execution_count": null,
   "metadata": {
    "id": "27HrxjibnpZK"
   },
   "outputs": [],
   "source": [
    "# 모델 저장 (즉, 학습으로 얻은 weights 를 저장)\n",
    "\n",
    "torch.save(model.state_dict(), './logstic.pth')"
   ]
  }
 ],
 "metadata": {
  "colab": {
   "provenance": []
  },
  "kernelspec": {
   "display_name": "Python 3 (ipykernel)",
   "language": "python",
   "name": "python3"
  },
  "language_info": {
   "codemirror_mode": {
    "name": "ipython",
    "version": 3
   },
   "file_extension": ".py",
   "mimetype": "text/x-python",
   "name": "python",
   "nbconvert_exporter": "python",
   "pygments_lexer": "ipython3",
   "version": "3.10.9"
  }
 },
 "nbformat": 4,
 "nbformat_minor": 1
}
