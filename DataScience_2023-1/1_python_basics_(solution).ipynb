{
 "cells": [
  {
   "cell_type": "markdown",
   "metadata": {
    "id": "snp4duXHfa9X"
   },
   "source": [
    "# 데이터사이언스 (0010085001)\n",
    "\n",
    "## Exercise 1: Python Basics\n",
    "\n",
    "In this excercise, we will cover basic Python\n",
    "* List, Dictionary, Function, Class"
   ]
  },
  {
   "cell_type": "markdown",
   "metadata": {
    "id": "tF1s4YuoBfhQ"
   },
   "source": [
    "### List\n",
    "A list is the Python equivalent of an array, but is resizeable and can contain elements of different types"
   ]
  },
  {
   "cell_type": "code",
   "execution_count": 1,
   "metadata": {
    "colab": {
     "base_uri": "https://localhost:8080/"
    },
    "id": "LMu05ix-BlC4",
    "outputId": "6596b62b-ea62-47ba-803c-eee69cc11b4f"
   },
   "outputs": [
    {
     "name": "stdout",
     "output_type": "stream",
     "text": [
      "2\n"
     ]
    }
   ],
   "source": [
    "#############################################################\n",
    "# General Usage\n",
    "#############################################################\n",
    "xs = [3, 1, 2]\n",
    "\n",
    "# Print the last indice\n",
    "# Negative indices count from the end of the list\n",
    "print(xs[-1])"
   ]
  },
  {
   "cell_type": "code",
   "execution_count": 2,
   "metadata": {
    "colab": {
     "base_uri": "https://localhost:8080/"
    },
    "id": "3SBjI1XhBpe4",
    "outputId": "2c03eec0-69ab-4f1b-c93e-c268a1a469a0"
   },
   "outputs": [
    {
     "name": "stdout",
     "output_type": "stream",
     "text": [
      "[3, 1, 2, 'bar']\n"
     ]
    }
   ],
   "source": [
    "# Add a new element to the end of the list\n",
    "xs.append('bar') \n",
    "print(xs)"
   ]
  },
  {
   "cell_type": "code",
   "execution_count": 3,
   "metadata": {
    "id": "XA0KdSR0Bqna"
   },
   "outputs": [
    {
     "name": "stdout",
     "output_type": "stream",
     "text": [
      "bar [3, 1, 2]\n"
     ]
    }
   ],
   "source": [
    "# Remove and return the last element of the list\n",
    "x = xs.pop()    \n",
    "print(x, xs)"
   ]
  },
  {
   "cell_type": "code",
   "execution_count": 2,
   "metadata": {
    "id": "HMWqcviMBquk"
   },
   "outputs": [
    {
     "name": "stdout",
     "output_type": "stream",
     "text": [
      "[0, 1, 2, 3, 4, 5]\n"
     ]
    }
   ],
   "source": [
    "#############################################################\n",
    "# Slicing\n",
    "#############################################################\n",
    "# Create a list containing [0, 1, 2, 3, 4, 5]\n",
    "# range is a built-in function that creates a list of integers\n",
    "nums = list(range(6))    \n",
    "print(nums)"
   ]
  },
  {
   "cell_type": "code",
   "execution_count": 5,
   "metadata": {
    "id": "Kg4nlw6bBqxD"
   },
   "outputs": [
    {
     "name": "stdout",
     "output_type": "stream",
     "text": [
      "[2, 3]\n"
     ]
    }
   ],
   "source": [
    "# Get a slice from index 2 to 4 (exclusive); prints \"[2, 3]\"\n",
    "print(nums[2:4])"
   ]
  },
  {
   "cell_type": "code",
   "execution_count": 6,
   "metadata": {
    "id": "YLoCMFVcBqzt"
   },
   "outputs": [
    {
     "name": "stdout",
     "output_type": "stream",
     "text": [
      "[2, 3, 4]\n"
     ]
    }
   ],
   "source": [
    "# Get a slice from index 2 to the end; prints \"[2, 3, 4]\"\n",
    "print(nums[2:])"
   ]
  },
  {
   "cell_type": "code",
   "execution_count": 7,
   "metadata": {
    "id": "AT0oGlvABq12"
   },
   "outputs": [
    {
     "name": "stdout",
     "output_type": "stream",
     "text": [
      "[0, 1]\n"
     ]
    }
   ],
   "source": [
    "# Get a slice from the start to index 2 (exclusive); prints \"[0, 1]\"\n",
    "print(nums[:2])"
   ]
  },
  {
   "cell_type": "code",
   "execution_count": 8,
   "metadata": {
    "id": "EZ-rBb4QBvB-"
   },
   "outputs": [
    {
     "name": "stdout",
     "output_type": "stream",
     "text": [
      "[0, 1, 2, 3, 4]\n"
     ]
    }
   ],
   "source": [
    "# Get a slice of the whole list; prints [\"0, 1, 2, 3, 4]\"\n",
    "print(nums[:])"
   ]
  },
  {
   "cell_type": "code",
   "execution_count": 9,
   "metadata": {
    "id": "GoIQcfHoBvEW"
   },
   "outputs": [
    {
     "name": "stdout",
     "output_type": "stream",
     "text": [
      "[0, 1, 8, 9, 4]\n"
     ]
    }
   ],
   "source": [
    "# Assign a new sublist to a slice; change nums into [0, 1, 8, 9, 4]\n",
    "nums[2:4] = [8, 9] \n",
    "print(nums)"
   ]
  },
  {
   "cell_type": "code",
   "execution_count": 10,
   "metadata": {
    "id": "mdHbz6gXBvG1"
   },
   "outputs": [
    {
     "name": "stdout",
     "output_type": "stream",
     "text": [
      "cat\n",
      "dog\n",
      "monkey\n"
     ]
    }
   ],
   "source": [
    "#############################################################\n",
    "# Loop & Enumerate\n",
    "#############################################################\n",
    "animals = ['cat', 'dog', 'monkey']\n",
    "\n",
    "# Loop over and print the elements of the list:\n",
    "for animal in animals:\n",
    "    print(animal)"
   ]
  },
  {
   "cell_type": "code",
   "execution_count": 11,
   "metadata": {
    "id": "2ixeXK_1gUYq"
   },
   "outputs": [
    {
     "name": "stdout",
     "output_type": "stream",
     "text": [
      "#1: cat\n",
      "#2: dog\n",
      "#3: monkey\n"
     ]
    }
   ],
   "source": [
    "# Loop over and print the index and value of each elements of the list:\n",
    "for idx, animal in enumerate(animals):\n",
    "    print('#%d: %s' % (idx + 1, animal))"
   ]
  },
  {
   "cell_type": "code",
   "execution_count": 12,
   "metadata": {
    "id": "s-hZw8g7BvJM"
   },
   "outputs": [
    {
     "name": "stdout",
     "output_type": "stream",
     "text": [
      "[0, 1, 4, 9, 16]\n"
     ]
    }
   ],
   "source": [
    "#############################################################\n",
    "# List comprehensions\n",
    "#############################################################\n",
    "nums = [0, 1, 2, 3, 4]\n",
    "squares = []\n",
    "for x in nums:\n",
    "    squares.append(x ** 2)\n",
    "print(squares)"
   ]
  },
  {
   "cell_type": "code",
   "execution_count": 13,
   "metadata": {
    "id": "W6YH89wsBvL0"
   },
   "outputs": [
    {
     "name": "stdout",
     "output_type": "stream",
     "text": [
      "[0, 1, 4, 9, 16]\n"
     ]
    }
   ],
   "source": [
    "# Make this code simpler using a list comprehension\n",
    "squares = [x ** 2 for x in nums]\n",
    "print(squares)"
   ]
  },
  {
   "cell_type": "code",
   "execution_count": 14,
   "metadata": {
    "id": "o2NDYta-BvOS"
   },
   "outputs": [
    {
     "name": "stdout",
     "output_type": "stream",
     "text": [
      "[0, 4, 16]\n"
     ]
    }
   ],
   "source": [
    "# Make a list of squares of even numbers in the list\n",
    "# List comprehensions can also contain conditions\n",
    "even_squares = [x ** 2 for x in nums if x % 2 == 0]\n",
    "print(even_squares)"
   ]
  },
  {
   "cell_type": "markdown",
   "metadata": {
    "id": "MbL6l1JbBlT3"
   },
   "source": [
    "### Dictionary\n",
    "A dictionary stores (key, value) pairs"
   ]
  },
  {
   "cell_type": "code",
   "execution_count": 15,
   "metadata": {
    "id": "iawPtaTPBlrn"
   },
   "outputs": [],
   "source": [
    "#############################################################\n",
    "# General Usage\n",
    "#############################################################\n",
    "# Create a dictionary containing the followings key:value pairs\n",
    "# cat:cute  /  dog:furry\n",
    "d = {'cat': 'cute', 'dog': 'furry'}"
   ]
  },
  {
   "cell_type": "code",
   "execution_count": 16,
   "metadata": {
    "id": "J78BR-PXB7Z7"
   },
   "outputs": [
    {
     "name": "stdout",
     "output_type": "stream",
     "text": [
      "cute\n"
     ]
    }
   ],
   "source": [
    "# print an entry 'cat' from a dictionary; prints 'cute'\n",
    "print(d['cat'])"
   ]
  },
  {
   "cell_type": "code",
   "execution_count": 17,
   "metadata": {
    "id": "GOTRjlpuB7cO"
   },
   "outputs": [],
   "source": [
    "# Add another key:value pair\n",
    "# fish:wet\n",
    "d['fish'] = 'wet'"
   ]
  },
  {
   "cell_type": "code",
   "execution_count": 18,
   "metadata": {
    "id": "p78csY1RB7eW"
   },
   "outputs": [
    {
     "name": "stdout",
     "output_type": "stream",
     "text": [
      "wet\n",
      "N/A\n"
     ]
    }
   ],
   "source": [
    "# Get an element with a default; prints \"N/A\" if not exists\n",
    "# fish / monkey\n",
    "print(d.get('fish', 'N/A'))    \n",
    "print(d.get('monkey', 'N/A'))"
   ]
  },
  {
   "cell_type": "code",
   "execution_count": 19,
   "metadata": {
    "id": "VPoNnuPYB7gt"
   },
   "outputs": [
    {
     "name": "stdout",
     "output_type": "stream",
     "text": [
      "{'cat': 'cute', 'dog': 'furry'}\n"
     ]
    }
   ],
   "source": [
    "# Remove 'fish' from the dictionary\n",
    "del d['fish']       \n",
    "print(d)"
   ]
  },
  {
   "cell_type": "code",
   "execution_count": 20,
   "metadata": {
    "id": "e9HZ7wpkB7jh"
   },
   "outputs": [
    {
     "name": "stdout",
     "output_type": "stream",
     "text": [
      "A person has 2 legs\n",
      "A cat has 4 legs\n",
      "A spider has 8 legs\n"
     ]
    }
   ],
   "source": [
    "#############################################################\n",
    "# Loop & Dictionary comprehensions\n",
    "#############################################################\n",
    "d = {'person': 2, 'cat': 4, 'spider': 8}\n",
    "\n",
    "# Loop over keys of the dictionary\n",
    "# Access the values with the keys\n",
    "for animal in d:\n",
    "    legs = d[animal]\n",
    "    print('A %s has %d legs' % (animal, legs))"
   ]
  },
  {
   "cell_type": "code",
   "execution_count": 21,
   "metadata": {
    "id": "x1imJt6MB7lq"
   },
   "outputs": [
    {
     "name": "stdout",
     "output_type": "stream",
     "text": [
      "A person has 2 legs\n",
      "A cat has 4 legs\n",
      "A spider has 8 legs\n"
     ]
    }
   ],
   "source": [
    "# Loop over keys and values of the dictionary\n",
    "for animal, legs in d.items():\n",
    "    print('A %s has %d legs' % (animal, legs))"
   ]
  },
  {
   "cell_type": "code",
   "execution_count": 22,
   "metadata": {
    "id": "Bys5d_ZbB7n_"
   },
   "outputs": [
    {
     "name": "stdout",
     "output_type": "stream",
     "text": [
      "{0: 0, 2: 4, 4: 16}\n"
     ]
    }
   ],
   "source": [
    "# Make a dictionary of key:squares of even numbers in the list\n",
    "# Dictionary comprehensions can also contain conditions\n",
    "nums = [0, 1, 2, 3, 4]\n",
    "even_num_to_square = {x: x ** 2 for x in nums if x % 2 == 0}\n",
    "print(even_num_to_square)"
   ]
  },
  {
   "cell_type": "markdown",
   "metadata": {
    "id": "QkbXBievBl_u"
   },
   "source": [
    "### Function\n",
    "Python functions are defined using the `def` keyword"
   ]
  },
  {
   "cell_type": "code",
   "execution_count": 23,
   "metadata": {
    "id": "EJjxva_-Txdh"
   },
   "outputs": [
    {
     "name": "stdout",
     "output_type": "stream",
     "text": [
      "negative\n",
      "zero\n",
      "positive\n"
     ]
    }
   ],
   "source": [
    "#############################################################\n",
    "# General Usage\n",
    "#############################################################\n",
    "# Define a function called sign with argument <x>\n",
    "# print 'positive' if x > 0\n",
    "# print 'negative' if x < 0\n",
    "# print 'zero' if x = 0\n",
    "def sign(x):\n",
    "    if x > 0:\n",
    "        return 'positive'\n",
    "    elif x < 0:\n",
    "        return 'negative'\n",
    "    else:\n",
    "        return 'zero'\n",
    "\n",
    "for x in [-1, 0, 1]:\n",
    "    print(sign(x))"
   ]
  },
  {
   "cell_type": "code",
   "execution_count": 24,
   "metadata": {
    "id": "XmDPH1_ygkOB"
   },
   "outputs": [
    {
     "name": "stdout",
     "output_type": "stream",
     "text": [
      "Hello, Bob!\n",
      "HELLO, FRED\n"
     ]
    }
   ],
   "source": [
    "#############################################################\n",
    "# Optional keyword argument\n",
    "#############################################################\n",
    "# Define a function called hello takes\n",
    "# arguement <name>\n",
    "# optional argument <loud> with default value False\n",
    "# print \"HELLO, [name in large letter]\" if loud = True\n",
    "# print \"HELLO, [name in given form]\" if loud = False\n",
    "def hello(name, loud=False):\n",
    "    if loud:\n",
    "        print('HELLO, %s' % name.upper())\n",
    "    else:\n",
    "        print('Hello, %s!' % name)\n",
    "        \n",
    "hello('Bob')\n",
    "hello('Fred', loud=True)"
   ]
  }
 ],
 "metadata": {
  "colab": {
   "provenance": []
  },
  "kernelspec": {
   "display_name": "Python 3 (ipykernel)",
   "language": "python",
   "name": "python3"
  },
  "language_info": {
   "codemirror_mode": {
    "name": "ipython",
    "version": 3
   },
   "file_extension": ".py",
   "mimetype": "text/x-python",
   "name": "python",
   "nbconvert_exporter": "python",
   "pygments_lexer": "ipython3",
   "version": "3.10.9"
  }
 },
 "nbformat": 4,
 "nbformat_minor": 1
}
